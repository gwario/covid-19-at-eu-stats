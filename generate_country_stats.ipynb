{
 "cells": [
  {
   "cell_type": "markdown",
   "metadata": {},
   "source": [
    "# Generate population-only statistics for countries of interest\n",
    "## Load all country data"
   ]
  },
  {
   "cell_type": "code",
   "execution_count": 3,
   "metadata": {},
   "outputs": [
    {
     "name": "stdout",
     "output_type": "stream",
     "text": [
      "Available data:\n",
      "['Population ages 80 and above, male (% of male population) in 2018'\n",
      " 'Population ages 10-14, female (% of female population) in 2018'\n",
      " 'Population density (people per sq. km of land area) in 2018'\n",
      " 'Population ages 20-24, male (% of male population) in 2018'\n",
      " 'Population ages 20-24, female (% of female population) in 2018'\n",
      " 'Population ages 60-64, male (% of male population) in 2018'\n",
      " 'Population ages 70-74, female (% of female population) in 2018'\n",
      " 'Population ages 65-69, male (% of male population) in 2018'\n",
      " 'Population ages 10-14, male (% of male population) in 2018'\n",
      " 'Population ages 75-79, male (% of male population) in 2018'\n",
      " 'Population, total in 2018'\n",
      " 'Population ages 65-69, female (% of female population) in 2018'\n",
      " 'Population ages 75-79, female (% of female population) in 2018'\n",
      " 'Population ages 30-34, male (% of male population) in 2018'\n",
      " 'Population ages 55-59, female (% of female population) in 2018'\n",
      " 'Population ages 25-29, male (% of male population) in 2018'\n",
      " 'Population ages 00-04, male (% of male population) in 2018'\n",
      " 'Population ages 05-09, male (% of male population) in 2018'\n",
      " 'Population, male (% of total population) in 2018'\n",
      " 'Population ages 05-09, female (% of female population) in 2018'\n",
      " 'Population ages 25-29, female (% of female population) in 2018'\n",
      " 'Population ages 40-44, male (% of male population) in 2018'\n",
      " 'Population ages 60-64, female (% of female population) in 2018'\n",
      " 'Population ages 70-74, male (% of male population) in 2018'\n",
      " 'Population ages 40-44, female (% of female population) in 2018'\n",
      " 'Population ages 00-04, female (% of female population) in 2018'\n",
      " 'Population ages 50-54, female (% of female population) in 2018'\n",
      " 'Population ages 45-49, female (% of female population) in 2018'\n",
      " 'Population ages 55-59, male (% of male population) in 2018'\n",
      " 'Population ages 35-39, male (% of male population) in 2018'\n",
      " 'Population ages 15-19, male (% of male population) in 2018'\n",
      " 'Population ages 50-54, male (% of male population) in 2018'\n",
      " 'Population ages 35-39, female (% of female population) in 2018'\n",
      " 'Population ages 30-34, female (% of female population) in 2018'\n",
      " 'Population ages 45-49, male (% of male population) in 2018'\n",
      " 'Population, female (% of total population) in 2018'\n",
      " 'Population ages 80 and above, female (% of female population) in 2018'\n",
      " 'Population ages 15-19, female (% of female population) in 2018']\n",
      "['Aruba' 'Afghanistan' 'Angola' 'Albania' 'Arab World'\n",
      " 'United Arab Emirates' 'Argentina' 'Armenia' 'Antigua and Barbuda'\n",
      " 'Australia' 'Austria' 'Azerbaijan' 'Burundi' 'Belgium' 'Benin'\n",
      " 'Burkina Faso' 'Bangladesh' 'Bulgaria' 'Bahrain' 'Bahamas, The'\n",
      " 'Bosnia and Herzegovina' 'Belarus' 'Belize' 'Bolivia' 'Brazil' 'Barbados'\n",
      " 'Brunei Darussalam' 'Bhutan' 'Botswana' 'Central African Republic'\n",
      " 'Canada' 'Central Europe and the Baltics' 'Switzerland' 'Channel Islands'\n",
      " 'Chile' 'China' \"Cote d'Ivoire\" 'Cameroon' 'Congo, Dem. Rep.'\n",
      " 'Congo, Rep.' 'Colombia' 'Comoros' 'Cabo Verde' 'Costa Rica'\n",
      " 'Caribbean small states' 'Cuba' 'Cyprus' 'Czech Republic' 'Germany'\n",
      " 'Djibouti' 'Denmark' 'Dominican Republic' 'Algeria'\n",
      " 'East Asia & Pacific (excluding high income)'\n",
      " 'Early-demographic dividend' 'East Asia & Pacific'\n",
      " 'Europe & Central Asia (excluding high income)' 'Europe & Central Asia'\n",
      " 'Ecuador' 'Egypt, Arab Rep.' 'Euro area' 'Spain' 'Estonia' 'Ethiopia'\n",
      " 'European Union' 'Fragile and conflict affected situations' 'Finland'\n",
      " 'Fiji' 'France' 'Micronesia, Fed. Sts.' 'Gabon' 'UK' 'Georgia' 'Ghana'\n",
      " 'Guinea' 'Gambia, The' 'Guinea-Bissau' 'Equatorial Guinea' 'Greece'\n",
      " 'Grenada' 'Guatemala' 'Guam' 'Guyana' 'High income'\n",
      " 'Hong Kong SAR, China' 'Honduras'\n",
      " 'Heavily indebted poor countries (HIPC)' 'Croatia' 'Haiti' 'Hungary'\n",
      " 'IBRD only' 'IDA & IBRD total' 'IDA total' 'IDA blend' 'Indonesia'\n",
      " 'IDA only' 'India' 'Ireland' 'Iran, Islamic Rep.' 'Iraq' 'Iceland'\n",
      " 'Israel' 'Italy' 'Jamaica' 'Jordan' 'Japan' 'Kazakhstan' 'Kenya'\n",
      " 'Kyrgyz Republic' 'Cambodia' 'Kiribati' 'Korea, Rep.' 'Kuwait'\n",
      " 'Latin America & Caribbean (excluding high income)' 'Lao PDR' 'Lebanon'\n",
      " 'Liberia' 'Libya' 'St. Lucia' 'Latin America & Caribbean'\n",
      " 'Least developed countries: UN classification' 'Low income' 'Sri Lanka'\n",
      " 'Lower middle income' 'Low & middle income' 'Lesotho'\n",
      " 'Late-demographic dividend' 'Lithuania' 'Luxembourg' 'Latvia'\n",
      " 'Macao SAR, China' 'Morocco' 'Moldova' 'Madagascar' 'Maldives'\n",
      " 'Middle East & North Africa' 'Mexico' 'Middle income' 'North Macedonia'\n",
      " 'Mali' 'Malta' 'Myanmar'\n",
      " 'Middle East & North Africa (excluding high income)' 'Montenegro'\n",
      " 'Mongolia' 'Mozambique' 'Mauritania' 'Mauritius' 'Malawi' 'Malaysia'\n",
      " 'North America' 'Namibia' 'New Caledonia' 'Niger' 'Nigeria' 'Nicaragua'\n",
      " 'Netherlands' 'Norway' 'Nepal' 'New Zealand' 'OECD members' 'Oman'\n",
      " 'Other small states' 'Pakistan' 'Panama' 'Peru' 'Philippines'\n",
      " 'Papua New Guinea' 'Poland' 'Pre-demographic dividend' 'Puerto Rico'\n",
      " 'Korea, Dem. People’s Rep.' 'Portugal' 'Paraguay' 'West Bank and Gaza'\n",
      " 'Pacific island small states' 'Post-demographic dividend'\n",
      " 'French Polynesia' 'Qatar' 'Romania' 'Russian Federation' 'Rwanda'\n",
      " 'South Asia' 'Saudi Arabia' 'Senegal' 'Singapore' 'Solomon Islands'\n",
      " 'Sierra Leone' 'El Salvador' 'Somalia' 'Serbia'\n",
      " 'Sub-Saharan Africa (excluding high income)' 'Sub-Saharan Africa'\n",
      " 'Small states' 'Sao Tome and Principe' 'Suriname' 'Slovakia' 'Slovenia'\n",
      " 'Sweden' 'Eswatini' 'Seychelles' 'Syria' 'Chad'\n",
      " 'East Asia & Pacific (IDA & IBRD countries)'\n",
      " 'Europe & Central Asia (IDA & IBRD countries)' 'Togo' 'Thailand'\n",
      " 'Tajikistan' 'Turkmenistan'\n",
      " 'Latin America & the Caribbean (IDA & IBRD countries)' 'Timor-Leste'\n",
      " 'Middle East & North Africa (IDA & IBRD countries)' 'Tonga'\n",
      " 'South Asia (IDA & IBRD)' 'Sub-Saharan Africa (IDA & IBRD countries)'\n",
      " 'Trinidad and Tobago' 'Tunisia' 'Turkey' 'Tanzania' 'Uganda' 'Ukraine'\n",
      " 'Upper middle income' 'Uruguay' 'US' 'Uzbekistan'\n",
      " 'St. Vincent and the Grenadines' 'Venezuela, RB' 'Virgin Islands (U.S.)'\n",
      " 'Vietnam' 'Vanuatu' 'World' 'Samoa' 'Yemen, Rep.' 'South Africa' 'Zambia'\n",
      " 'Zimbabwe']\n"
     ]
    }
   ],
   "source": [
    "import pandas\n",
    "import data\n",
    "\n",
    "df_country_stats = pandas.read_csv(data.data_dir+data.worldbank_data_filename, index_col=0)\n",
    "df_country_stats.dropna(inplace=True)\n",
    "print(\"Available data:\")\n",
    "print(df_country_stats.columns.values)\n",
    "print(df_country_stats.index.values)"
   ]
  },
  {
   "cell_type": "markdown",
   "metadata": {},
   "source": [
    "## Drop all unnecessary data"
   ]
  },
  {
   "cell_type": "code",
   "execution_count": 4,
   "metadata": {},
   "outputs": [],
   "source": [
    "# get available countries close to austria\n",
    "austria_most_connected_available = list(set(data.most_connected_austria) & set(df_country_stats.index.values))\n",
    "\n",
    "# get available countries eu + interesting\n",
    "eu_plus_available = list(set(data.all_countries_eu_plus) & set(df_country_stats.index.values))"
   ]
  },
  {
   "cell_type": "markdown",
   "metadata": {},
   "source": [
    "## Create output directory"
   ]
  },
  {
   "cell_type": "code",
   "execution_count": 5,
   "metadata": {},
   "outputs": [],
   "source": [
    "import os\n",
    "\n",
    "directory = \"{}{}/\".format(data.export_dir, 'population_stats')\n",
    "if not os.path.exists(directory):\n",
    "    os.makedirs(directory)"
   ]
  },
  {
   "cell_type": "markdown",
   "metadata": {},
   "source": [
    "## Create and save country only statistics"
   ]
  },
  {
   "cell_type": "code",
   "execution_count": 18,
   "metadata": {},
   "outputs": [],
   "source": [
    "selected_countries = eu_plus_available\n",
    "#selected_countries = austria_most_connected_available"
   ]
  },
  {
   "cell_type": "markdown",
   "metadata": {},
   "source": [
    "### Population Density"
   ]
  },
  {
   "cell_type": "code",
   "execution_count": 24,
   "metadata": {},
   "outputs": [
    {
     "data": {
      "application/vnd.plotly.v1+json": {
       "config": {
        "plotlyServerURL": "https://plot.ly"
       },
       "data": [
        {
         "type": "bar",
         "x": [
          "Malta",
          "Netherlands",
          "Belgium",
          "Japan",
          "UK",
          "Luxembourg",
          "Germany",
          "Switzerland",
          "Italy",
          "China",
          "Denmark",
          "Czech Republic",
          "Cyprus",
          "Poland",
          "France",
          "Slovakia",
          "Portugal",
          "Hungary",
          "Austria",
          "Turkey",
          "Slovenia",
          "Spain",
          "Syria",
          "Romania",
          "Greece",
          "Serbia",
          "Croatia",
          "Ireland",
          "Bosnia and Herzegovina",
          "Bulgaria",
          "Lithuania",
          "US",
          "Latvia",
          "Estonia",
          "Sweden",
          "Finland"
         ],
         "y": [
          1511,
          511,
          377,
          347,
          275,
          250,
          237,
          216,
          205,
          148,
          138,
          138,
          129,
          124,
          122,
          113,
          112,
          108,
          107,
          107,
          103,
          94,
          92,
          85,
          83,
          80,
          73,
          70,
          65,
          65,
          45,
          36,
          31,
          30,
          25,
          18
         ]
        }
       ],
       "layout": {
        "autosize": true,
        "template": {
         "data": {
          "bar": [
           {
            "error_x": {
             "color": "#2a3f5f"
            },
            "error_y": {
             "color": "#2a3f5f"
            },
            "marker": {
             "line": {
              "color": "#E5ECF6",
              "width": 0.5
             }
            },
            "type": "bar"
           }
          ],
          "barpolar": [
           {
            "marker": {
             "line": {
              "color": "#E5ECF6",
              "width": 0.5
             }
            },
            "type": "barpolar"
           }
          ],
          "carpet": [
           {
            "aaxis": {
             "endlinecolor": "#2a3f5f",
             "gridcolor": "white",
             "linecolor": "white",
             "minorgridcolor": "white",
             "startlinecolor": "#2a3f5f"
            },
            "baxis": {
             "endlinecolor": "#2a3f5f",
             "gridcolor": "white",
             "linecolor": "white",
             "minorgridcolor": "white",
             "startlinecolor": "#2a3f5f"
            },
            "type": "carpet"
           }
          ],
          "choropleth": [
           {
            "colorbar": {
             "outlinewidth": 0,
             "ticks": ""
            },
            "type": "choropleth"
           }
          ],
          "contour": [
           {
            "colorbar": {
             "outlinewidth": 0,
             "ticks": ""
            },
            "colorscale": [
             [
              0,
              "#0d0887"
             ],
             [
              0.1111111111111111,
              "#46039f"
             ],
             [
              0.2222222222222222,
              "#7201a8"
             ],
             [
              0.3333333333333333,
              "#9c179e"
             ],
             [
              0.4444444444444444,
              "#bd3786"
             ],
             [
              0.5555555555555556,
              "#d8576b"
             ],
             [
              0.6666666666666666,
              "#ed7953"
             ],
             [
              0.7777777777777778,
              "#fb9f3a"
             ],
             [
              0.8888888888888888,
              "#fdca26"
             ],
             [
              1,
              "#f0f921"
             ]
            ],
            "type": "contour"
           }
          ],
          "contourcarpet": [
           {
            "colorbar": {
             "outlinewidth": 0,
             "ticks": ""
            },
            "type": "contourcarpet"
           }
          ],
          "heatmap": [
           {
            "colorbar": {
             "outlinewidth": 0,
             "ticks": ""
            },
            "colorscale": [
             [
              0,
              "#0d0887"
             ],
             [
              0.1111111111111111,
              "#46039f"
             ],
             [
              0.2222222222222222,
              "#7201a8"
             ],
             [
              0.3333333333333333,
              "#9c179e"
             ],
             [
              0.4444444444444444,
              "#bd3786"
             ],
             [
              0.5555555555555556,
              "#d8576b"
             ],
             [
              0.6666666666666666,
              "#ed7953"
             ],
             [
              0.7777777777777778,
              "#fb9f3a"
             ],
             [
              0.8888888888888888,
              "#fdca26"
             ],
             [
              1,
              "#f0f921"
             ]
            ],
            "type": "heatmap"
           }
          ],
          "heatmapgl": [
           {
            "colorbar": {
             "outlinewidth": 0,
             "ticks": ""
            },
            "colorscale": [
             [
              0,
              "#0d0887"
             ],
             [
              0.1111111111111111,
              "#46039f"
             ],
             [
              0.2222222222222222,
              "#7201a8"
             ],
             [
              0.3333333333333333,
              "#9c179e"
             ],
             [
              0.4444444444444444,
              "#bd3786"
             ],
             [
              0.5555555555555556,
              "#d8576b"
             ],
             [
              0.6666666666666666,
              "#ed7953"
             ],
             [
              0.7777777777777778,
              "#fb9f3a"
             ],
             [
              0.8888888888888888,
              "#fdca26"
             ],
             [
              1,
              "#f0f921"
             ]
            ],
            "type": "heatmapgl"
           }
          ],
          "histogram": [
           {
            "marker": {
             "colorbar": {
              "outlinewidth": 0,
              "ticks": ""
             }
            },
            "type": "histogram"
           }
          ],
          "histogram2d": [
           {
            "colorbar": {
             "outlinewidth": 0,
             "ticks": ""
            },
            "colorscale": [
             [
              0,
              "#0d0887"
             ],
             [
              0.1111111111111111,
              "#46039f"
             ],
             [
              0.2222222222222222,
              "#7201a8"
             ],
             [
              0.3333333333333333,
              "#9c179e"
             ],
             [
              0.4444444444444444,
              "#bd3786"
             ],
             [
              0.5555555555555556,
              "#d8576b"
             ],
             [
              0.6666666666666666,
              "#ed7953"
             ],
             [
              0.7777777777777778,
              "#fb9f3a"
             ],
             [
              0.8888888888888888,
              "#fdca26"
             ],
             [
              1,
              "#f0f921"
             ]
            ],
            "type": "histogram2d"
           }
          ],
          "histogram2dcontour": [
           {
            "colorbar": {
             "outlinewidth": 0,
             "ticks": ""
            },
            "colorscale": [
             [
              0,
              "#0d0887"
             ],
             [
              0.1111111111111111,
              "#46039f"
             ],
             [
              0.2222222222222222,
              "#7201a8"
             ],
             [
              0.3333333333333333,
              "#9c179e"
             ],
             [
              0.4444444444444444,
              "#bd3786"
             ],
             [
              0.5555555555555556,
              "#d8576b"
             ],
             [
              0.6666666666666666,
              "#ed7953"
             ],
             [
              0.7777777777777778,
              "#fb9f3a"
             ],
             [
              0.8888888888888888,
              "#fdca26"
             ],
             [
              1,
              "#f0f921"
             ]
            ],
            "type": "histogram2dcontour"
           }
          ],
          "mesh3d": [
           {
            "colorbar": {
             "outlinewidth": 0,
             "ticks": ""
            },
            "type": "mesh3d"
           }
          ],
          "parcoords": [
           {
            "line": {
             "colorbar": {
              "outlinewidth": 0,
              "ticks": ""
             }
            },
            "type": "parcoords"
           }
          ],
          "pie": [
           {
            "automargin": true,
            "type": "pie"
           }
          ],
          "scatter": [
           {
            "marker": {
             "colorbar": {
              "outlinewidth": 0,
              "ticks": ""
             }
            },
            "type": "scatter"
           }
          ],
          "scatter3d": [
           {
            "line": {
             "colorbar": {
              "outlinewidth": 0,
              "ticks": ""
             }
            },
            "marker": {
             "colorbar": {
              "outlinewidth": 0,
              "ticks": ""
             }
            },
            "type": "scatter3d"
           }
          ],
          "scattercarpet": [
           {
            "marker": {
             "colorbar": {
              "outlinewidth": 0,
              "ticks": ""
             }
            },
            "type": "scattercarpet"
           }
          ],
          "scattergeo": [
           {
            "marker": {
             "colorbar": {
              "outlinewidth": 0,
              "ticks": ""
             }
            },
            "type": "scattergeo"
           }
          ],
          "scattergl": [
           {
            "marker": {
             "colorbar": {
              "outlinewidth": 0,
              "ticks": ""
             }
            },
            "type": "scattergl"
           }
          ],
          "scattermapbox": [
           {
            "marker": {
             "colorbar": {
              "outlinewidth": 0,
              "ticks": ""
             }
            },
            "type": "scattermapbox"
           }
          ],
          "scatterpolar": [
           {
            "marker": {
             "colorbar": {
              "outlinewidth": 0,
              "ticks": ""
             }
            },
            "type": "scatterpolar"
           }
          ],
          "scatterpolargl": [
           {
            "marker": {
             "colorbar": {
              "outlinewidth": 0,
              "ticks": ""
             }
            },
            "type": "scatterpolargl"
           }
          ],
          "scatterternary": [
           {
            "marker": {
             "colorbar": {
              "outlinewidth": 0,
              "ticks": ""
             }
            },
            "type": "scatterternary"
           }
          ],
          "surface": [
           {
            "colorbar": {
             "outlinewidth": 0,
             "ticks": ""
            },
            "colorscale": [
             [
              0,
              "#0d0887"
             ],
             [
              0.1111111111111111,
              "#46039f"
             ],
             [
              0.2222222222222222,
              "#7201a8"
             ],
             [
              0.3333333333333333,
              "#9c179e"
             ],
             [
              0.4444444444444444,
              "#bd3786"
             ],
             [
              0.5555555555555556,
              "#d8576b"
             ],
             [
              0.6666666666666666,
              "#ed7953"
             ],
             [
              0.7777777777777778,
              "#fb9f3a"
             ],
             [
              0.8888888888888888,
              "#fdca26"
             ],
             [
              1,
              "#f0f921"
             ]
            ],
            "type": "surface"
           }
          ],
          "table": [
           {
            "cells": {
             "fill": {
              "color": "#EBF0F8"
             },
             "line": {
              "color": "white"
             }
            },
            "header": {
             "fill": {
              "color": "#C8D4E3"
             },
             "line": {
              "color": "white"
             }
            },
            "type": "table"
           }
          ]
         },
         "layout": {
          "annotationdefaults": {
           "arrowcolor": "#2a3f5f",
           "arrowhead": 0,
           "arrowwidth": 1
          },
          "coloraxis": {
           "colorbar": {
            "outlinewidth": 0,
            "ticks": ""
           }
          },
          "colorscale": {
           "diverging": [
            [
             0,
             "#8e0152"
            ],
            [
             0.1,
             "#c51b7d"
            ],
            [
             0.2,
             "#de77ae"
            ],
            [
             0.3,
             "#f1b6da"
            ],
            [
             0.4,
             "#fde0ef"
            ],
            [
             0.5,
             "#f7f7f7"
            ],
            [
             0.6,
             "#e6f5d0"
            ],
            [
             0.7,
             "#b8e186"
            ],
            [
             0.8,
             "#7fbc41"
            ],
            [
             0.9,
             "#4d9221"
            ],
            [
             1,
             "#276419"
            ]
           ],
           "sequential": [
            [
             0,
             "#0d0887"
            ],
            [
             0.1111111111111111,
             "#46039f"
            ],
            [
             0.2222222222222222,
             "#7201a8"
            ],
            [
             0.3333333333333333,
             "#9c179e"
            ],
            [
             0.4444444444444444,
             "#bd3786"
            ],
            [
             0.5555555555555556,
             "#d8576b"
            ],
            [
             0.6666666666666666,
             "#ed7953"
            ],
            [
             0.7777777777777778,
             "#fb9f3a"
            ],
            [
             0.8888888888888888,
             "#fdca26"
            ],
            [
             1,
             "#f0f921"
            ]
           ],
           "sequentialminus": [
            [
             0,
             "#0d0887"
            ],
            [
             0.1111111111111111,
             "#46039f"
            ],
            [
             0.2222222222222222,
             "#7201a8"
            ],
            [
             0.3333333333333333,
             "#9c179e"
            ],
            [
             0.4444444444444444,
             "#bd3786"
            ],
            [
             0.5555555555555556,
             "#d8576b"
            ],
            [
             0.6666666666666666,
             "#ed7953"
            ],
            [
             0.7777777777777778,
             "#fb9f3a"
            ],
            [
             0.8888888888888888,
             "#fdca26"
            ],
            [
             1,
             "#f0f921"
            ]
           ]
          },
          "colorway": [
           "#636efa",
           "#EF553B",
           "#00cc96",
           "#ab63fa",
           "#FFA15A",
           "#19d3f3",
           "#FF6692",
           "#B6E880",
           "#FF97FF",
           "#FECB52"
          ],
          "font": {
           "color": "#2a3f5f"
          },
          "geo": {
           "bgcolor": "white",
           "lakecolor": "white",
           "landcolor": "#E5ECF6",
           "showlakes": true,
           "showland": true,
           "subunitcolor": "white"
          },
          "hoverlabel": {
           "align": "left"
          },
          "hovermode": "closest",
          "mapbox": {
           "style": "light"
          },
          "paper_bgcolor": "white",
          "plot_bgcolor": "#E5ECF6",
          "polar": {
           "angularaxis": {
            "gridcolor": "white",
            "linecolor": "white",
            "ticks": ""
           },
           "bgcolor": "#E5ECF6",
           "radialaxis": {
            "gridcolor": "white",
            "linecolor": "white",
            "ticks": ""
           }
          },
          "scene": {
           "xaxis": {
            "backgroundcolor": "#E5ECF6",
            "gridcolor": "white",
            "gridwidth": 2,
            "linecolor": "white",
            "showbackground": true,
            "ticks": "",
            "zerolinecolor": "white"
           },
           "yaxis": {
            "backgroundcolor": "#E5ECF6",
            "gridcolor": "white",
            "gridwidth": 2,
            "linecolor": "white",
            "showbackground": true,
            "ticks": "",
            "zerolinecolor": "white"
           },
           "zaxis": {
            "backgroundcolor": "#E5ECF6",
            "gridcolor": "white",
            "gridwidth": 2,
            "linecolor": "white",
            "showbackground": true,
            "ticks": "",
            "zerolinecolor": "white"
           }
          },
          "shapedefaults": {
           "line": {
            "color": "#2a3f5f"
           }
          },
          "ternary": {
           "aaxis": {
            "gridcolor": "white",
            "linecolor": "white",
            "ticks": ""
           },
           "baxis": {
            "gridcolor": "white",
            "linecolor": "white",
            "ticks": ""
           },
           "bgcolor": "#E5ECF6",
           "caxis": {
            "gridcolor": "white",
            "linecolor": "white",
            "ticks": ""
           }
          },
          "title": {
           "x": 0.05
          },
          "xaxis": {
           "automargin": true,
           "gridcolor": "white",
           "linecolor": "white",
           "ticks": "",
           "title": {
            "standoff": 15
           },
           "zerolinecolor": "white",
           "zerolinewidth": 2
          },
          "yaxis": {
           "automargin": true,
           "gridcolor": "white",
           "linecolor": "white",
           "ticks": "",
           "title": {
            "standoff": 15
           },
           "zerolinecolor": "white",
           "zerolinewidth": 2
          }
         }
        },
        "title": {
         "text": "Population Density in 2018"
        },
        "xaxis": {
         "autorange": true,
         "range": [
          -0.5,
          35.5
         ],
         "type": "category"
        },
        "yaxis": {
         "autorange": true,
         "range": [
          0,
          1590.5263157894738
         ],
         "type": "linear"
        }
       }
      },
      "image/png": "[encoded data removed]",
      "text/html": [
       "<div>\n",
       "        \n",
       "        \n",
       "            <div id=\"6257caaf-45ba-4c28-9434-af981e438ac4\" class=\"plotly-graph-div\" style=\"height:525px; width:100%;\"></div>\n",
       "            <script type=\"text/javascript\">\n",
       "                require([\"plotly\"], function(Plotly) {\n",
       "                    window.PLOTLYENV=window.PLOTLYENV || {};\n",
       "                    \n",
       "                if (document.getElementById(\"6257caaf-45ba-4c28-9434-af981e438ac4\")) {\n",
       "                    Plotly.newPlot(\n",
       "                        '6257caaf-45ba-4c28-9434-af981e438ac4',\n",
       "                        [{\"type\": \"bar\", \"x\": [\"Malta\", \"Netherlands\", \"Belgium\", \"Japan\", \"UK\", \"Luxembourg\", \"Germany\", \"Switzerland\", \"Italy\", \"China\", \"Denmark\", \"Czech Republic\", \"Cyprus\", \"Poland\", \"France\", \"Slovakia\", \"Portugal\", \"Hungary\", \"Austria\", \"Turkey\", \"Slovenia\", \"Spain\", \"Syria\", \"Romania\", \"Greece\", \"Serbia\", \"Croatia\", \"Ireland\", \"Bosnia and Herzegovina\", \"Bulgaria\", \"Lithuania\", \"US\", \"Latvia\", \"Estonia\", \"Sweden\", \"Finland\"], \"y\": [1511.0, 511.0, 377.0, 347.0, 275.0, 250.0, 237.0, 216.0, 205.0, 148.0, 138.0, 138.0, 129.0, 124.0, 122.0, 113.0, 112.0, 108.0, 107.0, 107.0, 103.0, 94.0, 92.0, 85.0, 83.0, 80.0, 73.0, 70.0, 65.0, 65.0, 45.0, 36.0, 31.0, 30.0, 25.0, 18.0]}],\n",
       "                        {\"template\": {\"data\": {\"bar\": [{\"error_x\": {\"color\": \"#2a3f5f\"}, \"error_y\": {\"color\": \"#2a3f5f\"}, \"marker\": {\"line\": {\"color\": \"#E5ECF6\", \"width\": 0.5}}, \"type\": \"bar\"}], \"barpolar\": [{\"marker\": {\"line\": {\"color\": \"#E5ECF6\", \"width\": 0.5}}, \"type\": \"barpolar\"}], \"carpet\": [{\"aaxis\": {\"endlinecolor\": \"#2a3f5f\", \"gridcolor\": \"white\", \"linecolor\": \"white\", \"minorgridcolor\": \"white\", \"startlinecolor\": \"#2a3f5f\"}, \"baxis\": {\"endlinecolor\": \"#2a3f5f\", \"gridcolor\": \"white\", \"linecolor\": \"white\", \"minorgridcolor\": \"white\", \"startlinecolor\": \"#2a3f5f\"}, \"type\": \"carpet\"}], \"choropleth\": [{\"colorbar\": {\"outlinewidth\": 0, \"ticks\": \"\"}, \"type\": \"choropleth\"}], \"contour\": [{\"colorbar\": {\"outlinewidth\": 0, \"ticks\": \"\"}, \"colorscale\": [[0.0, \"#0d0887\"], [0.1111111111111111, \"#46039f\"], [0.2222222222222222, \"#7201a8\"], [0.3333333333333333, \"#9c179e\"], [0.4444444444444444, \"#bd3786\"], [0.5555555555555556, \"#d8576b\"], [0.6666666666666666, \"#ed7953\"], [0.7777777777777778, \"#fb9f3a\"], [0.8888888888888888, \"#fdca26\"], [1.0, \"#f0f921\"]], \"type\": \"contour\"}], \"contourcarpet\": [{\"colorbar\": {\"outlinewidth\": 0, \"ticks\": \"\"}, \"type\": \"contourcarpet\"}], \"heatmap\": [{\"colorbar\": {\"outlinewidth\": 0, \"ticks\": \"\"}, \"colorscale\": [[0.0, \"#0d0887\"], [0.1111111111111111, \"#46039f\"], [0.2222222222222222, \"#7201a8\"], [0.3333333333333333, \"#9c179e\"], [0.4444444444444444, \"#bd3786\"], [0.5555555555555556, \"#d8576b\"], [0.6666666666666666, \"#ed7953\"], [0.7777777777777778, \"#fb9f3a\"], [0.8888888888888888, \"#fdca26\"], [1.0, \"#f0f921\"]], \"type\": \"heatmap\"}], \"heatmapgl\": [{\"colorbar\": {\"outlinewidth\": 0, \"ticks\": \"\"}, \"colorscale\": [[0.0, \"#0d0887\"], [0.1111111111111111, \"#46039f\"], [0.2222222222222222, \"#7201a8\"], [0.3333333333333333, \"#9c179e\"], [0.4444444444444444, \"#bd3786\"], [0.5555555555555556, \"#d8576b\"], [0.6666666666666666, \"#ed7953\"], [0.7777777777777778, \"#fb9f3a\"], [0.8888888888888888, \"#fdca26\"], [1.0, \"#f0f921\"]], \"type\": \"heatmapgl\"}], \"histogram\": [{\"marker\": {\"colorbar\": {\"outlinewidth\": 0, \"ticks\": \"\"}}, \"type\": \"histogram\"}], \"histogram2d\": [{\"colorbar\": {\"outlinewidth\": 0, \"ticks\": \"\"}, \"colorscale\": [[0.0, \"#0d0887\"], [0.1111111111111111, \"#46039f\"], [0.2222222222222222, \"#7201a8\"], [0.3333333333333333, \"#9c179e\"], [0.4444444444444444, \"#bd3786\"], [0.5555555555555556, \"#d8576b\"], [0.6666666666666666, \"#ed7953\"], [0.7777777777777778, \"#fb9f3a\"], [0.8888888888888888, \"#fdca26\"], [1.0, \"#f0f921\"]], \"type\": \"histogram2d\"}], \"histogram2dcontour\": [{\"colorbar\": {\"outlinewidth\": 0, \"ticks\": \"\"}, \"colorscale\": [[0.0, \"#0d0887\"], [0.1111111111111111, \"#46039f\"], [0.2222222222222222, \"#7201a8\"], [0.3333333333333333, \"#9c179e\"], [0.4444444444444444, \"#bd3786\"], [0.5555555555555556, \"#d8576b\"], [0.6666666666666666, \"#ed7953\"], [0.7777777777777778, \"#fb9f3a\"], [0.8888888888888888, \"#fdca26\"], [1.0, \"#f0f921\"]], \"type\": \"histogram2dcontour\"}], \"mesh3d\": [{\"colorbar\": {\"outlinewidth\": 0, \"ticks\": \"\"}, \"type\": \"mesh3d\"}], \"parcoords\": [{\"line\": {\"colorbar\": {\"outlinewidth\": 0, \"ticks\": \"\"}}, \"type\": \"parcoords\"}], \"pie\": [{\"automargin\": true, \"type\": \"pie\"}], \"scatter\": [{\"marker\": {\"colorbar\": {\"outlinewidth\": 0, \"ticks\": \"\"}}, \"type\": \"scatter\"}], \"scatter3d\": [{\"line\": {\"colorbar\": {\"outlinewidth\": 0, \"ticks\": \"\"}}, \"marker\": {\"colorbar\": {\"outlinewidth\": 0, \"ticks\": \"\"}}, \"type\": \"scatter3d\"}], \"scattercarpet\": [{\"marker\": {\"colorbar\": {\"outlinewidth\": 0, \"ticks\": \"\"}}, \"type\": \"scattercarpet\"}], \"scattergeo\": [{\"marker\": {\"colorbar\": {\"outlinewidth\": 0, \"ticks\": \"\"}}, \"type\": \"scattergeo\"}], \"scattergl\": [{\"marker\": {\"colorbar\": {\"outlinewidth\": 0, \"ticks\": \"\"}}, \"type\": \"scattergl\"}], \"scattermapbox\": [{\"marker\": {\"colorbar\": {\"outlinewidth\": 0, \"ticks\": \"\"}}, \"type\": \"scattermapbox\"}], \"scatterpolar\": [{\"marker\": {\"colorbar\": {\"outlinewidth\": 0, \"ticks\": \"\"}}, \"type\": \"scatterpolar\"}], \"scatterpolargl\": [{\"marker\": {\"colorbar\": {\"outlinewidth\": 0, \"ticks\": \"\"}}, \"type\": \"scatterpolargl\"}], \"scatterternary\": [{\"marker\": {\"colorbar\": {\"outlinewidth\": 0, \"ticks\": \"\"}}, \"type\": \"scatterternary\"}], \"surface\": [{\"colorbar\": {\"outlinewidth\": 0, \"ticks\": \"\"}, \"colorscale\": [[0.0, \"#0d0887\"], [0.1111111111111111, \"#46039f\"], [0.2222222222222222, \"#7201a8\"], [0.3333333333333333, \"#9c179e\"], [0.4444444444444444, \"#bd3786\"], [0.5555555555555556, \"#d8576b\"], [0.6666666666666666, \"#ed7953\"], [0.7777777777777778, \"#fb9f3a\"], [0.8888888888888888, \"#fdca26\"], [1.0, \"#f0f921\"]], \"type\": \"surface\"}], \"table\": [{\"cells\": {\"fill\": {\"color\": \"#EBF0F8\"}, \"line\": {\"color\": \"white\"}}, \"header\": {\"fill\": {\"color\": \"#C8D4E3\"}, \"line\": {\"color\": \"white\"}}, \"type\": \"table\"}]}, \"layout\": {\"annotationdefaults\": {\"arrowcolor\": \"#2a3f5f\", \"arrowhead\": 0, \"arrowwidth\": 1}, \"coloraxis\": {\"colorbar\": {\"outlinewidth\": 0, \"ticks\": \"\"}}, \"colorscale\": {\"diverging\": [[0, \"#8e0152\"], [0.1, \"#c51b7d\"], [0.2, \"#de77ae\"], [0.3, \"#f1b6da\"], [0.4, \"#fde0ef\"], [0.5, \"#f7f7f7\"], [0.6, \"#e6f5d0\"], [0.7, \"#b8e186\"], [0.8, \"#7fbc41\"], [0.9, \"#4d9221\"], [1, \"#276419\"]], \"sequential\": [[0.0, \"#0d0887\"], [0.1111111111111111, \"#46039f\"], [0.2222222222222222, \"#7201a8\"], [0.3333333333333333, \"#9c179e\"], [0.4444444444444444, \"#bd3786\"], [0.5555555555555556, \"#d8576b\"], [0.6666666666666666, \"#ed7953\"], [0.7777777777777778, \"#fb9f3a\"], [0.8888888888888888, \"#fdca26\"], [1.0, \"#f0f921\"]], \"sequentialminus\": [[0.0, \"#0d0887\"], [0.1111111111111111, \"#46039f\"], [0.2222222222222222, \"#7201a8\"], [0.3333333333333333, \"#9c179e\"], [0.4444444444444444, \"#bd3786\"], [0.5555555555555556, \"#d8576b\"], [0.6666666666666666, \"#ed7953\"], [0.7777777777777778, \"#fb9f3a\"], [0.8888888888888888, \"#fdca26\"], [1.0, \"#f0f921\"]]}, \"colorway\": [\"#636efa\", \"#EF553B\", \"#00cc96\", \"#ab63fa\", \"#FFA15A\", \"#19d3f3\", \"#FF6692\", \"#B6E880\", \"#FF97FF\", \"#FECB52\"], \"font\": {\"color\": \"#2a3f5f\"}, \"geo\": {\"bgcolor\": \"white\", \"lakecolor\": \"white\", \"landcolor\": \"#E5ECF6\", \"showlakes\": true, \"showland\": true, \"subunitcolor\": \"white\"}, \"hoverlabel\": {\"align\": \"left\"}, \"hovermode\": \"closest\", \"mapbox\": {\"style\": \"light\"}, \"paper_bgcolor\": \"white\", \"plot_bgcolor\": \"#E5ECF6\", \"polar\": {\"angularaxis\": {\"gridcolor\": \"white\", \"linecolor\": \"white\", \"ticks\": \"\"}, \"bgcolor\": \"#E5ECF6\", \"radialaxis\": {\"gridcolor\": \"white\", \"linecolor\": \"white\", \"ticks\": \"\"}}, \"scene\": {\"xaxis\": {\"backgroundcolor\": \"#E5ECF6\", \"gridcolor\": \"white\", \"gridwidth\": 2, \"linecolor\": \"white\", \"showbackground\": true, \"ticks\": \"\", \"zerolinecolor\": \"white\"}, \"yaxis\": {\"backgroundcolor\": \"#E5ECF6\", \"gridcolor\": \"white\", \"gridwidth\": 2, \"linecolor\": \"white\", \"showbackground\": true, \"ticks\": \"\", \"zerolinecolor\": \"white\"}, \"zaxis\": {\"backgroundcolor\": \"#E5ECF6\", \"gridcolor\": \"white\", \"gridwidth\": 2, \"linecolor\": \"white\", \"showbackground\": true, \"ticks\": \"\", \"zerolinecolor\": \"white\"}}, \"shapedefaults\": {\"line\": {\"color\": \"#2a3f5f\"}}, \"ternary\": {\"aaxis\": {\"gridcolor\": \"white\", \"linecolor\": \"white\", \"ticks\": \"\"}, \"baxis\": {\"gridcolor\": \"white\", \"linecolor\": \"white\", \"ticks\": \"\"}, \"bgcolor\": \"#E5ECF6\", \"caxis\": {\"gridcolor\": \"white\", \"linecolor\": \"white\", \"ticks\": \"\"}}, \"title\": {\"x\": 0.05}, \"xaxis\": {\"automargin\": true, \"gridcolor\": \"white\", \"linecolor\": \"white\", \"ticks\": \"\", \"title\": {\"standoff\": 15}, \"zerolinecolor\": \"white\", \"zerolinewidth\": 2}, \"yaxis\": {\"automargin\": true, \"gridcolor\": \"white\", \"linecolor\": \"white\", \"ticks\": \"\", \"title\": {\"standoff\": 15}, \"zerolinecolor\": \"white\", \"zerolinewidth\": 2}}}, \"title\": {\"text\": \"Population Density in 2018\"}},\n",
       "                        {\"responsive\": true}\n",
       "                    ).then(function(){\n",
       "                            \n",
       "var gd = document.getElementById('6257caaf-45ba-4c28-9434-af981e438ac4');\n",
       "var x = new MutationObserver(function (mutations, observer) {{\n",
       "        var display = window.getComputedStyle(gd).display;\n",
       "        if (!display || display === 'none') {{\n",
       "            console.log([gd, 'removed!']);\n",
       "            Plotly.purge(gd);\n",
       "            observer.disconnect();\n",
       "        }}\n",
       "}});\n",
       "\n",
       "// Listen for the removal of the full notebook cells\n",
       "var notebookContainer = gd.closest('#notebook-container');\n",
       "if (notebookContainer) {{\n",
       "    x.observe(notebookContainer, {childList: true});\n",
       "}}\n",
       "\n",
       "// Listen for the clearing of the current output cell\n",
       "var outputEl = gd.closest('.output');\n",
       "if (outputEl) {{\n",
       "    x.observe(outputEl, {childList: true});\n",
       "}}\n",
       "\n",
       "                        })\n",
       "                };\n",
       "                });\n",
       "            </script>\n",
       "        </div>"
      ]
     },
     "metadata": {},
     "output_type": "display_data"
    }
   ],
   "source": [
    "import lib.io as io\n",
    "import plotly.graph_objects as go\n",
    "\n",
    "title = \"Population Density in 2018\"\n",
    "column_name = 'Population density (people per sq. km of land area) in 2018'\n",
    "\n",
    "df_pop_density = df_country_stats.loc[selected_countries, [column_name]]\n",
    "#print(df_pop_density)\n",
    "df_pop_density.sort_values(column_name, axis=0, ascending=False, inplace=True)\n",
    "\n",
    "fig = go.Figure()\n",
    "fig.add_trace(go.Bar(x=df_pop_density.index, y=df_pop_density.round(0)[column_name]))\n",
    "fig.update_layout(title_text=title)\n",
    "#fig.show(\"png\")\n",
    "fig.show()\n",
    "fig.write_image(directory+title+\".png\")\n",
    "io.saveDataCsv(df_pop_density, directory, title)"
   ]
  },
  {
   "cell_type": "markdown",
   "metadata": {},
   "source": [
    "### Total population"
   ]
  },
  {
   "cell_type": "code",
   "execution_count": 25,
   "metadata": {},
   "outputs": [
    {
     "data": {
      "application/vnd.plotly.v1+json": {
       "config": {
        "plotlyServerURL": "https://plot.ly"
       },
       "data": [
        {
         "type": "bar",
         "x": [
          "China",
          "US",
          "Japan",
          "Germany",
          "Turkey",
          "France",
          "UK",
          "Italy",
          "Spain",
          "Poland",
          "Romania",
          "Netherlands",
          "Syria",
          "Belgium",
          "Greece",
          "Czech Republic",
          "Portugal",
          "Sweden",
          "Hungary",
          "Austria",
          "Switzerland",
          "Bulgaria",
          "Serbia",
          "Denmark",
          "Finland",
          "Slovakia",
          "Ireland",
          "Croatia",
          "Bosnia and Herzegovina",
          "Lithuania",
          "Slovenia",
          "Latvia",
          "Estonia",
          "Cyprus",
          "Luxembourg",
          "Malta"
         ],
         "y": [
          1392730000,
          327167434,
          126529100,
          82927922,
          82319724,
          66987244,
          66488991,
          60431283,
          46723749,
          37978548,
          19473936,
          17231017,
          16906283,
          11422068,
          10727668,
          10625695,
          10281762,
          10183175,
          9768785,
          8847037,
          8516543,
          7024216,
          6982084,
          5797446,
          5518050,
          5447011,
          4853506,
          4089400,
          3323929,
          2789533,
          2067372,
          1926542,
          1320884,
          1189265,
          607728,
          483530
         ]
        }
       ],
       "layout": {
        "autosize": true,
        "template": {
         "data": {
          "bar": [
           {
            "error_x": {
             "color": "#2a3f5f"
            },
            "error_y": {
             "color": "#2a3f5f"
            },
            "marker": {
             "line": {
              "color": "#E5ECF6",
              "width": 0.5
             }
            },
            "type": "bar"
           }
          ],
          "barpolar": [
           {
            "marker": {
             "line": {
              "color": "#E5ECF6",
              "width": 0.5
             }
            },
            "type": "barpolar"
           }
          ],
          "carpet": [
           {
            "aaxis": {
             "endlinecolor": "#2a3f5f",
             "gridcolor": "white",
             "linecolor": "white",
             "minorgridcolor": "white",
             "startlinecolor": "#2a3f5f"
            },
            "baxis": {
             "endlinecolor": "#2a3f5f",
             "gridcolor": "white",
             "linecolor": "white",
             "minorgridcolor": "white",
             "startlinecolor": "#2a3f5f"
            },
            "type": "carpet"
           }
          ],
          "choropleth": [
           {
            "colorbar": {
             "outlinewidth": 0,
             "ticks": ""
            },
            "type": "choropleth"
           }
          ],
          "contour": [
           {
            "colorbar": {
             "outlinewidth": 0,
             "ticks": ""
            },
            "colorscale": [
             [
              0,
              "#0d0887"
             ],
             [
              0.1111111111111111,
              "#46039f"
             ],
             [
              0.2222222222222222,
              "#7201a8"
             ],
             [
              0.3333333333333333,
              "#9c179e"
             ],
             [
              0.4444444444444444,
              "#bd3786"
             ],
             [
              0.5555555555555556,
              "#d8576b"
             ],
             [
              0.6666666666666666,
              "#ed7953"
             ],
             [
              0.7777777777777778,
              "#fb9f3a"
             ],
             [
              0.8888888888888888,
              "#fdca26"
             ],
             [
              1,
              "#f0f921"
             ]
            ],
            "type": "contour"
           }
          ],
          "contourcarpet": [
           {
            "colorbar": {
             "outlinewidth": 0,
             "ticks": ""
            },
            "type": "contourcarpet"
           }
          ],
          "heatmap": [
           {
            "colorbar": {
             "outlinewidth": 0,
             "ticks": ""
            },
            "colorscale": [
             [
              0,
              "#0d0887"
             ],
             [
              0.1111111111111111,
              "#46039f"
             ],
             [
              0.2222222222222222,
              "#7201a8"
             ],
             [
              0.3333333333333333,
              "#9c179e"
             ],
             [
              0.4444444444444444,
              "#bd3786"
             ],
             [
              0.5555555555555556,
              "#d8576b"
             ],
             [
              0.6666666666666666,
              "#ed7953"
             ],
             [
              0.7777777777777778,
              "#fb9f3a"
             ],
             [
              0.8888888888888888,
              "#fdca26"
             ],
             [
              1,
              "#f0f921"
             ]
            ],
            "type": "heatmap"
           }
          ],
          "heatmapgl": [
           {
            "colorbar": {
             "outlinewidth": 0,
             "ticks": ""
            },
            "colorscale": [
             [
              0,
              "#0d0887"
             ],
             [
              0.1111111111111111,
              "#46039f"
             ],
             [
              0.2222222222222222,
              "#7201a8"
             ],
             [
              0.3333333333333333,
              "#9c179e"
             ],
             [
              0.4444444444444444,
              "#bd3786"
             ],
             [
              0.5555555555555556,
              "#d8576b"
             ],
             [
              0.6666666666666666,
              "#ed7953"
             ],
             [
              0.7777777777777778,
              "#fb9f3a"
             ],
             [
              0.8888888888888888,
              "#fdca26"
             ],
             [
              1,
              "#f0f921"
             ]
            ],
            "type": "heatmapgl"
           }
          ],
          "histogram": [
           {
            "marker": {
             "colorbar": {
              "outlinewidth": 0,
              "ticks": ""
             }
            },
            "type": "histogram"
           }
          ],
          "histogram2d": [
           {
            "colorbar": {
             "outlinewidth": 0,
             "ticks": ""
            },
            "colorscale": [
             [
              0,
              "#0d0887"
             ],
             [
              0.1111111111111111,
              "#46039f"
             ],
             [
              0.2222222222222222,
              "#7201a8"
             ],
             [
              0.3333333333333333,
              "#9c179e"
             ],
             [
              0.4444444444444444,
              "#bd3786"
             ],
             [
              0.5555555555555556,
              "#d8576b"
             ],
             [
              0.6666666666666666,
              "#ed7953"
             ],
             [
              0.7777777777777778,
              "#fb9f3a"
             ],
             [
              0.8888888888888888,
              "#fdca26"
             ],
             [
              1,
              "#f0f921"
             ]
            ],
            "type": "histogram2d"
           }
          ],
          "histogram2dcontour": [
           {
            "colorbar": {
             "outlinewidth": 0,
             "ticks": ""
            },
            "colorscale": [
             [
              0,
              "#0d0887"
             ],
             [
              0.1111111111111111,
              "#46039f"
             ],
             [
              0.2222222222222222,
              "#7201a8"
             ],
             [
              0.3333333333333333,
              "#9c179e"
             ],
             [
              0.4444444444444444,
              "#bd3786"
             ],
             [
              0.5555555555555556,
              "#d8576b"
             ],
             [
              0.6666666666666666,
              "#ed7953"
             ],
             [
              0.7777777777777778,
              "#fb9f3a"
             ],
             [
              0.8888888888888888,
              "#fdca26"
             ],
             [
              1,
              "#f0f921"
             ]
            ],
            "type": "histogram2dcontour"
           }
          ],
          "mesh3d": [
           {
            "colorbar": {
             "outlinewidth": 0,
             "ticks": ""
            },
            "type": "mesh3d"
           }
          ],
          "parcoords": [
           {
            "line": {
             "colorbar": {
              "outlinewidth": 0,
              "ticks": ""
             }
            },
            "type": "parcoords"
           }
          ],
          "pie": [
           {
            "automargin": true,
            "type": "pie"
           }
          ],
          "scatter": [
           {
            "marker": {
             "colorbar": {
              "outlinewidth": 0,
              "ticks": ""
             }
            },
            "type": "scatter"
           }
          ],
          "scatter3d": [
           {
            "line": {
             "colorbar": {
              "outlinewidth": 0,
              "ticks": ""
             }
            },
            "marker": {
             "colorbar": {
              "outlinewidth": 0,
              "ticks": ""
             }
            },
            "type": "scatter3d"
           }
          ],
          "scattercarpet": [
           {
            "marker": {
             "colorbar": {
              "outlinewidth": 0,
              "ticks": ""
             }
            },
            "type": "scattercarpet"
           }
          ],
          "scattergeo": [
           {
            "marker": {
             "colorbar": {
              "outlinewidth": 0,
              "ticks": ""
             }
            },
            "type": "scattergeo"
           }
          ],
          "scattergl": [
           {
            "marker": {
             "colorbar": {
              "outlinewidth": 0,
              "ticks": ""
             }
            },
            "type": "scattergl"
           }
          ],
          "scattermapbox": [
           {
            "marker": {
             "colorbar": {
              "outlinewidth": 0,
              "ticks": ""
             }
            },
            "type": "scattermapbox"
           }
          ],
          "scatterpolar": [
           {
            "marker": {
             "colorbar": {
              "outlinewidth": 0,
              "ticks": ""
             }
            },
            "type": "scatterpolar"
           }
          ],
          "scatterpolargl": [
           {
            "marker": {
             "colorbar": {
              "outlinewidth": 0,
              "ticks": ""
             }
            },
            "type": "scatterpolargl"
           }
          ],
          "scatterternary": [
           {
            "marker": {
             "colorbar": {
              "outlinewidth": 0,
              "ticks": ""
             }
            },
            "type": "scatterternary"
           }
          ],
          "surface": [
           {
            "colorbar": {
             "outlinewidth": 0,
             "ticks": ""
            },
            "colorscale": [
             [
              0,
              "#0d0887"
             ],
             [
              0.1111111111111111,
              "#46039f"
             ],
             [
              0.2222222222222222,
              "#7201a8"
             ],
             [
              0.3333333333333333,
              "#9c179e"
             ],
             [
              0.4444444444444444,
              "#bd3786"
             ],
             [
              0.5555555555555556,
              "#d8576b"
             ],
             [
              0.6666666666666666,
              "#ed7953"
             ],
             [
              0.7777777777777778,
              "#fb9f3a"
             ],
             [
              0.8888888888888888,
              "#fdca26"
             ],
             [
              1,
              "#f0f921"
             ]
            ],
            "type": "surface"
           }
          ],
          "table": [
           {
            "cells": {
             "fill": {
              "color": "#EBF0F8"
             },
             "line": {
              "color": "white"
             }
            },
            "header": {
             "fill": {
              "color": "#C8D4E3"
             },
             "line": {
              "color": "white"
             }
            },
            "type": "table"
           }
          ]
         },
         "layout": {
          "annotationdefaults": {
           "arrowcolor": "#2a3f5f",
           "arrowhead": 0,
           "arrowwidth": 1
          },
          "coloraxis": {
           "colorbar": {
            "outlinewidth": 0,
            "ticks": ""
           }
          },
          "colorscale": {
           "diverging": [
            [
             0,
             "#8e0152"
            ],
            [
             0.1,
             "#c51b7d"
            ],
            [
             0.2,
             "#de77ae"
            ],
            [
             0.3,
             "#f1b6da"
            ],
            [
             0.4,
             "#fde0ef"
            ],
            [
             0.5,
             "#f7f7f7"
            ],
            [
             0.6,
             "#e6f5d0"
            ],
            [
             0.7,
             "#b8e186"
            ],
            [
             0.8,
             "#7fbc41"
            ],
            [
             0.9,
             "#4d9221"
            ],
            [
             1,
             "#276419"
            ]
           ],
           "sequential": [
            [
             0,
             "#0d0887"
            ],
            [
             0.1111111111111111,
             "#46039f"
            ],
            [
             0.2222222222222222,
             "#7201a8"
            ],
            [
             0.3333333333333333,
             "#9c179e"
            ],
            [
             0.4444444444444444,
             "#bd3786"
            ],
            [
             0.5555555555555556,
             "#d8576b"
            ],
            [
             0.6666666666666666,
             "#ed7953"
            ],
            [
             0.7777777777777778,
             "#fb9f3a"
            ],
            [
             0.8888888888888888,
             "#fdca26"
            ],
            [
             1,
             "#f0f921"
            ]
           ],
           "sequentialminus": [
            [
             0,
             "#0d0887"
            ],
            [
             0.1111111111111111,
             "#46039f"
            ],
            [
             0.2222222222222222,
             "#7201a8"
            ],
            [
             0.3333333333333333,
             "#9c179e"
            ],
            [
             0.4444444444444444,
             "#bd3786"
            ],
            [
             0.5555555555555556,
             "#d8576b"
            ],
            [
             0.6666666666666666,
             "#ed7953"
            ],
            [
             0.7777777777777778,
             "#fb9f3a"
            ],
            [
             0.8888888888888888,
             "#fdca26"
            ],
            [
             1,
             "#f0f921"
            ]
           ]
          },
          "colorway": [
           "#636efa",
           "#EF553B",
           "#00cc96",
           "#ab63fa",
           "#FFA15A",
           "#19d3f3",
           "#FF6692",
           "#B6E880",
           "#FF97FF",
           "#FECB52"
          ],
          "font": {
           "color": "#2a3f5f"
          },
          "geo": {
           "bgcolor": "white",
           "lakecolor": "white",
           "landcolor": "#E5ECF6",
           "showlakes": true,
           "showland": true,
           "subunitcolor": "white"
          },
          "hoverlabel": {
           "align": "left"
          },
          "hovermode": "closest",
          "mapbox": {
           "style": "light"
          },
          "paper_bgcolor": "white",
          "plot_bgcolor": "#E5ECF6",
          "polar": {
           "angularaxis": {
            "gridcolor": "white",
            "linecolor": "white",
            "ticks": ""
           },
           "bgcolor": "#E5ECF6",
           "radialaxis": {
            "gridcolor": "white",
            "linecolor": "white",
            "ticks": ""
           }
          },
          "scene": {
           "xaxis": {
            "backgroundcolor": "#E5ECF6",
            "gridcolor": "white",
            "gridwidth": 2,
            "linecolor": "white",
            "showbackground": true,
            "ticks": "",
            "zerolinecolor": "white"
           },
           "yaxis": {
            "backgroundcolor": "#E5ECF6",
            "gridcolor": "white",
            "gridwidth": 2,
            "linecolor": "white",
            "showbackground": true,
            "ticks": "",
            "zerolinecolor": "white"
           },
           "zaxis": {
            "backgroundcolor": "#E5ECF6",
            "gridcolor": "white",
            "gridwidth": 2,
            "linecolor": "white",
            "showbackground": true,
            "ticks": "",
            "zerolinecolor": "white"
           }
          },
          "shapedefaults": {
           "line": {
            "color": "#2a3f5f"
           }
          },
          "ternary": {
           "aaxis": {
            "gridcolor": "white",
            "linecolor": "white",
            "ticks": ""
           },
           "baxis": {
            "gridcolor": "white",
            "linecolor": "white",
            "ticks": ""
           },
           "bgcolor": "#E5ECF6",
           "caxis": {
            "gridcolor": "white",
            "linecolor": "white",
            "ticks": ""
           }
          },
          "title": {
           "x": 0.05
          },
          "xaxis": {
           "automargin": true,
           "gridcolor": "white",
           "linecolor": "white",
           "ticks": "",
           "title": {
            "standoff": 15
           },
           "zerolinecolor": "white",
           "zerolinewidth": 2
          },
          "yaxis": {
           "automargin": true,
           "gridcolor": "white",
           "linecolor": "white",
           "ticks": "",
           "title": {
            "standoff": 15
           },
           "zerolinecolor": "white",
           "zerolinewidth": 2
          }
         }
        },
        "title": {
         "text": "Total population in 2018"
        },
        "xaxis": {
         "autorange": true,
         "range": [
          -0.5,
          35.5
         ],
         "type": "category"
        },
        "yaxis": {
         "autorange": true,
         "range": [
          0,
          1466031578.9473684
         ],
         "type": "linear"
        }
       }
      },
      "image/png": "[encoded data removed]",
      "text/html": [
       "<div>\n",
       "        \n",
       "        \n",
       "            <div id=\"8556d9e5-ae5b-4748-bc8b-a9fc046558cc\" class=\"plotly-graph-div\" style=\"height:525px; width:100%;\"></div>\n",
       "            <script type=\"text/javascript\">\n",
       "                require([\"plotly\"], function(Plotly) {\n",
       "                    window.PLOTLYENV=window.PLOTLYENV || {};\n",
       "                    \n",
       "                if (document.getElementById(\"8556d9e5-ae5b-4748-bc8b-a9fc046558cc\")) {\n",
       "                    Plotly.newPlot(\n",
       "                        '8556d9e5-ae5b-4748-bc8b-a9fc046558cc',\n",
       "                        [{\"type\": \"bar\", \"x\": [\"China\", \"US\", \"Japan\", \"Germany\", \"Turkey\", \"France\", \"UK\", \"Italy\", \"Spain\", \"Poland\", \"Romania\", \"Netherlands\", \"Syria\", \"Belgium\", \"Greece\", \"Czech Republic\", \"Portugal\", \"Sweden\", \"Hungary\", \"Austria\", \"Switzerland\", \"Bulgaria\", \"Serbia\", \"Denmark\", \"Finland\", \"Slovakia\", \"Ireland\", \"Croatia\", \"Bosnia and Herzegovina\", \"Lithuania\", \"Slovenia\", \"Latvia\", \"Estonia\", \"Cyprus\", \"Luxembourg\", \"Malta\"], \"y\": [1392730000.0, 327167434.0, 126529100.0, 82927922.0, 82319724.0, 66987244.0, 66488991.0, 60431283.0, 46723749.0, 37978548.0, 19473936.0, 17231017.0, 16906283.0, 11422068.0, 10727668.0, 10625695.0, 10281762.0, 10183175.0, 9768785.0, 8847037.0, 8516543.0, 7024216.0, 6982084.0, 5797446.0, 5518050.0, 5447011.0, 4853506.0, 4089400.0, 3323929.0, 2789533.0, 2067372.0, 1926542.0, 1320884.0, 1189265.0, 607728.0, 483530.0]}],\n",
       "                        {\"template\": {\"data\": {\"bar\": [{\"error_x\": {\"color\": \"#2a3f5f\"}, \"error_y\": {\"color\": \"#2a3f5f\"}, \"marker\": {\"line\": {\"color\": \"#E5ECF6\", \"width\": 0.5}}, \"type\": \"bar\"}], \"barpolar\": [{\"marker\": {\"line\": {\"color\": \"#E5ECF6\", \"width\": 0.5}}, \"type\": \"barpolar\"}], \"carpet\": [{\"aaxis\": {\"endlinecolor\": \"#2a3f5f\", \"gridcolor\": \"white\", \"linecolor\": \"white\", \"minorgridcolor\": \"white\", \"startlinecolor\": \"#2a3f5f\"}, \"baxis\": {\"endlinecolor\": \"#2a3f5f\", \"gridcolor\": \"white\", \"linecolor\": \"white\", \"minorgridcolor\": \"white\", \"startlinecolor\": \"#2a3f5f\"}, \"type\": \"carpet\"}], \"choropleth\": [{\"colorbar\": {\"outlinewidth\": 0, \"ticks\": \"\"}, \"type\": \"choropleth\"}], \"contour\": [{\"colorbar\": {\"outlinewidth\": 0, \"ticks\": \"\"}, \"colorscale\": [[0.0, \"#0d0887\"], [0.1111111111111111, \"#46039f\"], [0.2222222222222222, \"#7201a8\"], [0.3333333333333333, \"#9c179e\"], [0.4444444444444444, \"#bd3786\"], [0.5555555555555556, \"#d8576b\"], [0.6666666666666666, \"#ed7953\"], [0.7777777777777778, \"#fb9f3a\"], [0.8888888888888888, \"#fdca26\"], [1.0, \"#f0f921\"]], \"type\": \"contour\"}], \"contourcarpet\": [{\"colorbar\": {\"outlinewidth\": 0, \"ticks\": \"\"}, \"type\": \"contourcarpet\"}], \"heatmap\": [{\"colorbar\": {\"outlinewidth\": 0, \"ticks\": \"\"}, \"colorscale\": [[0.0, \"#0d0887\"], [0.1111111111111111, \"#46039f\"], [0.2222222222222222, \"#7201a8\"], [0.3333333333333333, \"#9c179e\"], [0.4444444444444444, \"#bd3786\"], [0.5555555555555556, \"#d8576b\"], [0.6666666666666666, \"#ed7953\"], [0.7777777777777778, \"#fb9f3a\"], [0.8888888888888888, \"#fdca26\"], [1.0, \"#f0f921\"]], \"type\": \"heatmap\"}], \"heatmapgl\": [{\"colorbar\": {\"outlinewidth\": 0, \"ticks\": \"\"}, \"colorscale\": [[0.0, \"#0d0887\"], [0.1111111111111111, \"#46039f\"], [0.2222222222222222, \"#7201a8\"], [0.3333333333333333, \"#9c179e\"], [0.4444444444444444, \"#bd3786\"], [0.5555555555555556, \"#d8576b\"], [0.6666666666666666, \"#ed7953\"], [0.7777777777777778, \"#fb9f3a\"], [0.8888888888888888, \"#fdca26\"], [1.0, \"#f0f921\"]], \"type\": \"heatmapgl\"}], \"histogram\": [{\"marker\": {\"colorbar\": {\"outlinewidth\": 0, \"ticks\": \"\"}}, \"type\": \"histogram\"}], \"histogram2d\": [{\"colorbar\": {\"outlinewidth\": 0, \"ticks\": \"\"}, \"colorscale\": [[0.0, \"#0d0887\"], [0.1111111111111111, \"#46039f\"], [0.2222222222222222, \"#7201a8\"], [0.3333333333333333, \"#9c179e\"], [0.4444444444444444, \"#bd3786\"], [0.5555555555555556, \"#d8576b\"], [0.6666666666666666, \"#ed7953\"], [0.7777777777777778, \"#fb9f3a\"], [0.8888888888888888, \"#fdca26\"], [1.0, \"#f0f921\"]], \"type\": \"histogram2d\"}], \"histogram2dcontour\": [{\"colorbar\": {\"outlinewidth\": 0, \"ticks\": \"\"}, \"colorscale\": [[0.0, \"#0d0887\"], [0.1111111111111111, \"#46039f\"], [0.2222222222222222, \"#7201a8\"], [0.3333333333333333, \"#9c179e\"], [0.4444444444444444, \"#bd3786\"], [0.5555555555555556, \"#d8576b\"], [0.6666666666666666, \"#ed7953\"], [0.7777777777777778, \"#fb9f3a\"], [0.8888888888888888, \"#fdca26\"], [1.0, \"#f0f921\"]], \"type\": \"histogram2dcontour\"}], \"mesh3d\": [{\"colorbar\": {\"outlinewidth\": 0, \"ticks\": \"\"}, \"type\": \"mesh3d\"}], \"parcoords\": [{\"line\": {\"colorbar\": {\"outlinewidth\": 0, \"ticks\": \"\"}}, \"type\": \"parcoords\"}], \"pie\": [{\"automargin\": true, \"type\": \"pie\"}], \"scatter\": [{\"marker\": {\"colorbar\": {\"outlinewidth\": 0, \"ticks\": \"\"}}, \"type\": \"scatter\"}], \"scatter3d\": [{\"line\": {\"colorbar\": {\"outlinewidth\": 0, \"ticks\": \"\"}}, \"marker\": {\"colorbar\": {\"outlinewidth\": 0, \"ticks\": \"\"}}, \"type\": \"scatter3d\"}], \"scattercarpet\": [{\"marker\": {\"colorbar\": {\"outlinewidth\": 0, \"ticks\": \"\"}}, \"type\": \"scattercarpet\"}], \"scattergeo\": [{\"marker\": {\"colorbar\": {\"outlinewidth\": 0, \"ticks\": \"\"}}, \"type\": \"scattergeo\"}], \"scattergl\": [{\"marker\": {\"colorbar\": {\"outlinewidth\": 0, \"ticks\": \"\"}}, \"type\": \"scattergl\"}], \"scattermapbox\": [{\"marker\": {\"colorbar\": {\"outlinewidth\": 0, \"ticks\": \"\"}}, \"type\": \"scattermapbox\"}], \"scatterpolar\": [{\"marker\": {\"colorbar\": {\"outlinewidth\": 0, \"ticks\": \"\"}}, \"type\": \"scatterpolar\"}], \"scatterpolargl\": [{\"marker\": {\"colorbar\": {\"outlinewidth\": 0, \"ticks\": \"\"}}, \"type\": \"scatterpolargl\"}], \"scatterternary\": [{\"marker\": {\"colorbar\": {\"outlinewidth\": 0, \"ticks\": \"\"}}, \"type\": \"scatterternary\"}], \"surface\": [{\"colorbar\": {\"outlinewidth\": 0, \"ticks\": \"\"}, \"colorscale\": [[0.0, \"#0d0887\"], [0.1111111111111111, \"#46039f\"], [0.2222222222222222, \"#7201a8\"], [0.3333333333333333, \"#9c179e\"], [0.4444444444444444, \"#bd3786\"], [0.5555555555555556, \"#d8576b\"], [0.6666666666666666, \"#ed7953\"], [0.7777777777777778, \"#fb9f3a\"], [0.8888888888888888, \"#fdca26\"], [1.0, \"#f0f921\"]], \"type\": \"surface\"}], \"table\": [{\"cells\": {\"fill\": {\"color\": \"#EBF0F8\"}, \"line\": {\"color\": \"white\"}}, \"header\": {\"fill\": {\"color\": \"#C8D4E3\"}, \"line\": {\"color\": \"white\"}}, \"type\": \"table\"}]}, \"layout\": {\"annotationdefaults\": {\"arrowcolor\": \"#2a3f5f\", \"arrowhead\": 0, \"arrowwidth\": 1}, \"coloraxis\": {\"colorbar\": {\"outlinewidth\": 0, \"ticks\": \"\"}}, \"colorscale\": {\"diverging\": [[0, \"#8e0152\"], [0.1, \"#c51b7d\"], [0.2, \"#de77ae\"], [0.3, \"#f1b6da\"], [0.4, \"#fde0ef\"], [0.5, \"#f7f7f7\"], [0.6, \"#e6f5d0\"], [0.7, \"#b8e186\"], [0.8, \"#7fbc41\"], [0.9, \"#4d9221\"], [1, \"#276419\"]], \"sequential\": [[0.0, \"#0d0887\"], [0.1111111111111111, \"#46039f\"], [0.2222222222222222, \"#7201a8\"], [0.3333333333333333, \"#9c179e\"], [0.4444444444444444, \"#bd3786\"], [0.5555555555555556, \"#d8576b\"], [0.6666666666666666, \"#ed7953\"], [0.7777777777777778, \"#fb9f3a\"], [0.8888888888888888, \"#fdca26\"], [1.0, \"#f0f921\"]], \"sequentialminus\": [[0.0, \"#0d0887\"], [0.1111111111111111, \"#46039f\"], [0.2222222222222222, \"#7201a8\"], [0.3333333333333333, \"#9c179e\"], [0.4444444444444444, \"#bd3786\"], [0.5555555555555556, \"#d8576b\"], [0.6666666666666666, \"#ed7953\"], [0.7777777777777778, \"#fb9f3a\"], [0.8888888888888888, \"#fdca26\"], [1.0, \"#f0f921\"]]}, \"colorway\": [\"#636efa\", \"#EF553B\", \"#00cc96\", \"#ab63fa\", \"#FFA15A\", \"#19d3f3\", \"#FF6692\", \"#B6E880\", \"#FF97FF\", \"#FECB52\"], \"font\": {\"color\": \"#2a3f5f\"}, \"geo\": {\"bgcolor\": \"white\", \"lakecolor\": \"white\", \"landcolor\": \"#E5ECF6\", \"showlakes\": true, \"showland\": true, \"subunitcolor\": \"white\"}, \"hoverlabel\": {\"align\": \"left\"}, \"hovermode\": \"closest\", \"mapbox\": {\"style\": \"light\"}, \"paper_bgcolor\": \"white\", \"plot_bgcolor\": \"#E5ECF6\", \"polar\": {\"angularaxis\": {\"gridcolor\": \"white\", \"linecolor\": \"white\", \"ticks\": \"\"}, \"bgcolor\": \"#E5ECF6\", \"radialaxis\": {\"gridcolor\": \"white\", \"linecolor\": \"white\", \"ticks\": \"\"}}, \"scene\": {\"xaxis\": {\"backgroundcolor\": \"#E5ECF6\", \"gridcolor\": \"white\", \"gridwidth\": 2, \"linecolor\": \"white\", \"showbackground\": true, \"ticks\": \"\", \"zerolinecolor\": \"white\"}, \"yaxis\": {\"backgroundcolor\": \"#E5ECF6\", \"gridcolor\": \"white\", \"gridwidth\": 2, \"linecolor\": \"white\", \"showbackground\": true, \"ticks\": \"\", \"zerolinecolor\": \"white\"}, \"zaxis\": {\"backgroundcolor\": \"#E5ECF6\", \"gridcolor\": \"white\", \"gridwidth\": 2, \"linecolor\": \"white\", \"showbackground\": true, \"ticks\": \"\", \"zerolinecolor\": \"white\"}}, \"shapedefaults\": {\"line\": {\"color\": \"#2a3f5f\"}}, \"ternary\": {\"aaxis\": {\"gridcolor\": \"white\", \"linecolor\": \"white\", \"ticks\": \"\"}, \"baxis\": {\"gridcolor\": \"white\", \"linecolor\": \"white\", \"ticks\": \"\"}, \"bgcolor\": \"#E5ECF6\", \"caxis\": {\"gridcolor\": \"white\", \"linecolor\": \"white\", \"ticks\": \"\"}}, \"title\": {\"x\": 0.05}, \"xaxis\": {\"automargin\": true, \"gridcolor\": \"white\", \"linecolor\": \"white\", \"ticks\": \"\", \"title\": {\"standoff\": 15}, \"zerolinecolor\": \"white\", \"zerolinewidth\": 2}, \"yaxis\": {\"automargin\": true, \"gridcolor\": \"white\", \"linecolor\": \"white\", \"ticks\": \"\", \"title\": {\"standoff\": 15}, \"zerolinecolor\": \"white\", \"zerolinewidth\": 2}}}, \"title\": {\"text\": \"Total population in 2018\"}},\n",
       "                        {\"responsive\": true}\n",
       "                    ).then(function(){\n",
       "                            \n",
       "var gd = document.getElementById('8556d9e5-ae5b-4748-bc8b-a9fc046558cc');\n",
       "var x = new MutationObserver(function (mutations, observer) {{\n",
       "        var display = window.getComputedStyle(gd).display;\n",
       "        if (!display || display === 'none') {{\n",
       "            console.log([gd, 'removed!']);\n",
       "            Plotly.purge(gd);\n",
       "            observer.disconnect();\n",
       "        }}\n",
       "}});\n",
       "\n",
       "// Listen for the removal of the full notebook cells\n",
       "var notebookContainer = gd.closest('#notebook-container');\n",
       "if (notebookContainer) {{\n",
       "    x.observe(notebookContainer, {childList: true});\n",
       "}}\n",
       "\n",
       "// Listen for the clearing of the current output cell\n",
       "var outputEl = gd.closest('.output');\n",
       "if (outputEl) {{\n",
       "    x.observe(outputEl, {childList: true});\n",
       "}}\n",
       "\n",
       "                        })\n",
       "                };\n",
       "                });\n",
       "            </script>\n",
       "        </div>"
      ]
     },
     "metadata": {},
     "output_type": "display_data"
    }
   ],
   "source": [
    "title = \"Total population in 2018\"\n",
    "pop_tot_column_name = 'Population, total in 2018'\n",
    "\n",
    "df_pop_tot = df_country_stats.loc[selected_countries, [pop_tot_column_name]]\n",
    "#print(df_pop_tot)\n",
    "df_pop_tot.sort_values(pop_tot_column_name, axis=0, ascending=False, inplace=True)\n",
    "\n",
    "fig = go.Figure()\n",
    "fig.add_trace(go.Bar(x=df_pop_tot.index, y=df_pop_tot.round(0)[pop_tot_column_name]))\n",
    "fig.update_layout(title_text=title)\n",
    "#fig.show(\"png\")\n",
    "fig.show()\n",
    "fig.write_image(directory+title+\".png\")\n",
    "io.saveDataCsv(df_pop_tot, directory, title)"
   ]
  },
  {
   "cell_type": "markdown",
   "metadata": {},
   "source": [
    "### Total population by sex"
   ]
  },
  {
   "cell_type": "code",
   "execution_count": 26,
   "metadata": {},
   "outputs": [
    {
     "data": {
      "application/vnd.plotly.v1+json": {
       "config": {
        "plotlyServerURL": "https://plot.ly"
       },
       "data": [
        {
         "name": "female",
         "type": "bar",
         "x": [
          "China",
          "US",
          "Japan",
          "Germany",
          "Turkey",
          "France",
          "UK",
          "Italy",
          "Spain",
          "Poland",
          "Romania",
          "Netherlands",
          "Syria",
          "Belgium",
          "Greece",
          "Portugal",
          "Czech Republic",
          "Hungary",
          "Sweden",
          "Austria",
          "Switzerland",
          "Bulgaria",
          "Serbia",
          "Denmark",
          "Finland",
          "Slovakia",
          "Ireland",
          "Croatia",
          "Bosnia and Herzegovina",
          "Lithuania",
          "Latvia",
          "Slovenia",
          "Estonia",
          "Cyprus",
          "Luxembourg",
          "Malta"
         ],
         "y": [
          677972244.9150795,
          165285035.59962916,
          64731350.14272794,
          42011589.937550925,
          41717835.95656342,
          34554861.03664375,
          33666883.14552761,
          31047580.617400356,
          23780818.93663599,
          19570614.43684457,
          9998647.664106887,
          8653579.32320787,
          8421731.546976166,
          5778803.343850031,
          5462121.098601784,
          5419718.448609387,
          5398765.693801117,
          5122011.164871766,
          5086065.792192446,
          4496898.182458563,
          4294647.755521886,
          3611436.62461991,
          3561038.995476522,
          2914619.7549652476,
          2798796.8136026883,
          2796404.619748663,
          2447405.1283617523,
          2120461.113745598,
          1695553.9999999986,
          1500544.4378135623,
          1040528.5449018679,
          1038755.3415360976,
          698198.5025198178,
          594288.4991322348,
          301063.94778268377,
          241152.40721221146
         ]
        },
        {
         "name": "male",
         "type": "bar",
         "x": [
          "China",
          "US",
          "Japan",
          "Germany",
          "Turkey",
          "France",
          "UK",
          "Italy",
          "Spain",
          "Poland",
          "Romania",
          "Netherlands",
          "Syria",
          "Belgium",
          "Greece",
          "Portugal",
          "Czech Republic",
          "Hungary",
          "Sweden",
          "Austria",
          "Switzerland",
          "Bulgaria",
          "Serbia",
          "Denmark",
          "Finland",
          "Slovakia",
          "Ireland",
          "Croatia",
          "Bosnia and Herzegovina",
          "Lithuania",
          "Latvia",
          "Slovenia",
          "Estonia",
          "Cyprus",
          "Luxembourg",
          "Malta"
         ],
         "y": [
          714757755.0849205,
          161882398.40037084,
          61797749.85727206,
          40916332.062449075,
          40601888.04343658,
          32432382.963356256,
          32822107.854472395,
          29383702.382599648,
          22942930.06336401,
          18407933.56315543,
          9475288.335893113,
          8577437.67679213,
          8484551.453023834,
          5643264.656149969,
          5265546.901398216,
          4862043.551390613,
          5226929.306198883,
          4646773.835128234,
          5097109.207807554,
          4350138.817541437,
          4221895.244478114,
          3412779.37538009,
          3421045.004523478,
          2882826.2450347524,
          2719253.1863973117,
          2650606.380251337,
          2406100.8716382477,
          1968938.886254402,
          1628375.0000000014,
          1288988.5621864377,
          886013.4550981321,
          1028616.6584639024,
          622685.4974801822,
          594976.5008677652,
          306664.05221731623,
          242377.59278778854
         ]
        }
       ],
       "layout": {
        "autosize": true,
        "barmode": "group",
        "template": {
         "data": {
          "bar": [
           {
            "error_x": {
             "color": "#2a3f5f"
            },
            "error_y": {
             "color": "#2a3f5f"
            },
            "marker": {
             "line": {
              "color": "#E5ECF6",
              "width": 0.5
             }
            },
            "type": "bar"
           }
          ],
          "barpolar": [
           {
            "marker": {
             "line": {
              "color": "#E5ECF6",
              "width": 0.5
             }
            },
            "type": "barpolar"
           }
          ],
          "carpet": [
           {
            "aaxis": {
             "endlinecolor": "#2a3f5f",
             "gridcolor": "white",
             "linecolor": "white",
             "minorgridcolor": "white",
             "startlinecolor": "#2a3f5f"
            },
            "baxis": {
             "endlinecolor": "#2a3f5f",
             "gridcolor": "white",
             "linecolor": "white",
             "minorgridcolor": "white",
             "startlinecolor": "#2a3f5f"
            },
            "type": "carpet"
           }
          ],
          "choropleth": [
           {
            "colorbar": {
             "outlinewidth": 0,
             "ticks": ""
            },
            "type": "choropleth"
           }
          ],
          "contour": [
           {
            "colorbar": {
             "outlinewidth": 0,
             "ticks": ""
            },
            "colorscale": [
             [
              0,
              "#0d0887"
             ],
             [
              0.1111111111111111,
              "#46039f"
             ],
             [
              0.2222222222222222,
              "#7201a8"
             ],
             [
              0.3333333333333333,
              "#9c179e"
             ],
             [
              0.4444444444444444,
              "#bd3786"
             ],
             [
              0.5555555555555556,
              "#d8576b"
             ],
             [
              0.6666666666666666,
              "#ed7953"
             ],
             [
              0.7777777777777778,
              "#fb9f3a"
             ],
             [
              0.8888888888888888,
              "#fdca26"
             ],
             [
              1,
              "#f0f921"
             ]
            ],
            "type": "contour"
           }
          ],
          "contourcarpet": [
           {
            "colorbar": {
             "outlinewidth": 0,
             "ticks": ""
            },
            "type": "contourcarpet"
           }
          ],
          "heatmap": [
           {
            "colorbar": {
             "outlinewidth": 0,
             "ticks": ""
            },
            "colorscale": [
             [
              0,
              "#0d0887"
             ],
             [
              0.1111111111111111,
              "#46039f"
             ],
             [
              0.2222222222222222,
              "#7201a8"
             ],
             [
              0.3333333333333333,
              "#9c179e"
             ],
             [
              0.4444444444444444,
              "#bd3786"
             ],
             [
              0.5555555555555556,
              "#d8576b"
             ],
             [
              0.6666666666666666,
              "#ed7953"
             ],
             [
              0.7777777777777778,
              "#fb9f3a"
             ],
             [
              0.8888888888888888,
              "#fdca26"
             ],
             [
              1,
              "#f0f921"
             ]
            ],
            "type": "heatmap"
           }
          ],
          "heatmapgl": [
           {
            "colorbar": {
             "outlinewidth": 0,
             "ticks": ""
            },
            "colorscale": [
             [
              0,
              "#0d0887"
             ],
             [
              0.1111111111111111,
              "#46039f"
             ],
             [
              0.2222222222222222,
              "#7201a8"
             ],
             [
              0.3333333333333333,
              "#9c179e"
             ],
             [
              0.4444444444444444,
              "#bd3786"
             ],
             [
              0.5555555555555556,
              "#d8576b"
             ],
             [
              0.6666666666666666,
              "#ed7953"
             ],
             [
              0.7777777777777778,
              "#fb9f3a"
             ],
             [
              0.8888888888888888,
              "#fdca26"
             ],
             [
              1,
              "#f0f921"
             ]
            ],
            "type": "heatmapgl"
           }
          ],
          "histogram": [
           {
            "marker": {
             "colorbar": {
              "outlinewidth": 0,
              "ticks": ""
             }
            },
            "type": "histogram"
           }
          ],
          "histogram2d": [
           {
            "colorbar": {
             "outlinewidth": 0,
             "ticks": ""
            },
            "colorscale": [
             [
              0,
              "#0d0887"
             ],
             [
              0.1111111111111111,
              "#46039f"
             ],
             [
              0.2222222222222222,
              "#7201a8"
             ],
             [
              0.3333333333333333,
              "#9c179e"
             ],
             [
              0.4444444444444444,
              "#bd3786"
             ],
             [
              0.5555555555555556,
              "#d8576b"
             ],
             [
              0.6666666666666666,
              "#ed7953"
             ],
             [
              0.7777777777777778,
              "#fb9f3a"
             ],
             [
              0.8888888888888888,
              "#fdca26"
             ],
             [
              1,
              "#f0f921"
             ]
            ],
            "type": "histogram2d"
           }
          ],
          "histogram2dcontour": [
           {
            "colorbar": {
             "outlinewidth": 0,
             "ticks": ""
            },
            "colorscale": [
             [
              0,
              "#0d0887"
             ],
             [
              0.1111111111111111,
              "#46039f"
             ],
             [
              0.2222222222222222,
              "#7201a8"
             ],
             [
              0.3333333333333333,
              "#9c179e"
             ],
             [
              0.4444444444444444,
              "#bd3786"
             ],
             [
              0.5555555555555556,
              "#d8576b"
             ],
             [
              0.6666666666666666,
              "#ed7953"
             ],
             [
              0.7777777777777778,
              "#fb9f3a"
             ],
             [
              0.8888888888888888,
              "#fdca26"
             ],
             [
              1,
              "#f0f921"
             ]
            ],
            "type": "histogram2dcontour"
           }
          ],
          "mesh3d": [
           {
            "colorbar": {
             "outlinewidth": 0,
             "ticks": ""
            },
            "type": "mesh3d"
           }
          ],
          "parcoords": [
           {
            "line": {
             "colorbar": {
              "outlinewidth": 0,
              "ticks": ""
             }
            },
            "type": "parcoords"
           }
          ],
          "pie": [
           {
            "automargin": true,
            "type": "pie"
           }
          ],
          "scatter": [
           {
            "marker": {
             "colorbar": {
              "outlinewidth": 0,
              "ticks": ""
             }
            },
            "type": "scatter"
           }
          ],
          "scatter3d": [
           {
            "line": {
             "colorbar": {
              "outlinewidth": 0,
              "ticks": ""
             }
            },
            "marker": {
             "colorbar": {
              "outlinewidth": 0,
              "ticks": ""
             }
            },
            "type": "scatter3d"
           }
          ],
          "scattercarpet": [
           {
            "marker": {
             "colorbar": {
              "outlinewidth": 0,
              "ticks": ""
             }
            },
            "type": "scattercarpet"
           }
          ],
          "scattergeo": [
           {
            "marker": {
             "colorbar": {
              "outlinewidth": 0,
              "ticks": ""
             }
            },
            "type": "scattergeo"
           }
          ],
          "scattergl": [
           {
            "marker": {
             "colorbar": {
              "outlinewidth": 0,
              "ticks": ""
             }
            },
            "type": "scattergl"
           }
          ],
          "scattermapbox": [
           {
            "marker": {
             "colorbar": {
              "outlinewidth": 0,
              "ticks": ""
             }
            },
            "type": "scattermapbox"
           }
          ],
          "scatterpolar": [
           {
            "marker": {
             "colorbar": {
              "outlinewidth": 0,
              "ticks": ""
             }
            },
            "type": "scatterpolar"
           }
          ],
          "scatterpolargl": [
           {
            "marker": {
             "colorbar": {
              "outlinewidth": 0,
              "ticks": ""
             }
            },
            "type": "scatterpolargl"
           }
          ],
          "scatterternary": [
           {
            "marker": {
             "colorbar": {
              "outlinewidth": 0,
              "ticks": ""
             }
            },
            "type": "scatterternary"
           }
          ],
          "surface": [
           {
            "colorbar": {
             "outlinewidth": 0,
             "ticks": ""
            },
            "colorscale": [
             [
              0,
              "#0d0887"
             ],
             [
              0.1111111111111111,
              "#46039f"
             ],
             [
              0.2222222222222222,
              "#7201a8"
             ],
             [
              0.3333333333333333,
              "#9c179e"
             ],
             [
              0.4444444444444444,
              "#bd3786"
             ],
             [
              0.5555555555555556,
              "#d8576b"
             ],
             [
              0.6666666666666666,
              "#ed7953"
             ],
             [
              0.7777777777777778,
              "#fb9f3a"
             ],
             [
              0.8888888888888888,
              "#fdca26"
             ],
             [
              1,
              "#f0f921"
             ]
            ],
            "type": "surface"
           }
          ],
          "table": [
           {
            "cells": {
             "fill": {
              "color": "#EBF0F8"
             },
             "line": {
              "color": "white"
             }
            },
            "header": {
             "fill": {
              "color": "#C8D4E3"
             },
             "line": {
              "color": "white"
             }
            },
            "type": "table"
           }
          ]
         },
         "layout": {
          "annotationdefaults": {
           "arrowcolor": "#2a3f5f",
           "arrowhead": 0,
           "arrowwidth": 1
          },
          "coloraxis": {
           "colorbar": {
            "outlinewidth": 0,
            "ticks": ""
           }
          },
          "colorscale": {
           "diverging": [
            [
             0,
             "#8e0152"
            ],
            [
             0.1,
             "#c51b7d"
            ],
            [
             0.2,
             "#de77ae"
            ],
            [
             0.3,
             "#f1b6da"
            ],
            [
             0.4,
             "#fde0ef"
            ],
            [
             0.5,
             "#f7f7f7"
            ],
            [
             0.6,
             "#e6f5d0"
            ],
            [
             0.7,
             "#b8e186"
            ],
            [
             0.8,
             "#7fbc41"
            ],
            [
             0.9,
             "#4d9221"
            ],
            [
             1,
             "#276419"
            ]
           ],
           "sequential": [
            [
             0,
             "#0d0887"
            ],
            [
             0.1111111111111111,
             "#46039f"
            ],
            [
             0.2222222222222222,
             "#7201a8"
            ],
            [
             0.3333333333333333,
             "#9c179e"
            ],
            [
             0.4444444444444444,
             "#bd3786"
            ],
            [
             0.5555555555555556,
             "#d8576b"
            ],
            [
             0.6666666666666666,
             "#ed7953"
            ],
            [
             0.7777777777777778,
             "#fb9f3a"
            ],
            [
             0.8888888888888888,
             "#fdca26"
            ],
            [
             1,
             "#f0f921"
            ]
           ],
           "sequentialminus": [
            [
             0,
             "#0d0887"
            ],
            [
             0.1111111111111111,
             "#46039f"
            ],
            [
             0.2222222222222222,
             "#7201a8"
            ],
            [
             0.3333333333333333,
             "#9c179e"
            ],
            [
             0.4444444444444444,
             "#bd3786"
            ],
            [
             0.5555555555555556,
             "#d8576b"
            ],
            [
             0.6666666666666666,
             "#ed7953"
            ],
            [
             0.7777777777777778,
             "#fb9f3a"
            ],
            [
             0.8888888888888888,
             "#fdca26"
            ],
            [
             1,
             "#f0f921"
            ]
           ]
          },
          "colorway": [
           "#636efa",
           "#EF553B",
           "#00cc96",
           "#ab63fa",
           "#FFA15A",
           "#19d3f3",
           "#FF6692",
           "#B6E880",
           "#FF97FF",
           "#FECB52"
          ],
          "font": {
           "color": "#2a3f5f"
          },
          "geo": {
           "bgcolor": "white",
           "lakecolor": "white",
           "landcolor": "#E5ECF6",
           "showlakes": true,
           "showland": true,
           "subunitcolor": "white"
          },
          "hoverlabel": {
           "align": "left"
          },
          "hovermode": "closest",
          "mapbox": {
           "style": "light"
          },
          "paper_bgcolor": "white",
          "plot_bgcolor": "#E5ECF6",
          "polar": {
           "angularaxis": {
            "gridcolor": "white",
            "linecolor": "white",
            "ticks": ""
           },
           "bgcolor": "#E5ECF6",
           "radialaxis": {
            "gridcolor": "white",
            "linecolor": "white",
            "ticks": ""
           }
          },
          "scene": {
           "xaxis": {
            "backgroundcolor": "#E5ECF6",
            "gridcolor": "white",
            "gridwidth": 2,
            "linecolor": "white",
            "showbackground": true,
            "ticks": "",
            "zerolinecolor": "white"
           },
           "yaxis": {
            "backgroundcolor": "#E5ECF6",
            "gridcolor": "white",
            "gridwidth": 2,
            "linecolor": "white",
            "showbackground": true,
            "ticks": "",
            "zerolinecolor": "white"
           },
           "zaxis": {
            "backgroundcolor": "#E5ECF6",
            "gridcolor": "white",
            "gridwidth": 2,
            "linecolor": "white",
            "showbackground": true,
            "ticks": "",
            "zerolinecolor": "white"
           }
          },
          "shapedefaults": {
           "line": {
            "color": "#2a3f5f"
           }
          },
          "ternary": {
           "aaxis": {
            "gridcolor": "white",
            "linecolor": "white",
            "ticks": ""
           },
           "baxis": {
            "gridcolor": "white",
            "linecolor": "white",
            "ticks": ""
           },
           "bgcolor": "#E5ECF6",
           "caxis": {
            "gridcolor": "white",
            "linecolor": "white",
            "ticks": ""
           }
          },
          "title": {
           "x": 0.05
          },
          "xaxis": {
           "automargin": true,
           "gridcolor": "white",
           "linecolor": "white",
           "ticks": "",
           "title": {
            "standoff": 15
           },
           "zerolinecolor": "white",
           "zerolinewidth": 2
          },
          "yaxis": {
           "automargin": true,
           "gridcolor": "white",
           "linecolor": "white",
           "ticks": "",
           "title": {
            "standoff": 15
           },
           "zerolinecolor": "white",
           "zerolinewidth": 2
          }
         }
        },
        "title": {
         "text": "Total population by sex in 2018"
        },
        "xaxis": {
         "autorange": true,
         "range": [
          -0.5,
          35.5
         ],
         "type": "category"
        },
        "yaxis": {
         "autorange": true,
         "range": [
          0,
          752376584.2999164
         ],
         "type": "linear"
        }
       }
      },
      "image/png": "[encoded data removed]",
      "text/html": [
       "<div>\n",
       "        \n",
       "        \n",
       "            <div id=\"973f7885-115e-41f4-8819-db30d16adb3d\" class=\"plotly-graph-div\" style=\"height:525px; width:100%;\"></div>\n",
       "            <script type=\"text/javascript\">\n",
       "                require([\"plotly\"], function(Plotly) {\n",
       "                    window.PLOTLYENV=window.PLOTLYENV || {};\n",
       "                    \n",
       "                if (document.getElementById(\"973f7885-115e-41f4-8819-db30d16adb3d\")) {\n",
       "                    Plotly.newPlot(\n",
       "                        '973f7885-115e-41f4-8819-db30d16adb3d',\n",
       "                        [{\"name\": \"female\", \"type\": \"bar\", \"x\": [\"China\", \"US\", \"Japan\", \"Germany\", \"Turkey\", \"France\", \"UK\", \"Italy\", \"Spain\", \"Poland\", \"Romania\", \"Netherlands\", \"Syria\", \"Belgium\", \"Greece\", \"Portugal\", \"Czech Republic\", \"Hungary\", \"Sweden\", \"Austria\", \"Switzerland\", \"Bulgaria\", \"Serbia\", \"Denmark\", \"Finland\", \"Slovakia\", \"Ireland\", \"Croatia\", \"Bosnia and Herzegovina\", \"Lithuania\", \"Latvia\", \"Slovenia\", \"Estonia\", \"Cyprus\", \"Luxembourg\", \"Malta\"], \"y\": [677972244.9150795, 165285035.59962916, 64731350.14272794, 42011589.937550925, 41717835.95656342, 34554861.03664375, 33666883.14552761, 31047580.617400356, 23780818.93663599, 19570614.43684457, 9998647.664106887, 8653579.32320787, 8421731.546976166, 5778803.343850031, 5462121.098601784, 5419718.448609387, 5398765.693801117, 5122011.164871766, 5086065.792192446, 4496898.182458563, 4294647.755521886, 3611436.62461991, 3561038.995476522, 2914619.7549652476, 2798796.8136026883, 2796404.619748663, 2447405.1283617523, 2120461.113745598, 1695553.9999999986, 1500544.4378135623, 1040528.5449018679, 1038755.3415360976, 698198.5025198178, 594288.4991322348, 301063.94778268377, 241152.40721221146]}, {\"name\": \"male\", \"type\": \"bar\", \"x\": [\"China\", \"US\", \"Japan\", \"Germany\", \"Turkey\", \"France\", \"UK\", \"Italy\", \"Spain\", \"Poland\", \"Romania\", \"Netherlands\", \"Syria\", \"Belgium\", \"Greece\", \"Portugal\", \"Czech Republic\", \"Hungary\", \"Sweden\", \"Austria\", \"Switzerland\", \"Bulgaria\", \"Serbia\", \"Denmark\", \"Finland\", \"Slovakia\", \"Ireland\", \"Croatia\", \"Bosnia and Herzegovina\", \"Lithuania\", \"Latvia\", \"Slovenia\", \"Estonia\", \"Cyprus\", \"Luxembourg\", \"Malta\"], \"y\": [714757755.0849205, 161882398.40037084, 61797749.85727206, 40916332.062449075, 40601888.04343658, 32432382.963356256, 32822107.854472395, 29383702.382599648, 22942930.06336401, 18407933.56315543, 9475288.335893113, 8577437.67679213, 8484551.453023834, 5643264.656149969, 5265546.901398216, 4862043.551390613, 5226929.306198883, 4646773.835128234, 5097109.207807554, 4350138.817541437, 4221895.244478114, 3412779.37538009, 3421045.004523478, 2882826.2450347524, 2719253.1863973117, 2650606.380251337, 2406100.8716382477, 1968938.886254402, 1628375.0000000014, 1288988.5621864377, 886013.4550981321, 1028616.6584639024, 622685.4974801822, 594976.5008677652, 306664.05221731623, 242377.59278778854]}],\n",
       "                        {\"barmode\": \"group\", \"template\": {\"data\": {\"bar\": [{\"error_x\": {\"color\": \"#2a3f5f\"}, \"error_y\": {\"color\": \"#2a3f5f\"}, \"marker\": {\"line\": {\"color\": \"#E5ECF6\", \"width\": 0.5}}, \"type\": \"bar\"}], \"barpolar\": [{\"marker\": {\"line\": {\"color\": \"#E5ECF6\", \"width\": 0.5}}, \"type\": \"barpolar\"}], \"carpet\": [{\"aaxis\": {\"endlinecolor\": \"#2a3f5f\", \"gridcolor\": \"white\", \"linecolor\": \"white\", \"minorgridcolor\": \"white\", \"startlinecolor\": \"#2a3f5f\"}, \"baxis\": {\"endlinecolor\": \"#2a3f5f\", \"gridcolor\": \"white\", \"linecolor\": \"white\", \"minorgridcolor\": \"white\", \"startlinecolor\": \"#2a3f5f\"}, \"type\": \"carpet\"}], \"choropleth\": [{\"colorbar\": {\"outlinewidth\": 0, \"ticks\": \"\"}, \"type\": \"choropleth\"}], \"contour\": [{\"colorbar\": {\"outlinewidth\": 0, \"ticks\": \"\"}, \"colorscale\": [[0.0, \"#0d0887\"], [0.1111111111111111, \"#46039f\"], [0.2222222222222222, \"#7201a8\"], [0.3333333333333333, \"#9c179e\"], [0.4444444444444444, \"#bd3786\"], [0.5555555555555556, \"#d8576b\"], [0.6666666666666666, \"#ed7953\"], [0.7777777777777778, \"#fb9f3a\"], [0.8888888888888888, \"#fdca26\"], [1.0, \"#f0f921\"]], \"type\": \"contour\"}], \"contourcarpet\": [{\"colorbar\": {\"outlinewidth\": 0, \"ticks\": \"\"}, \"type\": \"contourcarpet\"}], \"heatmap\": [{\"colorbar\": {\"outlinewidth\": 0, \"ticks\": \"\"}, \"colorscale\": [[0.0, \"#0d0887\"], [0.1111111111111111, \"#46039f\"], [0.2222222222222222, \"#7201a8\"], [0.3333333333333333, \"#9c179e\"], [0.4444444444444444, \"#bd3786\"], [0.5555555555555556, \"#d8576b\"], [0.6666666666666666, \"#ed7953\"], [0.7777777777777778, \"#fb9f3a\"], [0.8888888888888888, \"#fdca26\"], [1.0, \"#f0f921\"]], \"type\": \"heatmap\"}], \"heatmapgl\": [{\"colorbar\": {\"outlinewidth\": 0, \"ticks\": \"\"}, \"colorscale\": [[0.0, \"#0d0887\"], [0.1111111111111111, \"#46039f\"], [0.2222222222222222, \"#7201a8\"], [0.3333333333333333, \"#9c179e\"], [0.4444444444444444, \"#bd3786\"], [0.5555555555555556, \"#d8576b\"], [0.6666666666666666, \"#ed7953\"], [0.7777777777777778, \"#fb9f3a\"], [0.8888888888888888, \"#fdca26\"], [1.0, \"#f0f921\"]], \"type\": \"heatmapgl\"}], \"histogram\": [{\"marker\": {\"colorbar\": {\"outlinewidth\": 0, \"ticks\": \"\"}}, \"type\": \"histogram\"}], \"histogram2d\": [{\"colorbar\": {\"outlinewidth\": 0, \"ticks\": \"\"}, \"colorscale\": [[0.0, \"#0d0887\"], [0.1111111111111111, \"#46039f\"], [0.2222222222222222, \"#7201a8\"], [0.3333333333333333, \"#9c179e\"], [0.4444444444444444, \"#bd3786\"], [0.5555555555555556, \"#d8576b\"], [0.6666666666666666, \"#ed7953\"], [0.7777777777777778, \"#fb9f3a\"], [0.8888888888888888, \"#fdca26\"], [1.0, \"#f0f921\"]], \"type\": \"histogram2d\"}], \"histogram2dcontour\": [{\"colorbar\": {\"outlinewidth\": 0, \"ticks\": \"\"}, \"colorscale\": [[0.0, \"#0d0887\"], [0.1111111111111111, \"#46039f\"], [0.2222222222222222, \"#7201a8\"], [0.3333333333333333, \"#9c179e\"], [0.4444444444444444, \"#bd3786\"], [0.5555555555555556, \"#d8576b\"], [0.6666666666666666, \"#ed7953\"], [0.7777777777777778, \"#fb9f3a\"], [0.8888888888888888, \"#fdca26\"], [1.0, \"#f0f921\"]], \"type\": \"histogram2dcontour\"}], \"mesh3d\": [{\"colorbar\": {\"outlinewidth\": 0, \"ticks\": \"\"}, \"type\": \"mesh3d\"}], \"parcoords\": [{\"line\": {\"colorbar\": {\"outlinewidth\": 0, \"ticks\": \"\"}}, \"type\": \"parcoords\"}], \"pie\": [{\"automargin\": true, \"type\": \"pie\"}], \"scatter\": [{\"marker\": {\"colorbar\": {\"outlinewidth\": 0, \"ticks\": \"\"}}, \"type\": \"scatter\"}], \"scatter3d\": [{\"line\": {\"colorbar\": {\"outlinewidth\": 0, \"ticks\": \"\"}}, \"marker\": {\"colorbar\": {\"outlinewidth\": 0, \"ticks\": \"\"}}, \"type\": \"scatter3d\"}], \"scattercarpet\": [{\"marker\": {\"colorbar\": {\"outlinewidth\": 0, \"ticks\": \"\"}}, \"type\": \"scattercarpet\"}], \"scattergeo\": [{\"marker\": {\"colorbar\": {\"outlinewidth\": 0, \"ticks\": \"\"}}, \"type\": \"scattergeo\"}], \"scattergl\": [{\"marker\": {\"colorbar\": {\"outlinewidth\": 0, \"ticks\": \"\"}}, \"type\": \"scattergl\"}], \"scattermapbox\": [{\"marker\": {\"colorbar\": {\"outlinewidth\": 0, \"ticks\": \"\"}}, \"type\": \"scattermapbox\"}], \"scatterpolar\": [{\"marker\": {\"colorbar\": {\"outlinewidth\": 0, \"ticks\": \"\"}}, \"type\": \"scatterpolar\"}], \"scatterpolargl\": [{\"marker\": {\"colorbar\": {\"outlinewidth\": 0, \"ticks\": \"\"}}, \"type\": \"scatterpolargl\"}], \"scatterternary\": [{\"marker\": {\"colorbar\": {\"outlinewidth\": 0, \"ticks\": \"\"}}, \"type\": \"scatterternary\"}], \"surface\": [{\"colorbar\": {\"outlinewidth\": 0, \"ticks\": \"\"}, \"colorscale\": [[0.0, \"#0d0887\"], [0.1111111111111111, \"#46039f\"], [0.2222222222222222, \"#7201a8\"], [0.3333333333333333, \"#9c179e\"], [0.4444444444444444, \"#bd3786\"], [0.5555555555555556, \"#d8576b\"], [0.6666666666666666, \"#ed7953\"], [0.7777777777777778, \"#fb9f3a\"], [0.8888888888888888, \"#fdca26\"], [1.0, \"#f0f921\"]], \"type\": \"surface\"}], \"table\": [{\"cells\": {\"fill\": {\"color\": \"#EBF0F8\"}, \"line\": {\"color\": \"white\"}}, \"header\": {\"fill\": {\"color\": \"#C8D4E3\"}, \"line\": {\"color\": \"white\"}}, \"type\": \"table\"}]}, \"layout\": {\"annotationdefaults\": {\"arrowcolor\": \"#2a3f5f\", \"arrowhead\": 0, \"arrowwidth\": 1}, \"coloraxis\": {\"colorbar\": {\"outlinewidth\": 0, \"ticks\": \"\"}}, \"colorscale\": {\"diverging\": [[0, \"#8e0152\"], [0.1, \"#c51b7d\"], [0.2, \"#de77ae\"], [0.3, \"#f1b6da\"], [0.4, \"#fde0ef\"], [0.5, \"#f7f7f7\"], [0.6, \"#e6f5d0\"], [0.7, \"#b8e186\"], [0.8, \"#7fbc41\"], [0.9, \"#4d9221\"], [1, \"#276419\"]], \"sequential\": [[0.0, \"#0d0887\"], [0.1111111111111111, \"#46039f\"], [0.2222222222222222, \"#7201a8\"], [0.3333333333333333, \"#9c179e\"], [0.4444444444444444, \"#bd3786\"], [0.5555555555555556, \"#d8576b\"], [0.6666666666666666, \"#ed7953\"], [0.7777777777777778, \"#fb9f3a\"], [0.8888888888888888, \"#fdca26\"], [1.0, \"#f0f921\"]], \"sequentialminus\": [[0.0, \"#0d0887\"], [0.1111111111111111, \"#46039f\"], [0.2222222222222222, \"#7201a8\"], [0.3333333333333333, \"#9c179e\"], [0.4444444444444444, \"#bd3786\"], [0.5555555555555556, \"#d8576b\"], [0.6666666666666666, \"#ed7953\"], [0.7777777777777778, \"#fb9f3a\"], [0.8888888888888888, \"#fdca26\"], [1.0, \"#f0f921\"]]}, \"colorway\": [\"#636efa\", \"#EF553B\", \"#00cc96\", \"#ab63fa\", \"#FFA15A\", \"#19d3f3\", \"#FF6692\", \"#B6E880\", \"#FF97FF\", \"#FECB52\"], \"font\": {\"color\": \"#2a3f5f\"}, \"geo\": {\"bgcolor\": \"white\", \"lakecolor\": \"white\", \"landcolor\": \"#E5ECF6\", \"showlakes\": true, \"showland\": true, \"subunitcolor\": \"white\"}, \"hoverlabel\": {\"align\": \"left\"}, \"hovermode\": \"closest\", \"mapbox\": {\"style\": \"light\"}, \"paper_bgcolor\": \"white\", \"plot_bgcolor\": \"#E5ECF6\", \"polar\": {\"angularaxis\": {\"gridcolor\": \"white\", \"linecolor\": \"white\", \"ticks\": \"\"}, \"bgcolor\": \"#E5ECF6\", \"radialaxis\": {\"gridcolor\": \"white\", \"linecolor\": \"white\", \"ticks\": \"\"}}, \"scene\": {\"xaxis\": {\"backgroundcolor\": \"#E5ECF6\", \"gridcolor\": \"white\", \"gridwidth\": 2, \"linecolor\": \"white\", \"showbackground\": true, \"ticks\": \"\", \"zerolinecolor\": \"white\"}, \"yaxis\": {\"backgroundcolor\": \"#E5ECF6\", \"gridcolor\": \"white\", \"gridwidth\": 2, \"linecolor\": \"white\", \"showbackground\": true, \"ticks\": \"\", \"zerolinecolor\": \"white\"}, \"zaxis\": {\"backgroundcolor\": \"#E5ECF6\", \"gridcolor\": \"white\", \"gridwidth\": 2, \"linecolor\": \"white\", \"showbackground\": true, \"ticks\": \"\", \"zerolinecolor\": \"white\"}}, \"shapedefaults\": {\"line\": {\"color\": \"#2a3f5f\"}}, \"ternary\": {\"aaxis\": {\"gridcolor\": \"white\", \"linecolor\": \"white\", \"ticks\": \"\"}, \"baxis\": {\"gridcolor\": \"white\", \"linecolor\": \"white\", \"ticks\": \"\"}, \"bgcolor\": \"#E5ECF6\", \"caxis\": {\"gridcolor\": \"white\", \"linecolor\": \"white\", \"ticks\": \"\"}}, \"title\": {\"x\": 0.05}, \"xaxis\": {\"automargin\": true, \"gridcolor\": \"white\", \"linecolor\": \"white\", \"ticks\": \"\", \"title\": {\"standoff\": 15}, \"zerolinecolor\": \"white\", \"zerolinewidth\": 2}, \"yaxis\": {\"automargin\": true, \"gridcolor\": \"white\", \"linecolor\": \"white\", \"ticks\": \"\", \"title\": {\"standoff\": 15}, \"zerolinecolor\": \"white\", \"zerolinewidth\": 2}}}, \"title\": {\"text\": \"Total population by sex in 2018\"}},\n",
       "                        {\"responsive\": true}\n",
       "                    ).then(function(){\n",
       "                            \n",
       "var gd = document.getElementById('973f7885-115e-41f4-8819-db30d16adb3d');\n",
       "var x = new MutationObserver(function (mutations, observer) {{\n",
       "        var display = window.getComputedStyle(gd).display;\n",
       "        if (!display || display === 'none') {{\n",
       "            console.log([gd, 'removed!']);\n",
       "            Plotly.purge(gd);\n",
       "            observer.disconnect();\n",
       "        }}\n",
       "}});\n",
       "\n",
       "// Listen for the removal of the full notebook cells\n",
       "var notebookContainer = gd.closest('#notebook-container');\n",
       "if (notebookContainer) {{\n",
       "    x.observe(notebookContainer, {childList: true});\n",
       "}}\n",
       "\n",
       "// Listen for the clearing of the current output cell\n",
       "var outputEl = gd.closest('.output');\n",
       "if (outputEl) {{\n",
       "    x.observe(outputEl, {childList: true});\n",
       "}}\n",
       "\n",
       "                        })\n",
       "                };\n",
       "                });\n",
       "            </script>\n",
       "        </div>"
      ]
     },
     "metadata": {},
     "output_type": "display_data"
    }
   ],
   "source": [
    "title = \"Total population by sex in 2018\"\n",
    "\n",
    "pop_pct_female_column_name = 'Population, female (% of total population) in 2018'\n",
    "pop_pct_male_column_name = 'Population, male (% of total population) in 2018'\n",
    "src_column_names = [pop_tot_column_name, pop_pct_female_column_name, pop_pct_male_column_name]\n",
    "\n",
    "pop_tot_female_column_name = 'Population, female in 2018'\n",
    "pop_tot_male_column_name = 'Population, male in 2018'\n",
    "dst_column_names = [pop_tot_female_column_name, pop_tot_male_column_name]\n",
    "\n",
    "df_pop_tot_sex = df_country_stats.loc[selected_countries, src_column_names]\n",
    "#print(df_pop_tot_sex)\n",
    "df_pop_tot_sex[pop_tot_female_column_name] = df_pop_tot_sex.apply(lambda row: row[pop_tot_column_name]*row[pop_pct_female_column_name]/100, axis=1)\n",
    "df_pop_tot_sex[pop_tot_male_column_name] = df_pop_tot_sex.apply(lambda row: row[pop_tot_column_name]*row[pop_pct_male_column_name]/100, axis=1)\n",
    "df_pop_tot_sex = df_pop_tot_sex.loc[:, dst_column_names]\n",
    "df_pop_tot_sex.sort_values(dst_column_names, axis=0, ascending=False, inplace=True)\n",
    "#print(df_pop_tot_sex)\n",
    "\n",
    "fig = go.Figure()\n",
    "fig.add_trace(go.Bar(x=df_pop_tot_sex.index, y=df_pop_tot_sex[pop_tot_female_column_name], name=\"female\"))\n",
    "fig.add_trace(go.Bar(x=df_pop_tot_sex.index, y=df_pop_tot_sex[pop_tot_male_column_name], name=\"male\"))\n",
    "fig.update_layout(title_text=title, barmode='group')\n",
    "#fig.show(\"png\")\n",
    "fig.show()\n",
    "fig.write_image(directory+title+\".png\")\n",
    "io.saveDataCsv(df_pop_tot_sex, directory, title)"
   ]
  },
  {
   "cell_type": "markdown",
   "metadata": {},
   "source": [
    "### Risk groups as of age (70+) only"
   ]
  },
  {
   "cell_type": "code",
   "execution_count": 27,
   "metadata": {},
   "outputs": [
    {
     "data": {
      "application/vnd.plotly.v1+json": {
       "config": {
        "plotlyServerURL": "https://plot.ly"
       },
       "data": [
        {
         "name": "female",
         "type": "bar",
         "x": [
          "China",
          "US",
          "Japan",
          "Germany",
          "Italy",
          "France",
          "UK",
          "Spain",
          "Poland",
          "Turkey",
          "Romania",
          "Netherlands",
          "Portugal",
          "Greece",
          "Belgium",
          "Czech Republic",
          "Sweden",
          "Hungary",
          "Austria",
          "Switzerland",
          "Bulgaria",
          "Finland",
          "Serbia",
          "Denmark",
          "Croatia",
          "Slovakia",
          "Lithuania",
          "Syria",
          "Ireland",
          "Bosnia and Herzegovina",
          "Latvia",
          "Slovenia",
          "Estonia",
          "Cyprus",
          "Malta",
          "Luxembourg"
         ],
         "y": [
          47431078.12766691,
          19659801.732962154,
          15093189.576908998,
          7652069.041671313,
          5924254.764607748,
          5557838.064946587,
          4858110.517401721,
          3903341.2423862033,
          2736631.599939612,
          2620368.7175871204,
          1474436.000216957,
          1262553.016597732,
          975107.0207815925,
          974802.4823267743,
          887578.854625167,
          824312.1514092068,
          809753.8034503884,
          802577.8511562501,
          725149.1711703333,
          648059.7492743633,
          616697.9169647787,
          478812.48877110996,
          476418.5103935237,
          445142.398999258,
          365248.21322839655,
          344147.53498787933,
          274993.95898396085,
          251522.06808195825,
          242351.27592206543,
          207531,
          195512.25313553147,
          168181.7483555005,
          126347.91791145748,
          61891.15612455458,
          37720.96506585012,
          34277.50704682215
         ]
        },
        {
         "name": "male",
         "type": "bar",
         "x": [
          "China",
          "US",
          "Japan",
          "Germany",
          "Italy",
          "France",
          "UK",
          "Spain",
          "Poland",
          "Turkey",
          "Romania",
          "Netherlands",
          "Portugal",
          "Greece",
          "Belgium",
          "Czech Republic",
          "Sweden",
          "Hungary",
          "Austria",
          "Switzerland",
          "Bulgaria",
          "Finland",
          "Serbia",
          "Denmark",
          "Croatia",
          "Slovakia",
          "Lithuania",
          "Syria",
          "Ireland",
          "Bosnia and Herzegovina",
          "Latvia",
          "Slovenia",
          "Estonia",
          "Cyprus",
          "Malta",
          "Luxembourg"
         ],
         "y": [
          39333206.672335625,
          15016884.727038939,
          10816029.553419625,
          5628030.836397627,
          4272563.003155503,
          3907018.006403704,
          3924405.2049851823,
          2805992.8574814983,
          1580308.2617465472,
          1861020.5812410908,
          908161.5744826628,
          1018957.1189354237,
          665192.2852025391,
          755059.6287700608,
          640213.6867427616,
          548278.8519783876,
          668346.2058710563,
          432665.2602837474,
          522050.2099256104,
          498831.69260407565,
          388830.58520706603,
          346711.05610868835,
          337382.6707108615,
          363094.078729431,
          213929.6486123711,
          196942.84627390682,
          126619.24770407725,
          205970.55244583933,
          204819.07444216203,
          139316.00000000015,
          84926.40606265815,
          110283.79873291259,
          58390.30708746535,
          48618.1226424455,
          29091.827844873733,
          25834.102461919352
         ]
        }
       ],
       "layout": {
        "autosize": true,
        "barmode": "group",
        "template": {
         "data": {
          "bar": [
           {
            "error_x": {
             "color": "#2a3f5f"
            },
            "error_y": {
             "color": "#2a3f5f"
            },
            "marker": {
             "line": {
              "color": "#E5ECF6",
              "width": 0.5
             }
            },
            "type": "bar"
           }
          ],
          "barpolar": [
           {
            "marker": {
             "line": {
              "color": "#E5ECF6",
              "width": 0.5
             }
            },
            "type": "barpolar"
           }
          ],
          "carpet": [
           {
            "aaxis": {
             "endlinecolor": "#2a3f5f",
             "gridcolor": "white",
             "linecolor": "white",
             "minorgridcolor": "white",
             "startlinecolor": "#2a3f5f"
            },
            "baxis": {
             "endlinecolor": "#2a3f5f",
             "gridcolor": "white",
             "linecolor": "white",
             "minorgridcolor": "white",
             "startlinecolor": "#2a3f5f"
            },
            "type": "carpet"
           }
          ],
          "choropleth": [
           {
            "colorbar": {
             "outlinewidth": 0,
             "ticks": ""
            },
            "type": "choropleth"
           }
          ],
          "contour": [
           {
            "colorbar": {
             "outlinewidth": 0,
             "ticks": ""
            },
            "colorscale": [
             [
              0,
              "#0d0887"
             ],
             [
              0.1111111111111111,
              "#46039f"
             ],
             [
              0.2222222222222222,
              "#7201a8"
             ],
             [
              0.3333333333333333,
              "#9c179e"
             ],
             [
              0.4444444444444444,
              "#bd3786"
             ],
             [
              0.5555555555555556,
              "#d8576b"
             ],
             [
              0.6666666666666666,
              "#ed7953"
             ],
             [
              0.7777777777777778,
              "#fb9f3a"
             ],
             [
              0.8888888888888888,
              "#fdca26"
             ],
             [
              1,
              "#f0f921"
             ]
            ],
            "type": "contour"
           }
          ],
          "contourcarpet": [
           {
            "colorbar": {
             "outlinewidth": 0,
             "ticks": ""
            },
            "type": "contourcarpet"
           }
          ],
          "heatmap": [
           {
            "colorbar": {
             "outlinewidth": 0,
             "ticks": ""
            },
            "colorscale": [
             [
              0,
              "#0d0887"
             ],
             [
              0.1111111111111111,
              "#46039f"
             ],
             [
              0.2222222222222222,
              "#7201a8"
             ],
             [
              0.3333333333333333,
              "#9c179e"
             ],
             [
              0.4444444444444444,
              "#bd3786"
             ],
             [
              0.5555555555555556,
              "#d8576b"
             ],
             [
              0.6666666666666666,
              "#ed7953"
             ],
             [
              0.7777777777777778,
              "#fb9f3a"
             ],
             [
              0.8888888888888888,
              "#fdca26"
             ],
             [
              1,
              "#f0f921"
             ]
            ],
            "type": "heatmap"
           }
          ],
          "heatmapgl": [
           {
            "colorbar": {
             "outlinewidth": 0,
             "ticks": ""
            },
            "colorscale": [
             [
              0,
              "#0d0887"
             ],
             [
              0.1111111111111111,
              "#46039f"
             ],
             [
              0.2222222222222222,
              "#7201a8"
             ],
             [
              0.3333333333333333,
              "#9c179e"
             ],
             [
              0.4444444444444444,
              "#bd3786"
             ],
             [
              0.5555555555555556,
              "#d8576b"
             ],
             [
              0.6666666666666666,
              "#ed7953"
             ],
             [
              0.7777777777777778,
              "#fb9f3a"
             ],
             [
              0.8888888888888888,
              "#fdca26"
             ],
             [
              1,
              "#f0f921"
             ]
            ],
            "type": "heatmapgl"
           }
          ],
          "histogram": [
           {
            "marker": {
             "colorbar": {
              "outlinewidth": 0,
              "ticks": ""
             }
            },
            "type": "histogram"
           }
          ],
          "histogram2d": [
           {
            "colorbar": {
             "outlinewidth": 0,
             "ticks": ""
            },
            "colorscale": [
             [
              0,
              "#0d0887"
             ],
             [
              0.1111111111111111,
              "#46039f"
             ],
             [
              0.2222222222222222,
              "#7201a8"
             ],
             [
              0.3333333333333333,
              "#9c179e"
             ],
             [
              0.4444444444444444,
              "#bd3786"
             ],
             [
              0.5555555555555556,
              "#d8576b"
             ],
             [
              0.6666666666666666,
              "#ed7953"
             ],
             [
              0.7777777777777778,
              "#fb9f3a"
             ],
             [
              0.8888888888888888,
              "#fdca26"
             ],
             [
              1,
              "#f0f921"
             ]
            ],
            "type": "histogram2d"
           }
          ],
          "histogram2dcontour": [
           {
            "colorbar": {
             "outlinewidth": 0,
             "ticks": ""
            },
            "colorscale": [
             [
              0,
              "#0d0887"
             ],
             [
              0.1111111111111111,
              "#46039f"
             ],
             [
              0.2222222222222222,
              "#7201a8"
             ],
             [
              0.3333333333333333,
              "#9c179e"
             ],
             [
              0.4444444444444444,
              "#bd3786"
             ],
             [
              0.5555555555555556,
              "#d8576b"
             ],
             [
              0.6666666666666666,
              "#ed7953"
             ],
             [
              0.7777777777777778,
              "#fb9f3a"
             ],
             [
              0.8888888888888888,
              "#fdca26"
             ],
             [
              1,
              "#f0f921"
             ]
            ],
            "type": "histogram2dcontour"
           }
          ],
          "mesh3d": [
           {
            "colorbar": {
             "outlinewidth": 0,
             "ticks": ""
            },
            "type": "mesh3d"
           }
          ],
          "parcoords": [
           {
            "line": {
             "colorbar": {
              "outlinewidth": 0,
              "ticks": ""
             }
            },
            "type": "parcoords"
           }
          ],
          "pie": [
           {
            "automargin": true,
            "type": "pie"
           }
          ],
          "scatter": [
           {
            "marker": {
             "colorbar": {
              "outlinewidth": 0,
              "ticks": ""
             }
            },
            "type": "scatter"
           }
          ],
          "scatter3d": [
           {
            "line": {
             "colorbar": {
              "outlinewidth": 0,
              "ticks": ""
             }
            },
            "marker": {
             "colorbar": {
              "outlinewidth": 0,
              "ticks": ""
             }
            },
            "type": "scatter3d"
           }
          ],
          "scattercarpet": [
           {
            "marker": {
             "colorbar": {
              "outlinewidth": 0,
              "ticks": ""
             }
            },
            "type": "scattercarpet"
           }
          ],
          "scattergeo": [
           {
            "marker": {
             "colorbar": {
              "outlinewidth": 0,
              "ticks": ""
             }
            },
            "type": "scattergeo"
           }
          ],
          "scattergl": [
           {
            "marker": {
             "colorbar": {
              "outlinewidth": 0,
              "ticks": ""
             }
            },
            "type": "scattergl"
           }
          ],
          "scattermapbox": [
           {
            "marker": {
             "colorbar": {
              "outlinewidth": 0,
              "ticks": ""
             }
            },
            "type": "scattermapbox"
           }
          ],
          "scatterpolar": [
           {
            "marker": {
             "colorbar": {
              "outlinewidth": 0,
              "ticks": ""
             }
            },
            "type": "scatterpolar"
           }
          ],
          "scatterpolargl": [
           {
            "marker": {
             "colorbar": {
              "outlinewidth": 0,
              "ticks": ""
             }
            },
            "type": "scatterpolargl"
           }
          ],
          "scatterternary": [
           {
            "marker": {
             "colorbar": {
              "outlinewidth": 0,
              "ticks": ""
             }
            },
            "type": "scatterternary"
           }
          ],
          "surface": [
           {
            "colorbar": {
             "outlinewidth": 0,
             "ticks": ""
            },
            "colorscale": [
             [
              0,
              "#0d0887"
             ],
             [
              0.1111111111111111,
              "#46039f"
             ],
             [
              0.2222222222222222,
              "#7201a8"
             ],
             [
              0.3333333333333333,
              "#9c179e"
             ],
             [
              0.4444444444444444,
              "#bd3786"
             ],
             [
              0.5555555555555556,
              "#d8576b"
             ],
             [
              0.6666666666666666,
              "#ed7953"
             ],
             [
              0.7777777777777778,
              "#fb9f3a"
             ],
             [
              0.8888888888888888,
              "#fdca26"
             ],
             [
              1,
              "#f0f921"
             ]
            ],
            "type": "surface"
           }
          ],
          "table": [
           {
            "cells": {
             "fill": {
              "color": "#EBF0F8"
             },
             "line": {
              "color": "white"
             }
            },
            "header": {
             "fill": {
              "color": "#C8D4E3"
             },
             "line": {
              "color": "white"
             }
            },
            "type": "table"
           }
          ]
         },
         "layout": {
          "annotationdefaults": {
           "arrowcolor": "#2a3f5f",
           "arrowhead": 0,
           "arrowwidth": 1
          },
          "coloraxis": {
           "colorbar": {
            "outlinewidth": 0,
            "ticks": ""
           }
          },
          "colorscale": {
           "diverging": [
            [
             0,
             "#8e0152"
            ],
            [
             0.1,
             "#c51b7d"
            ],
            [
             0.2,
             "#de77ae"
            ],
            [
             0.3,
             "#f1b6da"
            ],
            [
             0.4,
             "#fde0ef"
            ],
            [
             0.5,
             "#f7f7f7"
            ],
            [
             0.6,
             "#e6f5d0"
            ],
            [
             0.7,
             "#b8e186"
            ],
            [
             0.8,
             "#7fbc41"
            ],
            [
             0.9,
             "#4d9221"
            ],
            [
             1,
             "#276419"
            ]
           ],
           "sequential": [
            [
             0,
             "#0d0887"
            ],
            [
             0.1111111111111111,
             "#46039f"
            ],
            [
             0.2222222222222222,
             "#7201a8"
            ],
            [
             0.3333333333333333,
             "#9c179e"
            ],
            [
             0.4444444444444444,
             "#bd3786"
            ],
            [
             0.5555555555555556,
             "#d8576b"
            ],
            [
             0.6666666666666666,
             "#ed7953"
            ],
            [
             0.7777777777777778,
             "#fb9f3a"
            ],
            [
             0.8888888888888888,
             "#fdca26"
            ],
            [
             1,
             "#f0f921"
            ]
           ],
           "sequentialminus": [
            [
             0,
             "#0d0887"
            ],
            [
             0.1111111111111111,
             "#46039f"
            ],
            [
             0.2222222222222222,
             "#7201a8"
            ],
            [
             0.3333333333333333,
             "#9c179e"
            ],
            [
             0.4444444444444444,
             "#bd3786"
            ],
            [
             0.5555555555555556,
             "#d8576b"
            ],
            [
             0.6666666666666666,
             "#ed7953"
            ],
            [
             0.7777777777777778,
             "#fb9f3a"
            ],
            [
             0.8888888888888888,
             "#fdca26"
            ],
            [
             1,
             "#f0f921"
            ]
           ]
          },
          "colorway": [
           "#636efa",
           "#EF553B",
           "#00cc96",
           "#ab63fa",
           "#FFA15A",
           "#19d3f3",
           "#FF6692",
           "#B6E880",
           "#FF97FF",
           "#FECB52"
          ],
          "font": {
           "color": "#2a3f5f"
          },
          "geo": {
           "bgcolor": "white",
           "lakecolor": "white",
           "landcolor": "#E5ECF6",
           "showlakes": true,
           "showland": true,
           "subunitcolor": "white"
          },
          "hoverlabel": {
           "align": "left"
          },
          "hovermode": "closest",
          "mapbox": {
           "style": "light"
          },
          "paper_bgcolor": "white",
          "plot_bgcolor": "#E5ECF6",
          "polar": {
           "angularaxis": {
            "gridcolor": "white",
            "linecolor": "white",
            "ticks": ""
           },
           "bgcolor": "#E5ECF6",
           "radialaxis": {
            "gridcolor": "white",
            "linecolor": "white",
            "ticks": ""
           }
          },
          "scene": {
           "xaxis": {
            "backgroundcolor": "#E5ECF6",
            "gridcolor": "white",
            "gridwidth": 2,
            "linecolor": "white",
            "showbackground": true,
            "ticks": "",
            "zerolinecolor": "white"
           },
           "yaxis": {
            "backgroundcolor": "#E5ECF6",
            "gridcolor": "white",
            "gridwidth": 2,
            "linecolor": "white",
            "showbackground": true,
            "ticks": "",
            "zerolinecolor": "white"
           },
           "zaxis": {
            "backgroundcolor": "#E5ECF6",
            "gridcolor": "white",
            "gridwidth": 2,
            "linecolor": "white",
            "showbackground": true,
            "ticks": "",
            "zerolinecolor": "white"
           }
          },
          "shapedefaults": {
           "line": {
            "color": "#2a3f5f"
           }
          },
          "ternary": {
           "aaxis": {
            "gridcolor": "white",
            "linecolor": "white",
            "ticks": ""
           },
           "baxis": {
            "gridcolor": "white",
            "linecolor": "white",
            "ticks": ""
           },
           "bgcolor": "#E5ECF6",
           "caxis": {
            "gridcolor": "white",
            "linecolor": "white",
            "ticks": ""
           }
          },
          "title": {
           "x": 0.05
          },
          "xaxis": {
           "automargin": true,
           "gridcolor": "white",
           "linecolor": "white",
           "ticks": "",
           "title": {
            "standoff": 15
           },
           "zerolinecolor": "white",
           "zerolinewidth": 2
          },
          "yaxis": {
           "automargin": true,
           "gridcolor": "white",
           "linecolor": "white",
           "ticks": "",
           "title": {
            "standoff": 15
           },
           "zerolinecolor": "white",
           "zerolinewidth": 2
          }
         }
        },
        "title": {
         "text": "Total population of 70+ by sex in 2018"
        },
        "xaxis": {
         "autorange": true,
         "range": [
          -0.5,
          35.5
         ],
         "type": "category"
        },
        "yaxis": {
         "autorange": true,
         "range": [
          0,
          49927450.66070201
         ],
         "type": "linear"
        }
       }
      },
      "image/png": "[encoded data removed]",
      "text/html": [
       "<div>\n",
       "        \n",
       "        \n",
       "            <div id=\"fee18b96-0dad-4042-9005-b5acc49b2287\" class=\"plotly-graph-div\" style=\"height:525px; width:100%;\"></div>\n",
       "            <script type=\"text/javascript\">\n",
       "                require([\"plotly\"], function(Plotly) {\n",
       "                    window.PLOTLYENV=window.PLOTLYENV || {};\n",
       "                    \n",
       "                if (document.getElementById(\"fee18b96-0dad-4042-9005-b5acc49b2287\")) {\n",
       "                    Plotly.newPlot(\n",
       "                        'fee18b96-0dad-4042-9005-b5acc49b2287',\n",
       "                        [{\"name\": \"female\", \"type\": \"bar\", \"x\": [\"China\", \"US\", \"Japan\", \"Germany\", \"Italy\", \"France\", \"UK\", \"Spain\", \"Poland\", \"Turkey\", \"Romania\", \"Netherlands\", \"Portugal\", \"Greece\", \"Belgium\", \"Czech Republic\", \"Sweden\", \"Hungary\", \"Austria\", \"Switzerland\", \"Bulgaria\", \"Finland\", \"Serbia\", \"Denmark\", \"Croatia\", \"Slovakia\", \"Lithuania\", \"Syria\", \"Ireland\", \"Bosnia and Herzegovina\", \"Latvia\", \"Slovenia\", \"Estonia\", \"Cyprus\", \"Malta\", \"Luxembourg\"], \"y\": [47431078.12766691, 19659801.732962154, 15093189.576908998, 7652069.041671313, 5924254.764607748, 5557838.064946587, 4858110.517401721, 3903341.2423862033, 2736631.599939612, 2620368.7175871204, 1474436.000216957, 1262553.016597732, 975107.0207815925, 974802.4823267743, 887578.854625167, 824312.1514092068, 809753.8034503884, 802577.8511562501, 725149.1711703333, 648059.7492743633, 616697.9169647787, 478812.48877110996, 476418.5103935237, 445142.398999258, 365248.21322839655, 344147.53498787933, 274993.95898396085, 251522.06808195825, 242351.27592206543, 207531.0, 195512.25313553147, 168181.7483555005, 126347.91791145748, 61891.15612455458, 37720.96506585012, 34277.50704682215]}, {\"name\": \"male\", \"type\": \"bar\", \"x\": [\"China\", \"US\", \"Japan\", \"Germany\", \"Italy\", \"France\", \"UK\", \"Spain\", \"Poland\", \"Turkey\", \"Romania\", \"Netherlands\", \"Portugal\", \"Greece\", \"Belgium\", \"Czech Republic\", \"Sweden\", \"Hungary\", \"Austria\", \"Switzerland\", \"Bulgaria\", \"Finland\", \"Serbia\", \"Denmark\", \"Croatia\", \"Slovakia\", \"Lithuania\", \"Syria\", \"Ireland\", \"Bosnia and Herzegovina\", \"Latvia\", \"Slovenia\", \"Estonia\", \"Cyprus\", \"Malta\", \"Luxembourg\"], \"y\": [39333206.672335625, 15016884.727038939, 10816029.553419625, 5628030.836397627, 4272563.003155503, 3907018.006403704, 3924405.2049851823, 2805992.8574814983, 1580308.2617465472, 1861020.5812410908, 908161.5744826628, 1018957.1189354237, 665192.2852025391, 755059.6287700608, 640213.6867427616, 548278.8519783876, 668346.2058710563, 432665.2602837474, 522050.2099256104, 498831.69260407565, 388830.58520706603, 346711.05610868835, 337382.6707108615, 363094.078729431, 213929.6486123711, 196942.84627390682, 126619.24770407725, 205970.55244583933, 204819.07444216203, 139316.00000000015, 84926.40606265815, 110283.79873291259, 58390.30708746535, 48618.1226424455, 29091.827844873733, 25834.102461919352]}],\n",
       "                        {\"barmode\": \"group\", \"template\": {\"data\": {\"bar\": [{\"error_x\": {\"color\": \"#2a3f5f\"}, \"error_y\": {\"color\": \"#2a3f5f\"}, \"marker\": {\"line\": {\"color\": \"#E5ECF6\", \"width\": 0.5}}, \"type\": \"bar\"}], \"barpolar\": [{\"marker\": {\"line\": {\"color\": \"#E5ECF6\", \"width\": 0.5}}, \"type\": \"barpolar\"}], \"carpet\": [{\"aaxis\": {\"endlinecolor\": \"#2a3f5f\", \"gridcolor\": \"white\", \"linecolor\": \"white\", \"minorgridcolor\": \"white\", \"startlinecolor\": \"#2a3f5f\"}, \"baxis\": {\"endlinecolor\": \"#2a3f5f\", \"gridcolor\": \"white\", \"linecolor\": \"white\", \"minorgridcolor\": \"white\", \"startlinecolor\": \"#2a3f5f\"}, \"type\": \"carpet\"}], \"choropleth\": [{\"colorbar\": {\"outlinewidth\": 0, \"ticks\": \"\"}, \"type\": \"choropleth\"}], \"contour\": [{\"colorbar\": {\"outlinewidth\": 0, \"ticks\": \"\"}, \"colorscale\": [[0.0, \"#0d0887\"], [0.1111111111111111, \"#46039f\"], [0.2222222222222222, \"#7201a8\"], [0.3333333333333333, \"#9c179e\"], [0.4444444444444444, \"#bd3786\"], [0.5555555555555556, \"#d8576b\"], [0.6666666666666666, \"#ed7953\"], [0.7777777777777778, \"#fb9f3a\"], [0.8888888888888888, \"#fdca26\"], [1.0, \"#f0f921\"]], \"type\": \"contour\"}], \"contourcarpet\": [{\"colorbar\": {\"outlinewidth\": 0, \"ticks\": \"\"}, \"type\": \"contourcarpet\"}], \"heatmap\": [{\"colorbar\": {\"outlinewidth\": 0, \"ticks\": \"\"}, \"colorscale\": [[0.0, \"#0d0887\"], [0.1111111111111111, \"#46039f\"], [0.2222222222222222, \"#7201a8\"], [0.3333333333333333, \"#9c179e\"], [0.4444444444444444, \"#bd3786\"], [0.5555555555555556, \"#d8576b\"], [0.6666666666666666, \"#ed7953\"], [0.7777777777777778, \"#fb9f3a\"], [0.8888888888888888, \"#fdca26\"], [1.0, \"#f0f921\"]], \"type\": \"heatmap\"}], \"heatmapgl\": [{\"colorbar\": {\"outlinewidth\": 0, \"ticks\": \"\"}, \"colorscale\": [[0.0, \"#0d0887\"], [0.1111111111111111, \"#46039f\"], [0.2222222222222222, \"#7201a8\"], [0.3333333333333333, \"#9c179e\"], [0.4444444444444444, \"#bd3786\"], [0.5555555555555556, \"#d8576b\"], [0.6666666666666666, \"#ed7953\"], [0.7777777777777778, \"#fb9f3a\"], [0.8888888888888888, \"#fdca26\"], [1.0, \"#f0f921\"]], \"type\": \"heatmapgl\"}], \"histogram\": [{\"marker\": {\"colorbar\": {\"outlinewidth\": 0, \"ticks\": \"\"}}, \"type\": \"histogram\"}], \"histogram2d\": [{\"colorbar\": {\"outlinewidth\": 0, \"ticks\": \"\"}, \"colorscale\": [[0.0, \"#0d0887\"], [0.1111111111111111, \"#46039f\"], [0.2222222222222222, \"#7201a8\"], [0.3333333333333333, \"#9c179e\"], [0.4444444444444444, \"#bd3786\"], [0.5555555555555556, \"#d8576b\"], [0.6666666666666666, \"#ed7953\"], [0.7777777777777778, \"#fb9f3a\"], [0.8888888888888888, \"#fdca26\"], [1.0, \"#f0f921\"]], \"type\": \"histogram2d\"}], \"histogram2dcontour\": [{\"colorbar\": {\"outlinewidth\": 0, \"ticks\": \"\"}, \"colorscale\": [[0.0, \"#0d0887\"], [0.1111111111111111, \"#46039f\"], [0.2222222222222222, \"#7201a8\"], [0.3333333333333333, \"#9c179e\"], [0.4444444444444444, \"#bd3786\"], [0.5555555555555556, \"#d8576b\"], [0.6666666666666666, \"#ed7953\"], [0.7777777777777778, \"#fb9f3a\"], [0.8888888888888888, \"#fdca26\"], [1.0, \"#f0f921\"]], \"type\": \"histogram2dcontour\"}], \"mesh3d\": [{\"colorbar\": {\"outlinewidth\": 0, \"ticks\": \"\"}, \"type\": \"mesh3d\"}], \"parcoords\": [{\"line\": {\"colorbar\": {\"outlinewidth\": 0, \"ticks\": \"\"}}, \"type\": \"parcoords\"}], \"pie\": [{\"automargin\": true, \"type\": \"pie\"}], \"scatter\": [{\"marker\": {\"colorbar\": {\"outlinewidth\": 0, \"ticks\": \"\"}}, \"type\": \"scatter\"}], \"scatter3d\": [{\"line\": {\"colorbar\": {\"outlinewidth\": 0, \"ticks\": \"\"}}, \"marker\": {\"colorbar\": {\"outlinewidth\": 0, \"ticks\": \"\"}}, \"type\": \"scatter3d\"}], \"scattercarpet\": [{\"marker\": {\"colorbar\": {\"outlinewidth\": 0, \"ticks\": \"\"}}, \"type\": \"scattercarpet\"}], \"scattergeo\": [{\"marker\": {\"colorbar\": {\"outlinewidth\": 0, \"ticks\": \"\"}}, \"type\": \"scattergeo\"}], \"scattergl\": [{\"marker\": {\"colorbar\": {\"outlinewidth\": 0, \"ticks\": \"\"}}, \"type\": \"scattergl\"}], \"scattermapbox\": [{\"marker\": {\"colorbar\": {\"outlinewidth\": 0, \"ticks\": \"\"}}, \"type\": \"scattermapbox\"}], \"scatterpolar\": [{\"marker\": {\"colorbar\": {\"outlinewidth\": 0, \"ticks\": \"\"}}, \"type\": \"scatterpolar\"}], \"scatterpolargl\": [{\"marker\": {\"colorbar\": {\"outlinewidth\": 0, \"ticks\": \"\"}}, \"type\": \"scatterpolargl\"}], \"scatterternary\": [{\"marker\": {\"colorbar\": {\"outlinewidth\": 0, \"ticks\": \"\"}}, \"type\": \"scatterternary\"}], \"surface\": [{\"colorbar\": {\"outlinewidth\": 0, \"ticks\": \"\"}, \"colorscale\": [[0.0, \"#0d0887\"], [0.1111111111111111, \"#46039f\"], [0.2222222222222222, \"#7201a8\"], [0.3333333333333333, \"#9c179e\"], [0.4444444444444444, \"#bd3786\"], [0.5555555555555556, \"#d8576b\"], [0.6666666666666666, \"#ed7953\"], [0.7777777777777778, \"#fb9f3a\"], [0.8888888888888888, \"#fdca26\"], [1.0, \"#f0f921\"]], \"type\": \"surface\"}], \"table\": [{\"cells\": {\"fill\": {\"color\": \"#EBF0F8\"}, \"line\": {\"color\": \"white\"}}, \"header\": {\"fill\": {\"color\": \"#C8D4E3\"}, \"line\": {\"color\": \"white\"}}, \"type\": \"table\"}]}, \"layout\": {\"annotationdefaults\": {\"arrowcolor\": \"#2a3f5f\", \"arrowhead\": 0, \"arrowwidth\": 1}, \"coloraxis\": {\"colorbar\": {\"outlinewidth\": 0, \"ticks\": \"\"}}, \"colorscale\": {\"diverging\": [[0, \"#8e0152\"], [0.1, \"#c51b7d\"], [0.2, \"#de77ae\"], [0.3, \"#f1b6da\"], [0.4, \"#fde0ef\"], [0.5, \"#f7f7f7\"], [0.6, \"#e6f5d0\"], [0.7, \"#b8e186\"], [0.8, \"#7fbc41\"], [0.9, \"#4d9221\"], [1, \"#276419\"]], \"sequential\": [[0.0, \"#0d0887\"], [0.1111111111111111, \"#46039f\"], [0.2222222222222222, \"#7201a8\"], [0.3333333333333333, \"#9c179e\"], [0.4444444444444444, \"#bd3786\"], [0.5555555555555556, \"#d8576b\"], [0.6666666666666666, \"#ed7953\"], [0.7777777777777778, \"#fb9f3a\"], [0.8888888888888888, \"#fdca26\"], [1.0, \"#f0f921\"]], \"sequentialminus\": [[0.0, \"#0d0887\"], [0.1111111111111111, \"#46039f\"], [0.2222222222222222, \"#7201a8\"], [0.3333333333333333, \"#9c179e\"], [0.4444444444444444, \"#bd3786\"], [0.5555555555555556, \"#d8576b\"], [0.6666666666666666, \"#ed7953\"], [0.7777777777777778, \"#fb9f3a\"], [0.8888888888888888, \"#fdca26\"], [1.0, \"#f0f921\"]]}, \"colorway\": [\"#636efa\", \"#EF553B\", \"#00cc96\", \"#ab63fa\", \"#FFA15A\", \"#19d3f3\", \"#FF6692\", \"#B6E880\", \"#FF97FF\", \"#FECB52\"], \"font\": {\"color\": \"#2a3f5f\"}, \"geo\": {\"bgcolor\": \"white\", \"lakecolor\": \"white\", \"landcolor\": \"#E5ECF6\", \"showlakes\": true, \"showland\": true, \"subunitcolor\": \"white\"}, \"hoverlabel\": {\"align\": \"left\"}, \"hovermode\": \"closest\", \"mapbox\": {\"style\": \"light\"}, \"paper_bgcolor\": \"white\", \"plot_bgcolor\": \"#E5ECF6\", \"polar\": {\"angularaxis\": {\"gridcolor\": \"white\", \"linecolor\": \"white\", \"ticks\": \"\"}, \"bgcolor\": \"#E5ECF6\", \"radialaxis\": {\"gridcolor\": \"white\", \"linecolor\": \"white\", \"ticks\": \"\"}}, \"scene\": {\"xaxis\": {\"backgroundcolor\": \"#E5ECF6\", \"gridcolor\": \"white\", \"gridwidth\": 2, \"linecolor\": \"white\", \"showbackground\": true, \"ticks\": \"\", \"zerolinecolor\": \"white\"}, \"yaxis\": {\"backgroundcolor\": \"#E5ECF6\", \"gridcolor\": \"white\", \"gridwidth\": 2, \"linecolor\": \"white\", \"showbackground\": true, \"ticks\": \"\", \"zerolinecolor\": \"white\"}, \"zaxis\": {\"backgroundcolor\": \"#E5ECF6\", \"gridcolor\": \"white\", \"gridwidth\": 2, \"linecolor\": \"white\", \"showbackground\": true, \"ticks\": \"\", \"zerolinecolor\": \"white\"}}, \"shapedefaults\": {\"line\": {\"color\": \"#2a3f5f\"}}, \"ternary\": {\"aaxis\": {\"gridcolor\": \"white\", \"linecolor\": \"white\", \"ticks\": \"\"}, \"baxis\": {\"gridcolor\": \"white\", \"linecolor\": \"white\", \"ticks\": \"\"}, \"bgcolor\": \"#E5ECF6\", \"caxis\": {\"gridcolor\": \"white\", \"linecolor\": \"white\", \"ticks\": \"\"}}, \"title\": {\"x\": 0.05}, \"xaxis\": {\"automargin\": true, \"gridcolor\": \"white\", \"linecolor\": \"white\", \"ticks\": \"\", \"title\": {\"standoff\": 15}, \"zerolinecolor\": \"white\", \"zerolinewidth\": 2}, \"yaxis\": {\"automargin\": true, \"gridcolor\": \"white\", \"linecolor\": \"white\", \"ticks\": \"\", \"title\": {\"standoff\": 15}, \"zerolinecolor\": \"white\", \"zerolinewidth\": 2}}}, \"title\": {\"text\": \"Total population of 70+ by sex in 2018\"}},\n",
       "                        {\"responsive\": true}\n",
       "                    ).then(function(){\n",
       "                            \n",
       "var gd = document.getElementById('fee18b96-0dad-4042-9005-b5acc49b2287');\n",
       "var x = new MutationObserver(function (mutations, observer) {{\n",
       "        var display = window.getComputedStyle(gd).display;\n",
       "        if (!display || display === 'none') {{\n",
       "            console.log([gd, 'removed!']);\n",
       "            Plotly.purge(gd);\n",
       "            observer.disconnect();\n",
       "        }}\n",
       "}});\n",
       "\n",
       "// Listen for the removal of the full notebook cells\n",
       "var notebookContainer = gd.closest('#notebook-container');\n",
       "if (notebookContainer) {{\n",
       "    x.observe(notebookContainer, {childList: true});\n",
       "}}\n",
       "\n",
       "// Listen for the clearing of the current output cell\n",
       "var outputEl = gd.closest('.output');\n",
       "if (outputEl) {{\n",
       "    x.observe(outputEl, {childList: true});\n",
       "}}\n",
       "\n",
       "                        })\n",
       "                };\n",
       "                });\n",
       "            </script>\n",
       "        </div>"
      ]
     },
     "metadata": {},
     "output_type": "display_data"
    }
   ],
   "source": [
    "title = \"Total population of 70+ by sex in 2018\"\n",
    "\n",
    "pop_pct_female_80ff = 'Population ages 80 and above, female (% of female population) in 2018'\n",
    "pop_pct_female_7579 = 'Population ages 75-79, female (% of female population) in 2018'\n",
    "pop_pct_female_7074 = 'Population ages 70-74, female (% of female population) in 2018'\n",
    "pop_pct_male_80ff = 'Population ages 80 and above, male (% of male population) in 2018'\n",
    "pop_pct_male_7579 = 'Population ages 75-79, male (% of male population) in 2018'\n",
    "pop_pct_male_7074 = 'Population ages 70-74, male (% of male population) in 2018'\n",
    "src_column_names = [pop_tot_column_name,\n",
    "                    pop_pct_female_column_name, pop_pct_male_column_name,\n",
    "                    pop_pct_female_80ff, pop_pct_female_7579, pop_pct_female_7074,\n",
    "                    pop_pct_male_80ff, pop_pct_male_7579, pop_pct_male_7074]\n",
    "\n",
    "pop_tot_female_70ff_column_name = 'Population ages 70 and above, female in 2018'\n",
    "pop_tot_male_70ff_column_name = 'Population ages 70 and above, male in 2018'\n",
    "dst_column_names = [pop_tot_female_70ff_column_name, pop_tot_male_70ff_column_name]\n",
    "\n",
    "df_pop_tot_risk_sex = df_country_stats.loc[selected_countries, src_column_names]\n",
    "#print(df_pop_tot_sex)\n",
    "\n",
    "def sum_cols_to(df, src_cols, dst_col):\n",
    "    df[dst_col] = 0\n",
    "    for src_col in src_cols:\n",
    "        df[dst_col] = df[dst_col] + df[src_col]\n",
    "\n",
    "sum_cols_to(df_pop_tot_risk_sex, [pop_pct_female_80ff, pop_pct_female_7579, pop_pct_female_7074], pop_tot_female_70ff_column_name)\n",
    "#print(df_pop_tot_risk_sex[[pop_pct_female_80ff, pop_pct_female_7579, pop_pct_female_7074]])\n",
    "#print(df_pop_tot_risk_sex[[pop_tot_female_70ff_column_name, pop_pct_female_column_name, pop_tot_column_name]])\n",
    "df_pop_tot_risk_sex[pop_tot_female_70ff_column_name] = df_pop_tot_risk_sex[pop_tot_female_70ff_column_name]/100\n",
    "#print(df_pop_tot_risk_sex[pop_tot_female_70ff_column_name])\n",
    "df_pop_tot_risk_sex[pop_tot_female_70ff_column_name] = df_pop_tot_risk_sex.apply(lambda row: row[pop_tot_female_70ff_column_name]*row[pop_tot_column_name]*row[pop_pct_female_column_name]/100, axis=1)\n",
    "\n",
    "sum_cols_to(df_pop_tot_risk_sex, [pop_pct_male_80ff, pop_pct_male_7579, pop_pct_male_7074], pop_tot_male_70ff_column_name)\n",
    "df_pop_tot_risk_sex[pop_tot_male_70ff_column_name] = df_pop_tot_risk_sex[pop_tot_male_70ff_column_name]/100\n",
    "df_pop_tot_risk_sex[pop_tot_male_70ff_column_name] = df_pop_tot_risk_sex.apply(lambda row: row[pop_tot_male_70ff_column_name]*row[pop_tot_column_name]*row[pop_pct_male_column_name]/100, axis=1)\n",
    "df_pop_tot_risk_sex = df_pop_tot_risk_sex.loc[:, dst_column_names]\n",
    "df_pop_tot_risk_sex.sort_values(dst_column_names, axis=0, ascending=False, inplace=True)\n",
    "#print(df_pop_tot_risk_sex)\n",
    "\n",
    "fig = go.Figure()\n",
    "fig.add_trace(go.Bar(x=df_pop_tot_risk_sex.index, y=df_pop_tot_risk_sex[pop_tot_female_70ff_column_name], name=\"female\"))\n",
    "fig.add_trace(go.Bar(x=df_pop_tot_risk_sex.index, y=df_pop_tot_risk_sex[pop_tot_male_70ff_column_name], name=\"male\"))\n",
    "fig.update_layout(title_text=title, barmode='group')\n",
    "#fig.show(\"png\")\n",
    "fig.show()\n",
    "fig.write_image(directory+title+\".png\")\n",
    "io.saveDataCsv(df_pop_tot_sex, directory, title)"
   ]
  },
  {
   "cell_type": "markdown",
   "metadata": {},
   "source": [
    "## Age groups"
   ]
  },
  {
   "cell_type": "code",
   "execution_count": 28,
   "metadata": {},
   "outputs": [
    {
     "data": {
      "application/vnd.plotly.v1+json": {
       "config": {
        "plotlyServerURL": "https://plot.ly"
       },
       "data": [
        {
         "name": "female 80+",
         "type": "bar",
         "x": [
          "China",
          "US",
          "Japan",
          "Germany",
          "Italy",
          "France",
          "UK",
          "Spain",
          "Poland",
          "Turkey",
          "Romania",
          "Netherlands",
          "Greece",
          "Portugal",
          "Belgium",
          "Sweden",
          "Hungary",
          "Austria",
          "Czech Republic",
          "Switzerland",
          "Bulgaria",
          "Finland",
          "Serbia",
          "Denmark",
          "Croatia",
          "Lithuania",
          "Slovakia",
          "Ireland",
          "Latvia",
          "Syria",
          "Slovenia",
          "Bosnia and Herzegovina",
          "Estonia",
          "Cyprus",
          "Luxembourg",
          "Malta"
         ],
         "y": [
          14779200.706631681,
          7685738.932071125,
          6833327.119838092,
          3438147.587533258,
          2752449.469607526,
          2639703.3405257696,
          1992546.2352169077,
          1820883.6665320771,
          1178758.9888204306,
          874707.5962751092,
          599310.8443834266,
          497478.1495522747,
          458641.521600526,
          420217.04947255296,
          411520.253353283,
          318512.7757247309,
          300994.242000671,
          294720.7049033874,
          288627.9065055305,
          271355.9777905732,
          215466.69346603137,
          192803.54473493833,
          174331.18188527846,
          159306.19664364398,
          158734.05780521492,
          122614.09942276185,
          122507.91994101611,
          86579.99911469799,
          83119.20618773215,
          76192.23310372073,
          74124.81735805898,
          70248.00000000001,
          55518.718113738396,
          22441.05660905671,
          15191.087891646424,
          13909.65402784259
         ]
        },
        {
         "name": "female 70-79",
         "type": "bar",
         "x": [
          "China",
          "US",
          "Japan",
          "Germany",
          "Italy",
          "France",
          "UK",
          "Spain",
          "Poland",
          "Turkey",
          "Romania",
          "Netherlands",
          "Greece",
          "Portugal",
          "Belgium",
          "Sweden",
          "Hungary",
          "Austria",
          "Czech Republic",
          "Switzerland",
          "Bulgaria",
          "Finland",
          "Serbia",
          "Denmark",
          "Croatia",
          "Lithuania",
          "Slovakia",
          "Ireland",
          "Latvia",
          "Syria",
          "Slovenia",
          "Bosnia and Herzegovina",
          "Estonia",
          "Cyprus",
          "Luxembourg",
          "Malta"
         ],
         "y": [
          32651877.421035234,
          11974062.800891027,
          8259862.45707091,
          4213921.4541380545,
          3171805.2950002216,
          2918134.7244208185,
          2865564.282184814,
          2082457.575854126,
          1557872.6111191816,
          1745661.1213120108,
          875125.1558335302,
          765074.8670454572,
          516160.96072624816,
          554889.9713090395,
          476058.6012718839,
          491241.0277256571,
          501583.6091555791,
          430428.4662669459,
          535684.2449036763,
          376703.7714837899,
          401231.2234987472,
          286008.94403617154,
          302087.3285082453,
          285836.20235561405,
          206514.1554231817,
          152379.85956119894,
          221639.61504686315,
          155771.27680736742,
          112393.04694779935,
          175329.8349782375,
          94056.93099744151,
          137283,
          70829.19979771909,
          39450.099515497874,
          19086.419155175725,
          23811.311038007523
         ]
        },
        {
         "name": "female 60-69",
         "type": "bar",
         "x": [
          "China",
          "US",
          "Japan",
          "Germany",
          "Italy",
          "France",
          "UK",
          "Spain",
          "Poland",
          "Turkey",
          "Romania",
          "Netherlands",
          "Greece",
          "Portugal",
          "Belgium",
          "Sweden",
          "Hungary",
          "Austria",
          "Czech Republic",
          "Switzerland",
          "Bulgaria",
          "Finland",
          "Serbia",
          "Denmark",
          "Croatia",
          "Lithuania",
          "Slovakia",
          "Ireland",
          "Latvia",
          "Syria",
          "Slovenia",
          "Bosnia and Herzegovina",
          "Estonia",
          "Cyprus",
          "Luxembourg",
          "Malta"
         ],
         "y": [
          71147916.12531962,
          19336397.38057137,
          8526836.25103939,
          5175150.898759262,
          3819152.6331898984,
          4208214.978885409,
          3630337.906973742,
          2637257.317504515,
          2773893.488040757,
          3158367.6160042584,
          1401411.6479129873,
          1068456.6634793046,
          666734.287758011,
          688252.6346271597,
          676702.6528021675,
          569745.8855021694,
          745956.6465652031,
          501970.8581914641,
          718728.457975812,
          473091.1089905075,
          519150.3463464372,
          377900.42318044894,
          499946.359013857,
          342461.80921644537,
          288596.1973887544,
          193864.313129402,
          367528.7543160053,
          239243.9887587802,
          138201.33968900604,
          380736.6804340993,
          138288.055234388,
          233085.9999999998,
          92549.83489314863,
          58470.14749483294,
          29052.55328642073,
          32415.12995868002
         ]
        },
        {
         "name": "female 50-59",
         "type": "bar",
         "x": [
          "China",
          "US",
          "Japan",
          "Germany",
          "Italy",
          "France",
          "UK",
          "Spain",
          "Poland",
          "Turkey",
          "Romania",
          "Netherlands",
          "Greece",
          "Portugal",
          "Belgium",
          "Sweden",
          "Hungary",
          "Austria",
          "Czech Republic",
          "Switzerland",
          "Bulgaria",
          "Finland",
          "Serbia",
          "Denmark",
          "Croatia",
          "Lithuania",
          "Slovakia",
          "Ireland",
          "Latvia",
          "Syria",
          "Slovenia",
          "Bosnia and Herzegovina",
          "Estonia",
          "Cyprus",
          "Luxembourg",
          "Malta"
         ],
         "y": [
          99173807.81089133,
          21573421.015830882,
          7888484.058621953,
          6731160.060973884,
          4739461.6241722265,
          4514022.377307631,
          4551421.1237779865,
          3452675.3367716335,
          2454189.973360344,
          4378310.800574254,
          1255540.6497061686,
          1255077.6328939905,
          771967.3954129944,
          774740.7242637423,
          786615.2055916201,
          636037.0156333514,
          622624.943720331,
          690079.9565087899,
          656113.0767661395,
          637621.8666999227,
          479411.3260228518,
          367537.9395699659,
          456517.83541512786,
          398709.46184605337,
          300384.0471830598,
          233076.32801586404,
          369992.03824231616,
          292178.6652146827,
          147894.6842917747,
          617532.526972578,
          148949.09440206044,
          266272.9999999997,
          89724.17536754122,
          71842.18122667672,
          41766.43980908373,
          30376.45638638147
         ]
        },
        {
         "name": "female 40-49",
         "type": "bar",
         "x": [
          "China",
          "US",
          "Japan",
          "Germany",
          "Italy",
          "France",
          "UK",
          "Spain",
          "Poland",
          "Turkey",
          "Romania",
          "Netherlands",
          "Greece",
          "Portugal",
          "Belgium",
          "Sweden",
          "Hungary",
          "Austria",
          "Czech Republic",
          "Switzerland",
          "Bulgaria",
          "Finland",
          "Serbia",
          "Denmark",
          "Croatia",
          "Lithuania",
          "Slovakia",
          "Ireland",
          "Latvia",
          "Syria",
          "Slovenia",
          "Bosnia and Herzegovina",
          "Estonia",
          "Cyprus",
          "Luxembourg",
          "Malta"
         ],
         "y": [
          110220136.11748739,
          20220888.79011943,
          9260454.660919761,
          5273859.017859293,
          4716025.638455896,
          4427422.024726375,
          4330614.663158489,
          3870119.281531074,
          2618696.712582349,
          5579775.556729948,
          1532848.493606157,
          1140874.2537248323,
          810633.8183326684,
          826391.1752073282,
          746023.829673459,
          650359.551605404,
          780265.8803711813,
          607633.222876913,
          841699.7227804251,
          593039.3516939656,
          512093.8661746753,
          320146.88782517606,
          487710.10102694156,
          385736.0568745741,
          271112.6742400346,
          193088.57705005212,
          403825.73243050586,
          372522.93829116394,
          132628.8903234238,
          894459.3226400117,
          143210.14209976137,
          223231.9999999997,
          89145.06493473116,
          82088.20707295786,
          44618.791852298076,
          30478.830383262535
         ]
        },
        {
         "name": "female 30-39",
         "type": "bar",
         "x": [
          "China",
          "US",
          "Japan",
          "Germany",
          "Italy",
          "France",
          "UK",
          "Spain",
          "Poland",
          "Turkey",
          "Romania",
          "Netherlands",
          "Greece",
          "Portugal",
          "Belgium",
          "Sweden",
          "Hungary",
          "Austria",
          "Czech Republic",
          "Switzerland",
          "Bulgaria",
          "Finland",
          "Serbia",
          "Denmark",
          "Croatia",
          "Lithuania",
          "Slovakia",
          "Ireland",
          "Latvia",
          "Syria",
          "Slovenia",
          "Bosnia and Herzegovina",
          "Estonia",
          "Cyprus",
          "Luxembourg",
          "Malta"
         ],
         "y": [
          102408097.41475384,
          21500912.242494762,
          7320060.868677662,
          5179579.405770289,
          3580547.5453713317,
          4179416.5660130833,
          4517357.508143926,
          3220956.16245298,
          2986168.8741681054,
          6335480.594383028,
          1283834.9031568058,
          1026741.5780902331,
          711780.8845592254,
          668296.0039269936,
          742886.3416292019,
          630511.222967057,
          657513.8137870071,
          592587.6392509461,
          749326.3196342216,
          595791.4204558169,
          472121.7548911526,
          342107.8392546242,
          475448.46154941944,
          329115.48940349254,
          271050.689886722,
          164534.71782120236,
          425827.47280395415,
          374070.03491443984,
          128876.62789654556,
          1391008.3570256045,
          140495.88033126766,
          233238.9999999997,
          91204.90083626058,
          94019.2371697742,
          46761.0731823568,
          34347.02635143595
         ]
        },
        {
         "name": "female 20-29",
         "type": "bar",
         "x": [
          "China",
          "US",
          "Japan",
          "Germany",
          "Italy",
          "France",
          "UK",
          "Spain",
          "Poland",
          "Turkey",
          "Romania",
          "Netherlands",
          "Greece",
          "Portugal",
          "Belgium",
          "Sweden",
          "Hungary",
          "Austria",
          "Czech Republic",
          "Switzerland",
          "Bulgaria",
          "Finland",
          "Serbia",
          "Denmark",
          "Croatia",
          "Lithuania",
          "Slovakia",
          "Ireland",
          "Latvia",
          "Syria",
          "Slovenia",
          "Bosnia and Herzegovina",
          "Estonia",
          "Cyprus",
          "Luxembourg",
          "Malta"
         ],
         "y": [
          93755619.75253403,
          22646695.49266828,
          6009961.135269766,
          4528367.399916968,
          2984831.741041822,
          3845014.8379593613,
          4239325.797316696,
          2303383.61554075,
          2340421.334847369,
          6397160.334740124,
          1093781.9005585427,
          1048289.9953224477,
          529961.2217777884,
          548177.2773235919,
          685461.5564894465,
          663549.5604906114,
          588754.4623616867,
          547159.3497180353,
          580030.3724718326,
          518200.06328412215,
          369184.20485307585,
          333119.22653069143,
          437177.9327448122,
          378873.4159135111,
          234535.0186350858,
          174491.82315806756,
          344434.2188836014,
          273019.24336054554,
          109011.41534104144,
          1504606.7891881426,
          105062.22770613259,
          201609.9999999997,
          75832.51424394498,
          92865.23425872513,
          40493.140201640395,
          30794.758739228906
         ]
        },
        {
         "name": "female 10-19",
         "type": "bar",
         "x": [
          "China",
          "US",
          "Japan",
          "Germany",
          "Italy",
          "France",
          "UK",
          "Spain",
          "Poland",
          "Turkey",
          "Romania",
          "Netherlands",
          "Greece",
          "Portugal",
          "Belgium",
          "Sweden",
          "Hungary",
          "Austria",
          "Czech Republic",
          "Switzerland",
          "Bulgaria",
          "Finland",
          "Serbia",
          "Denmark",
          "Croatia",
          "Lithuania",
          "Slovakia",
          "Ireland",
          "Latvia",
          "Syria",
          "Slovenia",
          "Bosnia and Herzegovina",
          "Estonia",
          "Cyprus",
          "Luxembourg",
          "Malta"
         ],
         "y": [
          75561505.93885727,
          20744196.628901422,
          5527617.035054195,
          3823686.085263689,
          2763079.9896681197,
          3947883.0985708204,
          3634323.779783995,
          2241487.7002186365,
          1796198.0690467458,
          6632406.134642652,
          1001166.9150566664,
          977960.1794473603,
          533370.5061274006,
          512747.1651919152,
          622377.5546458941,
          536459.392809901,
          476662.2688844152,
          422756.920089034,
          486178.53261475416,
          408038.39686373307,
          315932.88165964955,
          291954.05805433507,
          390532.3052117515,
          335574.979184584,
          199188.1951887774,
          124808.86491555601,
          263309.6686843264,
          314155.2936152413,
          88126.21877652711,
          1620675.5549917144,
          91504.84835954328,
          175990.9999999998,
          63232.868465273204,
          68789.1735252619,
          32564.687748657834,
          22369.26871634925
         ]
        },
        {
         "name": "female 0-9",
         "type": "bar",
         "x": [
          "China",
          "US",
          "Japan",
          "Germany",
          "Italy",
          "France",
          "UK",
          "Spain",
          "Poland",
          "Turkey",
          "Romania",
          "Netherlands",
          "Greece",
          "Portugal",
          "Belgium",
          "Sweden",
          "Hungary",
          "Austria",
          "Czech Republic",
          "Switzerland",
          "Bulgaria",
          "Finland",
          "Serbia",
          "Denmark",
          "Croatia",
          "Lithuania",
          "Slovakia",
          "Ireland",
          "Latvia",
          "Syria",
          "Slovenia",
          "Bosnia and Herzegovina",
          "Estonia",
          "Cyprus",
          "Luxembourg",
          "Malta"
         ],
         "y": [
          78274083.62756895,
          19602722.316080898,
          5104746.556236183,
          3647718.0273362286,
          2520226.680893318,
          3875049.0882344795,
          3905391.8489710516,
          2151598.2802301887,
          1864414.3848592837,
          6615966.20190204,
          955627.1538926007,
          873626.0036519711,
          462870.502306923,
          426006.44728706323,
          631157.3483930741,
          589649.3597335635,
          447655.2980256917,
          409561.0646530463,
          542377.0601487254,
          420805.79825945635,
          326844.32770728954,
          287217.95041633584,
          337287.49012108846,
          299006.14352732926,
          190346.0779947683,
          141685.85473945743,
          277339.19940007484,
          339863.68828483415,
          100277.11544801791,
          1761190.2476420598,
          103063.34504744357,
          154591.99999999997,
          70161.22586746066,
          64323.16225945167,
          31529.754655404115,
          22649.97161102321
         ]
        }
       ],
       "layout": {
        "autosize": true,
        "barmode": "group",
        "template": {
         "data": {
          "bar": [
           {
            "error_x": {
             "color": "#2a3f5f"
            },
            "error_y": {
             "color": "#2a3f5f"
            },
            "marker": {
             "line": {
              "color": "#E5ECF6",
              "width": 0.5
             }
            },
            "type": "bar"
           }
          ],
          "barpolar": [
           {
            "marker": {
             "line": {
              "color": "#E5ECF6",
              "width": 0.5
             }
            },
            "type": "barpolar"
           }
          ],
          "carpet": [
           {
            "aaxis": {
             "endlinecolor": "#2a3f5f",
             "gridcolor": "white",
             "linecolor": "white",
             "minorgridcolor": "white",
             "startlinecolor": "#2a3f5f"
            },
            "baxis": {
             "endlinecolor": "#2a3f5f",
             "gridcolor": "white",
             "linecolor": "white",
             "minorgridcolor": "white",
             "startlinecolor": "#2a3f5f"
            },
            "type": "carpet"
           }
          ],
          "choropleth": [
           {
            "colorbar": {
             "outlinewidth": 0,
             "ticks": ""
            },
            "type": "choropleth"
           }
          ],
          "contour": [
           {
            "colorbar": {
             "outlinewidth": 0,
             "ticks": ""
            },
            "colorscale": [
             [
              0,
              "#0d0887"
             ],
             [
              0.1111111111111111,
              "#46039f"
             ],
             [
              0.2222222222222222,
              "#7201a8"
             ],
             [
              0.3333333333333333,
              "#9c179e"
             ],
             [
              0.4444444444444444,
              "#bd3786"
             ],
             [
              0.5555555555555556,
              "#d8576b"
             ],
             [
              0.6666666666666666,
              "#ed7953"
             ],
             [
              0.7777777777777778,
              "#fb9f3a"
             ],
             [
              0.8888888888888888,
              "#fdca26"
             ],
             [
              1,
              "#f0f921"
             ]
            ],
            "type": "contour"
           }
          ],
          "contourcarpet": [
           {
            "colorbar": {
             "outlinewidth": 0,
             "ticks": ""
            },
            "type": "contourcarpet"
           }
          ],
          "heatmap": [
           {
            "colorbar": {
             "outlinewidth": 0,
             "ticks": ""
            },
            "colorscale": [
             [
              0,
              "#0d0887"
             ],
             [
              0.1111111111111111,
              "#46039f"
             ],
             [
              0.2222222222222222,
              "#7201a8"
             ],
             [
              0.3333333333333333,
              "#9c179e"
             ],
             [
              0.4444444444444444,
              "#bd3786"
             ],
             [
              0.5555555555555556,
              "#d8576b"
             ],
             [
              0.6666666666666666,
              "#ed7953"
             ],
             [
              0.7777777777777778,
              "#fb9f3a"
             ],
             [
              0.8888888888888888,
              "#fdca26"
             ],
             [
              1,
              "#f0f921"
             ]
            ],
            "type": "heatmap"
           }
          ],
          "heatmapgl": [
           {
            "colorbar": {
             "outlinewidth": 0,
             "ticks": ""
            },
            "colorscale": [
             [
              0,
              "#0d0887"
             ],
             [
              0.1111111111111111,
              "#46039f"
             ],
             [
              0.2222222222222222,
              "#7201a8"
             ],
             [
              0.3333333333333333,
              "#9c179e"
             ],
             [
              0.4444444444444444,
              "#bd3786"
             ],
             [
              0.5555555555555556,
              "#d8576b"
             ],
             [
              0.6666666666666666,
              "#ed7953"
             ],
             [
              0.7777777777777778,
              "#fb9f3a"
             ],
             [
              0.8888888888888888,
              "#fdca26"
             ],
             [
              1,
              "#f0f921"
             ]
            ],
            "type": "heatmapgl"
           }
          ],
          "histogram": [
           {
            "marker": {
             "colorbar": {
              "outlinewidth": 0,
              "ticks": ""
             }
            },
            "type": "histogram"
           }
          ],
          "histogram2d": [
           {
            "colorbar": {
             "outlinewidth": 0,
             "ticks": ""
            },
            "colorscale": [
             [
              0,
              "#0d0887"
             ],
             [
              0.1111111111111111,
              "#46039f"
             ],
             [
              0.2222222222222222,
              "#7201a8"
             ],
             [
              0.3333333333333333,
              "#9c179e"
             ],
             [
              0.4444444444444444,
              "#bd3786"
             ],
             [
              0.5555555555555556,
              "#d8576b"
             ],
             [
              0.6666666666666666,
              "#ed7953"
             ],
             [
              0.7777777777777778,
              "#fb9f3a"
             ],
             [
              0.8888888888888888,
              "#fdca26"
             ],
             [
              1,
              "#f0f921"
             ]
            ],
            "type": "histogram2d"
           }
          ],
          "histogram2dcontour": [
           {
            "colorbar": {
             "outlinewidth": 0,
             "ticks": ""
            },
            "colorscale": [
             [
              0,
              "#0d0887"
             ],
             [
              0.1111111111111111,
              "#46039f"
             ],
             [
              0.2222222222222222,
              "#7201a8"
             ],
             [
              0.3333333333333333,
              "#9c179e"
             ],
             [
              0.4444444444444444,
              "#bd3786"
             ],
             [
              0.5555555555555556,
              "#d8576b"
             ],
             [
              0.6666666666666666,
              "#ed7953"
             ],
             [
              0.7777777777777778,
              "#fb9f3a"
             ],
             [
              0.8888888888888888,
              "#fdca26"
             ],
             [
              1,
              "#f0f921"
             ]
            ],
            "type": "histogram2dcontour"
           }
          ],
          "mesh3d": [
           {
            "colorbar": {
             "outlinewidth": 0,
             "ticks": ""
            },
            "type": "mesh3d"
           }
          ],
          "parcoords": [
           {
            "line": {
             "colorbar": {
              "outlinewidth": 0,
              "ticks": ""
             }
            },
            "type": "parcoords"
           }
          ],
          "pie": [
           {
            "automargin": true,
            "type": "pie"
           }
          ],
          "scatter": [
           {
            "marker": {
             "colorbar": {
              "outlinewidth": 0,
              "ticks": ""
             }
            },
            "type": "scatter"
           }
          ],
          "scatter3d": [
           {
            "line": {
             "colorbar": {
              "outlinewidth": 0,
              "ticks": ""
             }
            },
            "marker": {
             "colorbar": {
              "outlinewidth": 0,
              "ticks": ""
             }
            },
            "type": "scatter3d"
           }
          ],
          "scattercarpet": [
           {
            "marker": {
             "colorbar": {
              "outlinewidth": 0,
              "ticks": ""
             }
            },
            "type": "scattercarpet"
           }
          ],
          "scattergeo": [
           {
            "marker": {
             "colorbar": {
              "outlinewidth": 0,
              "ticks": ""
             }
            },
            "type": "scattergeo"
           }
          ],
          "scattergl": [
           {
            "marker": {
             "colorbar": {
              "outlinewidth": 0,
              "ticks": ""
             }
            },
            "type": "scattergl"
           }
          ],
          "scattermapbox": [
           {
            "marker": {
             "colorbar": {
              "outlinewidth": 0,
              "ticks": ""
             }
            },
            "type": "scattermapbox"
           }
          ],
          "scatterpolar": [
           {
            "marker": {
             "colorbar": {
              "outlinewidth": 0,
              "ticks": ""
             }
            },
            "type": "scatterpolar"
           }
          ],
          "scatterpolargl": [
           {
            "marker": {
             "colorbar": {
              "outlinewidth": 0,
              "ticks": ""
             }
            },
            "type": "scatterpolargl"
           }
          ],
          "scatterternary": [
           {
            "marker": {
             "colorbar": {
              "outlinewidth": 0,
              "ticks": ""
             }
            },
            "type": "scatterternary"
           }
          ],
          "surface": [
           {
            "colorbar": {
             "outlinewidth": 0,
             "ticks": ""
            },
            "colorscale": [
             [
              0,
              "#0d0887"
             ],
             [
              0.1111111111111111,
              "#46039f"
             ],
             [
              0.2222222222222222,
              "#7201a8"
             ],
             [
              0.3333333333333333,
              "#9c179e"
             ],
             [
              0.4444444444444444,
              "#bd3786"
             ],
             [
              0.5555555555555556,
              "#d8576b"
             ],
             [
              0.6666666666666666,
              "#ed7953"
             ],
             [
              0.7777777777777778,
              "#fb9f3a"
             ],
             [
              0.8888888888888888,
              "#fdca26"
             ],
             [
              1,
              "#f0f921"
             ]
            ],
            "type": "surface"
           }
          ],
          "table": [
           {
            "cells": {
             "fill": {
              "color": "#EBF0F8"
             },
             "line": {
              "color": "white"
             }
            },
            "header": {
             "fill": {
              "color": "#C8D4E3"
             },
             "line": {
              "color": "white"
             }
            },
            "type": "table"
           }
          ]
         },
         "layout": {
          "annotationdefaults": {
           "arrowcolor": "#2a3f5f",
           "arrowhead": 0,
           "arrowwidth": 1
          },
          "coloraxis": {
           "colorbar": {
            "outlinewidth": 0,
            "ticks": ""
           }
          },
          "colorscale": {
           "diverging": [
            [
             0,
             "#8e0152"
            ],
            [
             0.1,
             "#c51b7d"
            ],
            [
             0.2,
             "#de77ae"
            ],
            [
             0.3,
             "#f1b6da"
            ],
            [
             0.4,
             "#fde0ef"
            ],
            [
             0.5,
             "#f7f7f7"
            ],
            [
             0.6,
             "#e6f5d0"
            ],
            [
             0.7,
             "#b8e186"
            ],
            [
             0.8,
             "#7fbc41"
            ],
            [
             0.9,
             "#4d9221"
            ],
            [
             1,
             "#276419"
            ]
           ],
           "sequential": [
            [
             0,
             "#0d0887"
            ],
            [
             0.1111111111111111,
             "#46039f"
            ],
            [
             0.2222222222222222,
             "#7201a8"
            ],
            [
             0.3333333333333333,
             "#9c179e"
            ],
            [
             0.4444444444444444,
             "#bd3786"
            ],
            [
             0.5555555555555556,
             "#d8576b"
            ],
            [
             0.6666666666666666,
             "#ed7953"
            ],
            [
             0.7777777777777778,
             "#fb9f3a"
            ],
            [
             0.8888888888888888,
             "#fdca26"
            ],
            [
             1,
             "#f0f921"
            ]
           ],
           "sequentialminus": [
            [
             0,
             "#0d0887"
            ],
            [
             0.1111111111111111,
             "#46039f"
            ],
            [
             0.2222222222222222,
             "#7201a8"
            ],
            [
             0.3333333333333333,
             "#9c179e"
            ],
            [
             0.4444444444444444,
             "#bd3786"
            ],
            [
             0.5555555555555556,
             "#d8576b"
            ],
            [
             0.6666666666666666,
             "#ed7953"
            ],
            [
             0.7777777777777778,
             "#fb9f3a"
            ],
            [
             0.8888888888888888,
             "#fdca26"
            ],
            [
             1,
             "#f0f921"
            ]
           ]
          },
          "colorway": [
           "#636efa",
           "#EF553B",
           "#00cc96",
           "#ab63fa",
           "#FFA15A",
           "#19d3f3",
           "#FF6692",
           "#B6E880",
           "#FF97FF",
           "#FECB52"
          ],
          "font": {
           "color": "#2a3f5f"
          },
          "geo": {
           "bgcolor": "white",
           "lakecolor": "white",
           "landcolor": "#E5ECF6",
           "showlakes": true,
           "showland": true,
           "subunitcolor": "white"
          },
          "hoverlabel": {
           "align": "left"
          },
          "hovermode": "closest",
          "mapbox": {
           "style": "light"
          },
          "paper_bgcolor": "white",
          "plot_bgcolor": "#E5ECF6",
          "polar": {
           "angularaxis": {
            "gridcolor": "white",
            "linecolor": "white",
            "ticks": ""
           },
           "bgcolor": "#E5ECF6",
           "radialaxis": {
            "gridcolor": "white",
            "linecolor": "white",
            "ticks": ""
           }
          },
          "scene": {
           "xaxis": {
            "backgroundcolor": "#E5ECF6",
            "gridcolor": "white",
            "gridwidth": 2,
            "linecolor": "white",
            "showbackground": true,
            "ticks": "",
            "zerolinecolor": "white"
           },
           "yaxis": {
            "backgroundcolor": "#E5ECF6",
            "gridcolor": "white",
            "gridwidth": 2,
            "linecolor": "white",
            "showbackground": true,
            "ticks": "",
            "zerolinecolor": "white"
           },
           "zaxis": {
            "backgroundcolor": "#E5ECF6",
            "gridcolor": "white",
            "gridwidth": 2,
            "linecolor": "white",
            "showbackground": true,
            "ticks": "",
            "zerolinecolor": "white"
           }
          },
          "shapedefaults": {
           "line": {
            "color": "#2a3f5f"
           }
          },
          "ternary": {
           "aaxis": {
            "gridcolor": "white",
            "linecolor": "white",
            "ticks": ""
           },
           "baxis": {
            "gridcolor": "white",
            "linecolor": "white",
            "ticks": ""
           },
           "bgcolor": "#E5ECF6",
           "caxis": {
            "gridcolor": "white",
            "linecolor": "white",
            "ticks": ""
           }
          },
          "title": {
           "x": 0.05
          },
          "xaxis": {
           "automargin": true,
           "gridcolor": "white",
           "linecolor": "white",
           "ticks": "",
           "title": {
            "standoff": 15
           },
           "zerolinecolor": "white",
           "zerolinewidth": 2
          },
          "yaxis": {
           "automargin": true,
           "gridcolor": "white",
           "linecolor": "white",
           "ticks": "",
           "title": {
            "standoff": 15
           },
           "zerolinecolor": "white",
           "zerolinewidth": 2
          }
         }
        },
        "title": {
         "text": "Total population by age groups and sex in 2018 (female only)"
        },
        "xaxis": {
         "autorange": true,
         "range": [
          -0.5,
          35.5
         ],
         "type": "category"
        },
        "yaxis": {
         "autorange": true,
         "range": [
          0,
          116021195.91314462
         ],
         "type": "linear"
        }
       }
      },
      "image/png": "[encoded data removed]",
      "text/html": [
       "<div>\n",
       "        \n",
       "        \n",
       "            <div id=\"cf46cbaf-39a8-41a2-b9db-4e6bf8d823fb\" class=\"plotly-graph-div\" style=\"height:525px; width:100%;\"></div>\n",
       "            <script type=\"text/javascript\">\n",
       "                require([\"plotly\"], function(Plotly) {\n",
       "                    window.PLOTLYENV=window.PLOTLYENV || {};\n",
       "                    \n",
       "                if (document.getElementById(\"cf46cbaf-39a8-41a2-b9db-4e6bf8d823fb\")) {\n",
       "                    Plotly.newPlot(\n",
       "                        'cf46cbaf-39a8-41a2-b9db-4e6bf8d823fb',\n",
       "                        [{\"name\": \"female 80+\", \"type\": \"bar\", \"x\": [\"China\", \"US\", \"Japan\", \"Germany\", \"Italy\", \"France\", \"UK\", \"Spain\", \"Poland\", \"Turkey\", \"Romania\", \"Netherlands\", \"Greece\", \"Portugal\", \"Belgium\", \"Sweden\", \"Hungary\", \"Austria\", \"Czech Republic\", \"Switzerland\", \"Bulgaria\", \"Finland\", \"Serbia\", \"Denmark\", \"Croatia\", \"Lithuania\", \"Slovakia\", \"Ireland\", \"Latvia\", \"Syria\", \"Slovenia\", \"Bosnia and Herzegovina\", \"Estonia\", \"Cyprus\", \"Luxembourg\", \"Malta\"], \"y\": [14779200.706631681, 7685738.932071125, 6833327.119838092, 3438147.587533258, 2752449.469607526, 2639703.3405257696, 1992546.2352169077, 1820883.6665320771, 1178758.9888204306, 874707.5962751092, 599310.8443834266, 497478.1495522747, 458641.521600526, 420217.04947255296, 411520.253353283, 318512.7757247309, 300994.242000671, 294720.7049033874, 288627.9065055305, 271355.9777905732, 215466.69346603137, 192803.54473493833, 174331.18188527846, 159306.19664364398, 158734.05780521492, 122614.09942276185, 122507.91994101611, 86579.99911469799, 83119.20618773215, 76192.23310372073, 74124.81735805898, 70248.00000000001, 55518.718113738396, 22441.05660905671, 15191.087891646424, 13909.65402784259]}, {\"name\": \"female 70-79\", \"type\": \"bar\", \"x\": [\"China\", \"US\", \"Japan\", \"Germany\", \"Italy\", \"France\", \"UK\", \"Spain\", \"Poland\", \"Turkey\", \"Romania\", \"Netherlands\", \"Greece\", \"Portugal\", \"Belgium\", \"Sweden\", \"Hungary\", \"Austria\", \"Czech Republic\", \"Switzerland\", \"Bulgaria\", \"Finland\", \"Serbia\", \"Denmark\", \"Croatia\", \"Lithuania\", \"Slovakia\", \"Ireland\", \"Latvia\", \"Syria\", \"Slovenia\", \"Bosnia and Herzegovina\", \"Estonia\", \"Cyprus\", \"Luxembourg\", \"Malta\"], \"y\": [32651877.421035234, 11974062.800891027, 8259862.45707091, 4213921.4541380545, 3171805.2950002216, 2918134.7244208185, 2865564.282184814, 2082457.575854126, 1557872.6111191816, 1745661.1213120108, 875125.1558335302, 765074.8670454572, 516160.96072624816, 554889.9713090395, 476058.6012718839, 491241.0277256571, 501583.6091555791, 430428.4662669459, 535684.2449036763, 376703.7714837899, 401231.2234987472, 286008.94403617154, 302087.3285082453, 285836.20235561405, 206514.1554231817, 152379.85956119894, 221639.61504686315, 155771.27680736742, 112393.04694779935, 175329.8349782375, 94056.93099744151, 137283.0, 70829.19979771909, 39450.099515497874, 19086.419155175725, 23811.311038007523]}, {\"name\": \"female 60-69\", \"type\": \"bar\", \"x\": [\"China\", \"US\", \"Japan\", \"Germany\", \"Italy\", \"France\", \"UK\", \"Spain\", \"Poland\", \"Turkey\", \"Romania\", \"Netherlands\", \"Greece\", \"Portugal\", \"Belgium\", \"Sweden\", \"Hungary\", \"Austria\", \"Czech Republic\", \"Switzerland\", \"Bulgaria\", \"Finland\", \"Serbia\", \"Denmark\", \"Croatia\", \"Lithuania\", \"Slovakia\", \"Ireland\", \"Latvia\", \"Syria\", \"Slovenia\", \"Bosnia and Herzegovina\", \"Estonia\", \"Cyprus\", \"Luxembourg\", \"Malta\"], \"y\": [71147916.12531962, 19336397.38057137, 8526836.25103939, 5175150.898759262, 3819152.6331898984, 4208214.978885409, 3630337.906973742, 2637257.317504515, 2773893.488040757, 3158367.6160042584, 1401411.6479129873, 1068456.6634793046, 666734.287758011, 688252.6346271597, 676702.6528021675, 569745.8855021694, 745956.6465652031, 501970.8581914641, 718728.457975812, 473091.1089905075, 519150.3463464372, 377900.42318044894, 499946.359013857, 342461.80921644537, 288596.1973887544, 193864.313129402, 367528.7543160053, 239243.9887587802, 138201.33968900604, 380736.6804340993, 138288.055234388, 233085.9999999998, 92549.83489314863, 58470.14749483294, 29052.55328642073, 32415.12995868002]}, {\"name\": \"female 50-59\", \"type\": \"bar\", \"x\": [\"China\", \"US\", \"Japan\", \"Germany\", \"Italy\", \"France\", \"UK\", \"Spain\", \"Poland\", \"Turkey\", \"Romania\", \"Netherlands\", \"Greece\", \"Portugal\", \"Belgium\", \"Sweden\", \"Hungary\", \"Austria\", \"Czech Republic\", \"Switzerland\", \"Bulgaria\", \"Finland\", \"Serbia\", \"Denmark\", \"Croatia\", \"Lithuania\", \"Slovakia\", \"Ireland\", \"Latvia\", \"Syria\", \"Slovenia\", \"Bosnia and Herzegovina\", \"Estonia\", \"Cyprus\", \"Luxembourg\", \"Malta\"], \"y\": [99173807.81089133, 21573421.015830882, 7888484.058621953, 6731160.060973884, 4739461.6241722265, 4514022.377307631, 4551421.1237779865, 3452675.3367716335, 2454189.973360344, 4378310.800574254, 1255540.6497061686, 1255077.6328939905, 771967.3954129944, 774740.7242637423, 786615.2055916201, 636037.0156333514, 622624.943720331, 690079.9565087899, 656113.0767661395, 637621.8666999227, 479411.3260228518, 367537.9395699659, 456517.83541512786, 398709.46184605337, 300384.0471830598, 233076.32801586404, 369992.03824231616, 292178.6652146827, 147894.6842917747, 617532.526972578, 148949.09440206044, 266272.9999999997, 89724.17536754122, 71842.18122667672, 41766.43980908373, 30376.45638638147]}, {\"name\": \"female 40-49\", \"type\": \"bar\", \"x\": [\"China\", \"US\", \"Japan\", \"Germany\", \"Italy\", \"France\", \"UK\", \"Spain\", \"Poland\", \"Turkey\", \"Romania\", \"Netherlands\", \"Greece\", \"Portugal\", \"Belgium\", \"Sweden\", \"Hungary\", \"Austria\", \"Czech Republic\", \"Switzerland\", \"Bulgaria\", \"Finland\", \"Serbia\", \"Denmark\", \"Croatia\", \"Lithuania\", \"Slovakia\", \"Ireland\", \"Latvia\", \"Syria\", \"Slovenia\", \"Bosnia and Herzegovina\", \"Estonia\", \"Cyprus\", \"Luxembourg\", \"Malta\"], \"y\": [110220136.11748739, 20220888.79011943, 9260454.660919761, 5273859.017859293, 4716025.638455896, 4427422.024726375, 4330614.663158489, 3870119.281531074, 2618696.712582349, 5579775.556729948, 1532848.493606157, 1140874.2537248323, 810633.8183326684, 826391.1752073282, 746023.829673459, 650359.551605404, 780265.8803711813, 607633.222876913, 841699.7227804251, 593039.3516939656, 512093.8661746753, 320146.88782517606, 487710.10102694156, 385736.0568745741, 271112.6742400346, 193088.57705005212, 403825.73243050586, 372522.93829116394, 132628.8903234238, 894459.3226400117, 143210.14209976137, 223231.9999999997, 89145.06493473116, 82088.20707295786, 44618.791852298076, 30478.830383262535]}, {\"name\": \"female 30-39\", \"type\": \"bar\", \"x\": [\"China\", \"US\", \"Japan\", \"Germany\", \"Italy\", \"France\", \"UK\", \"Spain\", \"Poland\", \"Turkey\", \"Romania\", \"Netherlands\", \"Greece\", \"Portugal\", \"Belgium\", \"Sweden\", \"Hungary\", \"Austria\", \"Czech Republic\", \"Switzerland\", \"Bulgaria\", \"Finland\", \"Serbia\", \"Denmark\", \"Croatia\", \"Lithuania\", \"Slovakia\", \"Ireland\", \"Latvia\", \"Syria\", \"Slovenia\", \"Bosnia and Herzegovina\", \"Estonia\", \"Cyprus\", \"Luxembourg\", \"Malta\"], \"y\": [102408097.41475384, 21500912.242494762, 7320060.868677662, 5179579.405770289, 3580547.5453713317, 4179416.5660130833, 4517357.508143926, 3220956.16245298, 2986168.8741681054, 6335480.594383028, 1283834.9031568058, 1026741.5780902331, 711780.8845592254, 668296.0039269936, 742886.3416292019, 630511.222967057, 657513.8137870071, 592587.6392509461, 749326.3196342216, 595791.4204558169, 472121.7548911526, 342107.8392546242, 475448.46154941944, 329115.48940349254, 271050.689886722, 164534.71782120236, 425827.47280395415, 374070.03491443984, 128876.62789654556, 1391008.3570256045, 140495.88033126766, 233238.9999999997, 91204.90083626058, 94019.2371697742, 46761.0731823568, 34347.02635143595]}, {\"name\": \"female 20-29\", \"type\": \"bar\", \"x\": [\"China\", \"US\", \"Japan\", \"Germany\", \"Italy\", \"France\", \"UK\", \"Spain\", \"Poland\", \"Turkey\", \"Romania\", \"Netherlands\", \"Greece\", \"Portugal\", \"Belgium\", \"Sweden\", \"Hungary\", \"Austria\", \"Czech Republic\", \"Switzerland\", \"Bulgaria\", \"Finland\", \"Serbia\", \"Denmark\", \"Croatia\", \"Lithuania\", \"Slovakia\", \"Ireland\", \"Latvia\", \"Syria\", \"Slovenia\", \"Bosnia and Herzegovina\", \"Estonia\", \"Cyprus\", \"Luxembourg\", \"Malta\"], \"y\": [93755619.75253403, 22646695.49266828, 6009961.135269766, 4528367.399916968, 2984831.741041822, 3845014.8379593613, 4239325.797316696, 2303383.61554075, 2340421.334847369, 6397160.334740124, 1093781.9005585427, 1048289.9953224477, 529961.2217777884, 548177.2773235919, 685461.5564894465, 663549.5604906114, 588754.4623616867, 547159.3497180353, 580030.3724718326, 518200.06328412215, 369184.20485307585, 333119.22653069143, 437177.9327448122, 378873.4159135111, 234535.0186350858, 174491.82315806756, 344434.2188836014, 273019.24336054554, 109011.41534104144, 1504606.7891881426, 105062.22770613259, 201609.9999999997, 75832.51424394498, 92865.23425872513, 40493.140201640395, 30794.758739228906]}, {\"name\": \"female 10-19\", \"type\": \"bar\", \"x\": [\"China\", \"US\", \"Japan\", \"Germany\", \"Italy\", \"France\", \"UK\", \"Spain\", \"Poland\", \"Turkey\", \"Romania\", \"Netherlands\", \"Greece\", \"Portugal\", \"Belgium\", \"Sweden\", \"Hungary\", \"Austria\", \"Czech Republic\", \"Switzerland\", \"Bulgaria\", \"Finland\", \"Serbia\", \"Denmark\", \"Croatia\", \"Lithuania\", \"Slovakia\", \"Ireland\", \"Latvia\", \"Syria\", \"Slovenia\", \"Bosnia and Herzegovina\", \"Estonia\", \"Cyprus\", \"Luxembourg\", \"Malta\"], \"y\": [75561505.93885727, 20744196.628901422, 5527617.035054195, 3823686.085263689, 2763079.9896681197, 3947883.0985708204, 3634323.779783995, 2241487.7002186365, 1796198.0690467458, 6632406.134642652, 1001166.9150566664, 977960.1794473603, 533370.5061274006, 512747.1651919152, 622377.5546458941, 536459.392809901, 476662.2688844152, 422756.920089034, 486178.53261475416, 408038.39686373307, 315932.88165964955, 291954.05805433507, 390532.3052117515, 335574.979184584, 199188.1951887774, 124808.86491555601, 263309.6686843264, 314155.2936152413, 88126.21877652711, 1620675.5549917144, 91504.84835954328, 175990.9999999998, 63232.868465273204, 68789.1735252619, 32564.687748657834, 22369.26871634925]}, {\"name\": \"female 0-9\", \"type\": \"bar\", \"x\": [\"China\", \"US\", \"Japan\", \"Germany\", \"Italy\", \"France\", \"UK\", \"Spain\", \"Poland\", \"Turkey\", \"Romania\", \"Netherlands\", \"Greece\", \"Portugal\", \"Belgium\", \"Sweden\", \"Hungary\", \"Austria\", \"Czech Republic\", \"Switzerland\", \"Bulgaria\", \"Finland\", \"Serbia\", \"Denmark\", \"Croatia\", \"Lithuania\", \"Slovakia\", \"Ireland\", \"Latvia\", \"Syria\", \"Slovenia\", \"Bosnia and Herzegovina\", \"Estonia\", \"Cyprus\", \"Luxembourg\", \"Malta\"], \"y\": [78274083.62756895, 19602722.316080898, 5104746.556236183, 3647718.0273362286, 2520226.680893318, 3875049.0882344795, 3905391.8489710516, 2151598.2802301887, 1864414.3848592837, 6615966.20190204, 955627.1538926007, 873626.0036519711, 462870.502306923, 426006.44728706323, 631157.3483930741, 589649.3597335635, 447655.2980256917, 409561.0646530463, 542377.0601487254, 420805.79825945635, 326844.32770728954, 287217.95041633584, 337287.49012108846, 299006.14352732926, 190346.0779947683, 141685.85473945743, 277339.19940007484, 339863.68828483415, 100277.11544801791, 1761190.2476420598, 103063.34504744357, 154591.99999999997, 70161.22586746066, 64323.16225945167, 31529.754655404115, 22649.97161102321]}],\n",
       "                        {\"barmode\": \"group\", \"template\": {\"data\": {\"bar\": [{\"error_x\": {\"color\": \"#2a3f5f\"}, \"error_y\": {\"color\": \"#2a3f5f\"}, \"marker\": {\"line\": {\"color\": \"#E5ECF6\", \"width\": 0.5}}, \"type\": \"bar\"}], \"barpolar\": [{\"marker\": {\"line\": {\"color\": \"#E5ECF6\", \"width\": 0.5}}, \"type\": \"barpolar\"}], \"carpet\": [{\"aaxis\": {\"endlinecolor\": \"#2a3f5f\", \"gridcolor\": \"white\", \"linecolor\": \"white\", \"minorgridcolor\": \"white\", \"startlinecolor\": \"#2a3f5f\"}, \"baxis\": {\"endlinecolor\": \"#2a3f5f\", \"gridcolor\": \"white\", \"linecolor\": \"white\", \"minorgridcolor\": \"white\", \"startlinecolor\": \"#2a3f5f\"}, \"type\": \"carpet\"}], \"choropleth\": [{\"colorbar\": {\"outlinewidth\": 0, \"ticks\": \"\"}, \"type\": \"choropleth\"}], \"contour\": [{\"colorbar\": {\"outlinewidth\": 0, \"ticks\": \"\"}, \"colorscale\": [[0.0, \"#0d0887\"], [0.1111111111111111, \"#46039f\"], [0.2222222222222222, \"#7201a8\"], [0.3333333333333333, \"#9c179e\"], [0.4444444444444444, \"#bd3786\"], [0.5555555555555556, \"#d8576b\"], [0.6666666666666666, \"#ed7953\"], [0.7777777777777778, \"#fb9f3a\"], [0.8888888888888888, \"#fdca26\"], [1.0, \"#f0f921\"]], \"type\": \"contour\"}], \"contourcarpet\": [{\"colorbar\": {\"outlinewidth\": 0, \"ticks\": \"\"}, \"type\": \"contourcarpet\"}], \"heatmap\": [{\"colorbar\": {\"outlinewidth\": 0, \"ticks\": \"\"}, \"colorscale\": [[0.0, \"#0d0887\"], [0.1111111111111111, \"#46039f\"], [0.2222222222222222, \"#7201a8\"], [0.3333333333333333, \"#9c179e\"], [0.4444444444444444, \"#bd3786\"], [0.5555555555555556, \"#d8576b\"], [0.6666666666666666, \"#ed7953\"], [0.7777777777777778, \"#fb9f3a\"], [0.8888888888888888, \"#fdca26\"], [1.0, \"#f0f921\"]], \"type\": \"heatmap\"}], \"heatmapgl\": [{\"colorbar\": {\"outlinewidth\": 0, \"ticks\": \"\"}, \"colorscale\": [[0.0, \"#0d0887\"], [0.1111111111111111, \"#46039f\"], [0.2222222222222222, \"#7201a8\"], [0.3333333333333333, \"#9c179e\"], [0.4444444444444444, \"#bd3786\"], [0.5555555555555556, \"#d8576b\"], [0.6666666666666666, \"#ed7953\"], [0.7777777777777778, \"#fb9f3a\"], [0.8888888888888888, \"#fdca26\"], [1.0, \"#f0f921\"]], \"type\": \"heatmapgl\"}], \"histogram\": [{\"marker\": {\"colorbar\": {\"outlinewidth\": 0, \"ticks\": \"\"}}, \"type\": \"histogram\"}], \"histogram2d\": [{\"colorbar\": {\"outlinewidth\": 0, \"ticks\": \"\"}, \"colorscale\": [[0.0, \"#0d0887\"], [0.1111111111111111, \"#46039f\"], [0.2222222222222222, \"#7201a8\"], [0.3333333333333333, \"#9c179e\"], [0.4444444444444444, \"#bd3786\"], [0.5555555555555556, \"#d8576b\"], [0.6666666666666666, \"#ed7953\"], [0.7777777777777778, \"#fb9f3a\"], [0.8888888888888888, \"#fdca26\"], [1.0, \"#f0f921\"]], \"type\": \"histogram2d\"}], \"histogram2dcontour\": [{\"colorbar\": {\"outlinewidth\": 0, \"ticks\": \"\"}, \"colorscale\": [[0.0, \"#0d0887\"], [0.1111111111111111, \"#46039f\"], [0.2222222222222222, \"#7201a8\"], [0.3333333333333333, \"#9c179e\"], [0.4444444444444444, \"#bd3786\"], [0.5555555555555556, \"#d8576b\"], [0.6666666666666666, \"#ed7953\"], [0.7777777777777778, \"#fb9f3a\"], [0.8888888888888888, \"#fdca26\"], [1.0, \"#f0f921\"]], \"type\": \"histogram2dcontour\"}], \"mesh3d\": [{\"colorbar\": {\"outlinewidth\": 0, \"ticks\": \"\"}, \"type\": \"mesh3d\"}], \"parcoords\": [{\"line\": {\"colorbar\": {\"outlinewidth\": 0, \"ticks\": \"\"}}, \"type\": \"parcoords\"}], \"pie\": [{\"automargin\": true, \"type\": \"pie\"}], \"scatter\": [{\"marker\": {\"colorbar\": {\"outlinewidth\": 0, \"ticks\": \"\"}}, \"type\": \"scatter\"}], \"scatter3d\": [{\"line\": {\"colorbar\": {\"outlinewidth\": 0, \"ticks\": \"\"}}, \"marker\": {\"colorbar\": {\"outlinewidth\": 0, \"ticks\": \"\"}}, \"type\": \"scatter3d\"}], \"scattercarpet\": [{\"marker\": {\"colorbar\": {\"outlinewidth\": 0, \"ticks\": \"\"}}, \"type\": \"scattercarpet\"}], \"scattergeo\": [{\"marker\": {\"colorbar\": {\"outlinewidth\": 0, \"ticks\": \"\"}}, \"type\": \"scattergeo\"}], \"scattergl\": [{\"marker\": {\"colorbar\": {\"outlinewidth\": 0, \"ticks\": \"\"}}, \"type\": \"scattergl\"}], \"scattermapbox\": [{\"marker\": {\"colorbar\": {\"outlinewidth\": 0, \"ticks\": \"\"}}, \"type\": \"scattermapbox\"}], \"scatterpolar\": [{\"marker\": {\"colorbar\": {\"outlinewidth\": 0, \"ticks\": \"\"}}, \"type\": \"scatterpolar\"}], \"scatterpolargl\": [{\"marker\": {\"colorbar\": {\"outlinewidth\": 0, \"ticks\": \"\"}}, \"type\": \"scatterpolargl\"}], \"scatterternary\": [{\"marker\": {\"colorbar\": {\"outlinewidth\": 0, \"ticks\": \"\"}}, \"type\": \"scatterternary\"}], \"surface\": [{\"colorbar\": {\"outlinewidth\": 0, \"ticks\": \"\"}, \"colorscale\": [[0.0, \"#0d0887\"], [0.1111111111111111, \"#46039f\"], [0.2222222222222222, \"#7201a8\"], [0.3333333333333333, \"#9c179e\"], [0.4444444444444444, \"#bd3786\"], [0.5555555555555556, \"#d8576b\"], [0.6666666666666666, \"#ed7953\"], [0.7777777777777778, \"#fb9f3a\"], [0.8888888888888888, \"#fdca26\"], [1.0, \"#f0f921\"]], \"type\": \"surface\"}], \"table\": [{\"cells\": {\"fill\": {\"color\": \"#EBF0F8\"}, \"line\": {\"color\": \"white\"}}, \"header\": {\"fill\": {\"color\": \"#C8D4E3\"}, \"line\": {\"color\": \"white\"}}, \"type\": \"table\"}]}, \"layout\": {\"annotationdefaults\": {\"arrowcolor\": \"#2a3f5f\", \"arrowhead\": 0, \"arrowwidth\": 1}, \"coloraxis\": {\"colorbar\": {\"outlinewidth\": 0, \"ticks\": \"\"}}, \"colorscale\": {\"diverging\": [[0, \"#8e0152\"], [0.1, \"#c51b7d\"], [0.2, \"#de77ae\"], [0.3, \"#f1b6da\"], [0.4, \"#fde0ef\"], [0.5, \"#f7f7f7\"], [0.6, \"#e6f5d0\"], [0.7, \"#b8e186\"], [0.8, \"#7fbc41\"], [0.9, \"#4d9221\"], [1, \"#276419\"]], \"sequential\": [[0.0, \"#0d0887\"], [0.1111111111111111, \"#46039f\"], [0.2222222222222222, \"#7201a8\"], [0.3333333333333333, \"#9c179e\"], [0.4444444444444444, \"#bd3786\"], [0.5555555555555556, \"#d8576b\"], [0.6666666666666666, \"#ed7953\"], [0.7777777777777778, \"#fb9f3a\"], [0.8888888888888888, \"#fdca26\"], [1.0, \"#f0f921\"]], \"sequentialminus\": [[0.0, \"#0d0887\"], [0.1111111111111111, \"#46039f\"], [0.2222222222222222, \"#7201a8\"], [0.3333333333333333, \"#9c179e\"], [0.4444444444444444, \"#bd3786\"], [0.5555555555555556, \"#d8576b\"], [0.6666666666666666, \"#ed7953\"], [0.7777777777777778, \"#fb9f3a\"], [0.8888888888888888, \"#fdca26\"], [1.0, \"#f0f921\"]]}, \"colorway\": [\"#636efa\", \"#EF553B\", \"#00cc96\", \"#ab63fa\", \"#FFA15A\", \"#19d3f3\", \"#FF6692\", \"#B6E880\", \"#FF97FF\", \"#FECB52\"], \"font\": {\"color\": \"#2a3f5f\"}, \"geo\": {\"bgcolor\": \"white\", \"lakecolor\": \"white\", \"landcolor\": \"#E5ECF6\", \"showlakes\": true, \"showland\": true, \"subunitcolor\": \"white\"}, \"hoverlabel\": {\"align\": \"left\"}, \"hovermode\": \"closest\", \"mapbox\": {\"style\": \"light\"}, \"paper_bgcolor\": \"white\", \"plot_bgcolor\": \"#E5ECF6\", \"polar\": {\"angularaxis\": {\"gridcolor\": \"white\", \"linecolor\": \"white\", \"ticks\": \"\"}, \"bgcolor\": \"#E5ECF6\", \"radialaxis\": {\"gridcolor\": \"white\", \"linecolor\": \"white\", \"ticks\": \"\"}}, \"scene\": {\"xaxis\": {\"backgroundcolor\": \"#E5ECF6\", \"gridcolor\": \"white\", \"gridwidth\": 2, \"linecolor\": \"white\", \"showbackground\": true, \"ticks\": \"\", \"zerolinecolor\": \"white\"}, \"yaxis\": {\"backgroundcolor\": \"#E5ECF6\", \"gridcolor\": \"white\", \"gridwidth\": 2, \"linecolor\": \"white\", \"showbackground\": true, \"ticks\": \"\", \"zerolinecolor\": \"white\"}, \"zaxis\": {\"backgroundcolor\": \"#E5ECF6\", \"gridcolor\": \"white\", \"gridwidth\": 2, \"linecolor\": \"white\", \"showbackground\": true, \"ticks\": \"\", \"zerolinecolor\": \"white\"}}, \"shapedefaults\": {\"line\": {\"color\": \"#2a3f5f\"}}, \"ternary\": {\"aaxis\": {\"gridcolor\": \"white\", \"linecolor\": \"white\", \"ticks\": \"\"}, \"baxis\": {\"gridcolor\": \"white\", \"linecolor\": \"white\", \"ticks\": \"\"}, \"bgcolor\": \"#E5ECF6\", \"caxis\": {\"gridcolor\": \"white\", \"linecolor\": \"white\", \"ticks\": \"\"}}, \"title\": {\"x\": 0.05}, \"xaxis\": {\"automargin\": true, \"gridcolor\": \"white\", \"linecolor\": \"white\", \"ticks\": \"\", \"title\": {\"standoff\": 15}, \"zerolinecolor\": \"white\", \"zerolinewidth\": 2}, \"yaxis\": {\"automargin\": true, \"gridcolor\": \"white\", \"linecolor\": \"white\", \"ticks\": \"\", \"title\": {\"standoff\": 15}, \"zerolinecolor\": \"white\", \"zerolinewidth\": 2}}}, \"title\": {\"text\": \"Total population by age groups and sex in 2018 (female only)\"}},\n",
       "                        {\"responsive\": true}\n",
       "                    ).then(function(){\n",
       "                            \n",
       "var gd = document.getElementById('cf46cbaf-39a8-41a2-b9db-4e6bf8d823fb');\n",
       "var x = new MutationObserver(function (mutations, observer) {{\n",
       "        var display = window.getComputedStyle(gd).display;\n",
       "        if (!display || display === 'none') {{\n",
       "            console.log([gd, 'removed!']);\n",
       "            Plotly.purge(gd);\n",
       "            observer.disconnect();\n",
       "        }}\n",
       "}});\n",
       "\n",
       "// Listen for the removal of the full notebook cells\n",
       "var notebookContainer = gd.closest('#notebook-container');\n",
       "if (notebookContainer) {{\n",
       "    x.observe(notebookContainer, {childList: true});\n",
       "}}\n",
       "\n",
       "// Listen for the clearing of the current output cell\n",
       "var outputEl = gd.closest('.output');\n",
       "if (outputEl) {{\n",
       "    x.observe(outputEl, {childList: true});\n",
       "}}\n",
       "\n",
       "                        })\n",
       "                };\n",
       "                });\n",
       "            </script>\n",
       "        </div>"
      ]
     },
     "metadata": {},
     "output_type": "display_data"
    },
    {
     "data": {
      "application/vnd.plotly.v1+json": {
       "config": {
        "plotlyServerURL": "https://plot.ly"
       },
       "data": [
        {
         "name": "male 80+",
         "type": "bar",
         "x": [
          "China",
          "US",
          "Japan",
          "Germany",
          "Italy",
          "France",
          "UK",
          "Spain",
          "Poland",
          "Turkey",
          "Romania",
          "Netherlands",
          "Greece",
          "Portugal",
          "Belgium",
          "Sweden",
          "Hungary",
          "Austria",
          "Czech Republic",
          "Switzerland",
          "Bulgaria",
          "Finland",
          "Serbia",
          "Denmark",
          "Croatia",
          "Lithuania",
          "Slovakia",
          "Ireland",
          "Latvia",
          "Syria",
          "Slovenia",
          "Bosnia and Herzegovina",
          "Estonia",
          "Cyprus",
          "Luxembourg",
          "Malta"
         ],
         "y": [
          9975601.989777599,
          5018704.753637134,
          3810605.9260512707,
          2074602.3975122196,
          1610699.718555655,
          1481279.4523105784,
          1358179.4757109291,
          1073148.3878769872,
          534405.5404591348,
          510867.6107307631,
          324336.1457610976,
          312773.2459241035,
          323255.00667158066,
          239613.90248115483,
          240881.2911948776,
          208102.10751151008,
          123889.200220613,
          170529.21791896713,
          148309.9166269674,
          168044.01572590566,
          118708.04609670701,
          106669.3339894272,
          107513.61469296896,
          102890.22839639784,
          71705.07411810246,
          45150.03060040633,
          54703.68245761948,
          60154.46069785709,
          27842.26672979121,
          58534.735212358595,
          35946.05908069747,
          42815.00000000001,
          19592.903487984466,
          14673.03701371104,
          9203.763592191242,
          8210.834868129008
         ]
        },
        {
         "name": "male 70-79",
         "type": "bar",
         "x": [
          "China",
          "US",
          "Japan",
          "Germany",
          "Italy",
          "France",
          "UK",
          "Spain",
          "Poland",
          "Turkey",
          "Romania",
          "Netherlands",
          "Greece",
          "Portugal",
          "Belgium",
          "Sweden",
          "Hungary",
          "Austria",
          "Czech Republic",
          "Switzerland",
          "Bulgaria",
          "Finland",
          "Serbia",
          "Denmark",
          "Croatia",
          "Lithuania",
          "Slovakia",
          "Ireland",
          "Latvia",
          "Syria",
          "Slovenia",
          "Bosnia and Herzegovina",
          "Estonia",
          "Cyprus",
          "Luxembourg",
          "Malta"
         ],
         "y": [
          29357604.682558022,
          9998179.973401805,
          7005423.627368353,
          3553428.4388854075,
          2661863.284599848,
          2425738.5540931257,
          2566225.729274254,
          1732844.4696045108,
          1045902.7212874122,
          1350152.970510328,
          583825.428721565,
          706183.8730113201,
          431804.62209848006,
          425578.3827213844,
          399332.395547884,
          460244.0983595462,
          308776.0600631345,
          351520.9920066432,
          399968.9353514201,
          330787.67687817,
          270122.53911035915,
          240041.72211926116,
          229869.0560178926,
          260203.85033303304,
          142224.57449426863,
          81469.21710367092,
          142239.1638162874,
          144664.61374430492,
          57084.13933286693,
          147435.81723348075,
          74337.73965221512,
          96501.00000000013,
          38797.40359948088,
          33945.08562873446,
          16630.3388697281,
          20880.992976744725
         ]
        },
        {
         "name": "male 60-69",
         "type": "bar",
         "x": [
          "China",
          "US",
          "Japan",
          "Germany",
          "Italy",
          "France",
          "UK",
          "Spain",
          "Poland",
          "Turkey",
          "Romania",
          "Netherlands",
          "Greece",
          "Portugal",
          "Belgium",
          "Sweden",
          "Hungary",
          "Austria",
          "Czech Republic",
          "Switzerland",
          "Bulgaria",
          "Finland",
          "Serbia",
          "Denmark",
          "Croatia",
          "Lithuania",
          "Slovakia",
          "Ireland",
          "Latvia",
          "Syria",
          "Slovenia",
          "Bosnia and Herzegovina",
          "Estonia",
          "Cyprus",
          "Luxembourg",
          "Malta"
         ],
         "y": [
          70322486.8509568,
          17819990.506071545,
          8237806.785432688,
          4855863.42459005,
          3500706.5086293053,
          3807627.406673822,
          3478087.4684116505,
          2446222.0366342724,
          2332802.9081746447,
          2574189.142470263,
          1151284.8965802002,
          1051761.5388692322,
          588983.4375576156,
          588794.2888998179,
          644055.4682351259,
          561370.9038617566,
          587255.0560623113,
          463888.7457573251,
          643468.6571337839,
          462284.61902110575,
          429375.46273829637,
          354048.0262322809,
          434801.59068680997,
          330037.697727677,
          257648.29527041045,
          138285.163197764,
          308441.90483946825,
          231555.84518751342,
          97755.62706531258,
          348270.1509458622,
          136012.57258609444,
          208583.00000000015,
          68885.18598275167,
          55764.14066875087,
          29504.142167733586,
          31731.535850474105
         ]
        },
        {
         "name": "male 50-59",
         "type": "bar",
         "x": [
          "China",
          "US",
          "Japan",
          "Germany",
          "Italy",
          "France",
          "UK",
          "Spain",
          "Poland",
          "Turkey",
          "Romania",
          "Netherlands",
          "Greece",
          "Portugal",
          "Belgium",
          "Sweden",
          "Hungary",
          "Austria",
          "Czech Republic",
          "Switzerland",
          "Bulgaria",
          "Finland",
          "Serbia",
          "Denmark",
          "Croatia",
          "Lithuania",
          "Slovakia",
          "Ireland",
          "Latvia",
          "Syria",
          "Slovenia",
          "Bosnia and Herzegovina",
          "Estonia",
          "Cyprus",
          "Luxembourg",
          "Malta"
         ],
         "y": [
          101649268.37458935,
          21416330.842916597,
          7997210.671548182,
          6762293.293299428,
          4540925.573007735,
          4312608.710185883,
          4416542.15871589,
          3394450.8483886104,
          2344655.6858362313,
          4030606.8229618883,
          1205601.1575884682,
          1275994.7685676534,
          730684.8769068648,
          694720.7202893626,
          806191.1812488573,
          652889.1003827867,
          574591.6138667808,
          691226.210879343,
          663652.7054911365,
          651034.5807708398,
          471340.80056384276,
          366535.7632069042,
          432799.62561524863,
          401928.62401812465,
          285831.4984552765,
          201060.0370182098,
          352116.747949805,
          287418.5228698895,
          127599.89962669711,
          581965.1101837218,
          152001.6439276248,
          249494.00000000023,
          81968.0894329408,
          71343.17996791286,
          45039.20199124857,
          30839.891361509843
         ]
        },
        {
         "name": "male 40-49",
         "type": "bar",
         "x": [
          "China",
          "US",
          "Japan",
          "Germany",
          "Italy",
          "France",
          "UK",
          "Spain",
          "Poland",
          "Turkey",
          "Romania",
          "Netherlands",
          "Greece",
          "Portugal",
          "Belgium",
          "Sweden",
          "Hungary",
          "Austria",
          "Czech Republic",
          "Switzerland",
          "Bulgaria",
          "Finland",
          "Serbia",
          "Denmark",
          "Croatia",
          "Lithuania",
          "Slovakia",
          "Ireland",
          "Latvia",
          "Syria",
          "Slovenia",
          "Bosnia and Herzegovina",
          "Estonia",
          "Cyprus",
          "Luxembourg",
          "Malta"
         ],
         "y": [
          114813237.31663066,
          20114577.663523078,
          9567748.964059496,
          5353221.973757961,
          4660487.774720659,
          4337378.02513702,
          4262981.581090946,
          4018048.067530324,
          2651096.3078616033,
          5377852.512737015,
          1579562.3150383139,
          1141811.5805829696,
          816900.8251798756,
          767006.4897808074,
          777508.1342393175,
          670404.9746781626,
          786681.1254440126,
          607517.8014298793,
          884581.3611538464,
          601536.3015626796,
          540206.2297273956,
          333210.15180391073,
          481256.8570403239,
          386942.486780638,
          274280.7634093583,
          181749.28727398667,
          417840.27966738446,
          361677.1463384061,
          126530.96437729351,
          850877.2894786096,
          157792.3343574758,
          228351.0000000002,
          91907.82108574033,
          78237.19735852987,
          48568.434473490845,
          32188.366051610123
         ]
        },
        {
         "name": "male 30-39",
         "type": "bar",
         "x": [
          "China",
          "US",
          "Japan",
          "Germany",
          "Italy",
          "France",
          "UK",
          "Spain",
          "Poland",
          "Turkey",
          "Romania",
          "Netherlands",
          "Greece",
          "Portugal",
          "Belgium",
          "Sweden",
          "Hungary",
          "Austria",
          "Czech Republic",
          "Switzerland",
          "Bulgaria",
          "Finland",
          "Serbia",
          "Denmark",
          "Croatia",
          "Lithuania",
          "Slovakia",
          "Ireland",
          "Latvia",
          "Syria",
          "Slovenia",
          "Bosnia and Herzegovina",
          "Estonia",
          "Cyprus",
          "Luxembourg",
          "Malta"
         ],
         "y": [
          108192548.71507385,
          21824037.534179546,
          7647630.315235132,
          5412009.681043111,
          3616607.5851493003,
          4040720.358678571,
          4487278.775041161,
          3224391.4332847865,
          3196966.0431574243,
          6335757.525869841,
          1370158.2833784898,
          1046567.8592307182,
          746869.801862036,
          630488.980588702,
          742185.032475367,
          658565.0116079322,
          673210.2832216776,
          604342.7166239496,
          794924.7349015474,
          602856.8949939563,
          508442.1078023317,
          362438.13083909085,
          490217.3163958818,
          335187.95405181125,
          280232.24520601577,
          172280.12889332353,
          447216.8883408951,
          354960.9742785077,
          133395.12708631385,
          1388330.4993953397,
          154208.47406051302,
          241855.0000000003,
          97762.82725470237,
          93898.23686454291,
          47234.788913088116,
          37101.217106236705
         ]
        },
        {
         "name": "male 20-29",
         "type": "bar",
         "x": [
          "China",
          "US",
          "Japan",
          "Germany",
          "Italy",
          "France",
          "UK",
          "Spain",
          "Poland",
          "Turkey",
          "Romania",
          "Netherlands",
          "Greece",
          "Portugal",
          "Belgium",
          "Sweden",
          "Hungary",
          "Austria",
          "Czech Republic",
          "Switzerland",
          "Bulgaria",
          "Finland",
          "Serbia",
          "Denmark",
          "Croatia",
          "Lithuania",
          "Slovakia",
          "Ireland",
          "Latvia",
          "Syria",
          "Slovenia",
          "Bosnia and Herzegovina",
          "Estonia",
          "Cyprus",
          "Luxembourg",
          "Malta"
         ],
         "y": [
          103639222.30352017,
          23559201.996534046,
          6318147.691936742,
          4909772.690946183,
          3166343.0118373404,
          3849687.107306186,
          4365353.649042643,
          2390522.217143935,
          2463417.813949599,
          6572626.924092163,
          1190408.2586430616,
          1089522.2765755388,
          574254.3912062861,
          534161.4209002717,
          709942.7171645112,
          696520.4978448866,
          617448.4698921515,
          576858.4820550418,
          607315.6990469148,
          534667.5237338924,
          393372.8705801937,
          349261.9596529526,
          465930.402572108,
          397964.6400410562,
          244679.79112728868,
          187852.60746697054,
          360695.28905246407,
          281506.11585255235,
          115893.56013836931,
          1583342.1888714237,
          111587.20156162484,
          213021.00000000015,
          82734.91152328232,
          104563.26376778209,
          42978.387697685066,
          33476.29698011408
         ]
        },
        {
         "name": "male 10-19",
         "type": "bar",
         "x": [
          "China",
          "US",
          "Japan",
          "Germany",
          "Italy",
          "France",
          "UK",
          "Spain",
          "Poland",
          "Turkey",
          "Romania",
          "Netherlands",
          "Greece",
          "Portugal",
          "Belgium",
          "Sweden",
          "Hungary",
          "Austria",
          "Czech Republic",
          "Switzerland",
          "Bulgaria",
          "Finland",
          "Serbia",
          "Denmark",
          "Croatia",
          "Lithuania",
          "Slovakia",
          "Ireland",
          "Latvia",
          "Syria",
          "Slovenia",
          "Bosnia and Herzegovina",
          "Estonia",
          "Cyprus",
          "Luxembourg",
          "Malta"
         ],
         "y": [
          87214791.92396946,
          21630429.4172637,
          5827353.542987733,
          4130923.111992885,
          2951839.7500914526,
          4124997.460629391,
          3792844.66471492,
          2375153.0576025527,
          1873618.1893975157,
          6923064.225476894,
          1059570.4232907533,
          1031530.227480779,
          559150.160452846,
          531802.5545699613,
          655418.6660567946,
          566332.9860213433,
          503394.9724702605,
          448917.7880669414,
          511786.1722483866,
          427125.06758340256,
          335712.741452236,
          306099.4327022583,
          417409.717420517,
          352122.31936650944,
          209986.2630873253,
          131511.6627975883,
          276828.7622198868,
          326339.68674790295,
          92123.23740537134,
          1691350.4435740602,
          97573.1337429903,
          184388.00000000023,
          66721.50958982181,
          74250.18730103206,
          34267.449387995584,
          23624.175774891595
         ]
        },
        {
         "name": "male 0-9",
         "type": "bar",
         "x": [
          "China",
          "US",
          "Japan",
          "Germany",
          "Italy",
          "France",
          "UK",
          "Spain",
          "Poland",
          "Turkey",
          "Romania",
          "Netherlands",
          "Greece",
          "Portugal",
          "Belgium",
          "Sweden",
          "Hungary",
          "Austria",
          "Czech Republic",
          "Switzerland",
          "Bulgaria",
          "Finland",
          "Serbia",
          "Denmark",
          "Croatia",
          "Lithuania",
          "Slovakia",
          "Ireland",
          "Latvia",
          "Syria",
          "Slovenia",
          "Bosnia and Herzegovina",
          "Estonia",
          "Cyprus",
          "Luxembourg",
          "Malta"
         ],
         "y": [
          89592992.92784467,
          20500945.712843347,
          5385822.332652443,
          3864217.0504218307,
          2674229.1760083586,
          4052345.8883416695,
          4094614.352469999,
          2288149.5452980283,
          1965068.353031867,
          6926770.308587417,
          1010541.4268911644,
          921292.3065498171,
          493643.77946263156,
          449876.8111591512,
          667749.7699872332,
          622679.5275396304,
          471527.05388729274,
          435336.862803346,
          572921.1242448791,
          443558.56420816167,
          345498.57730872795,
          300948.66585122736,
          361246.82408172655,
          315548.4443195052,
          202350.38108635665,
          149630.4278345181,
          290523.6619075276,
          357823.5059213138,
          107788.63333611615,
          1834445.2181289757,
          109157.49949466655,
          163367.00000000023,
          74314.8455234774,
          68302.1722967689,
          33237.54512415515,
          24324.28181807835
         ]
        }
       ],
       "layout": {
        "autosize": true,
        "barmode": "group",
        "template": {
         "data": {
          "bar": [
           {
            "error_x": {
             "color": "#2a3f5f"
            },
            "error_y": {
             "color": "#2a3f5f"
            },
            "marker": {
             "line": {
              "color": "#E5ECF6",
              "width": 0.5
             }
            },
            "type": "bar"
           }
          ],
          "barpolar": [
           {
            "marker": {
             "line": {
              "color": "#E5ECF6",
              "width": 0.5
             }
            },
            "type": "barpolar"
           }
          ],
          "carpet": [
           {
            "aaxis": {
             "endlinecolor": "#2a3f5f",
             "gridcolor": "white",
             "linecolor": "white",
             "minorgridcolor": "white",
             "startlinecolor": "#2a3f5f"
            },
            "baxis": {
             "endlinecolor": "#2a3f5f",
             "gridcolor": "white",
             "linecolor": "white",
             "minorgridcolor": "white",
             "startlinecolor": "#2a3f5f"
            },
            "type": "carpet"
           }
          ],
          "choropleth": [
           {
            "colorbar": {
             "outlinewidth": 0,
             "ticks": ""
            },
            "type": "choropleth"
           }
          ],
          "contour": [
           {
            "colorbar": {
             "outlinewidth": 0,
             "ticks": ""
            },
            "colorscale": [
             [
              0,
              "#0d0887"
             ],
             [
              0.1111111111111111,
              "#46039f"
             ],
             [
              0.2222222222222222,
              "#7201a8"
             ],
             [
              0.3333333333333333,
              "#9c179e"
             ],
             [
              0.4444444444444444,
              "#bd3786"
             ],
             [
              0.5555555555555556,
              "#d8576b"
             ],
             [
              0.6666666666666666,
              "#ed7953"
             ],
             [
              0.7777777777777778,
              "#fb9f3a"
             ],
             [
              0.8888888888888888,
              "#fdca26"
             ],
             [
              1,
              "#f0f921"
             ]
            ],
            "type": "contour"
           }
          ],
          "contourcarpet": [
           {
            "colorbar": {
             "outlinewidth": 0,
             "ticks": ""
            },
            "type": "contourcarpet"
           }
          ],
          "heatmap": [
           {
            "colorbar": {
             "outlinewidth": 0,
             "ticks": ""
            },
            "colorscale": [
             [
              0,
              "#0d0887"
             ],
             [
              0.1111111111111111,
              "#46039f"
             ],
             [
              0.2222222222222222,
              "#7201a8"
             ],
             [
              0.3333333333333333,
              "#9c179e"
             ],
             [
              0.4444444444444444,
              "#bd3786"
             ],
             [
              0.5555555555555556,
              "#d8576b"
             ],
             [
              0.6666666666666666,
              "#ed7953"
             ],
             [
              0.7777777777777778,
              "#fb9f3a"
             ],
             [
              0.8888888888888888,
              "#fdca26"
             ],
             [
              1,
              "#f0f921"
             ]
            ],
            "type": "heatmap"
           }
          ],
          "heatmapgl": [
           {
            "colorbar": {
             "outlinewidth": 0,
             "ticks": ""
            },
            "colorscale": [
             [
              0,
              "#0d0887"
             ],
             [
              0.1111111111111111,
              "#46039f"
             ],
             [
              0.2222222222222222,
              "#7201a8"
             ],
             [
              0.3333333333333333,
              "#9c179e"
             ],
             [
              0.4444444444444444,
              "#bd3786"
             ],
             [
              0.5555555555555556,
              "#d8576b"
             ],
             [
              0.6666666666666666,
              "#ed7953"
             ],
             [
              0.7777777777777778,
              "#fb9f3a"
             ],
             [
              0.8888888888888888,
              "#fdca26"
             ],
             [
              1,
              "#f0f921"
             ]
            ],
            "type": "heatmapgl"
           }
          ],
          "histogram": [
           {
            "marker": {
             "colorbar": {
              "outlinewidth": 0,
              "ticks": ""
             }
            },
            "type": "histogram"
           }
          ],
          "histogram2d": [
           {
            "colorbar": {
             "outlinewidth": 0,
             "ticks": ""
            },
            "colorscale": [
             [
              0,
              "#0d0887"
             ],
             [
              0.1111111111111111,
              "#46039f"
             ],
             [
              0.2222222222222222,
              "#7201a8"
             ],
             [
              0.3333333333333333,
              "#9c179e"
             ],
             [
              0.4444444444444444,
              "#bd3786"
             ],
             [
              0.5555555555555556,
              "#d8576b"
             ],
             [
              0.6666666666666666,
              "#ed7953"
             ],
             [
              0.7777777777777778,
              "#fb9f3a"
             ],
             [
              0.8888888888888888,
              "#fdca26"
             ],
             [
              1,
              "#f0f921"
             ]
            ],
            "type": "histogram2d"
           }
          ],
          "histogram2dcontour": [
           {
            "colorbar": {
             "outlinewidth": 0,
             "ticks": ""
            },
            "colorscale": [
             [
              0,
              "#0d0887"
             ],
             [
              0.1111111111111111,
              "#46039f"
             ],
             [
              0.2222222222222222,
              "#7201a8"
             ],
             [
              0.3333333333333333,
              "#9c179e"
             ],
             [
              0.4444444444444444,
              "#bd3786"
             ],
             [
              0.5555555555555556,
              "#d8576b"
             ],
             [
              0.6666666666666666,
              "#ed7953"
             ],
             [
              0.7777777777777778,
              "#fb9f3a"
             ],
             [
              0.8888888888888888,
              "#fdca26"
             ],
             [
              1,
              "#f0f921"
             ]
            ],
            "type": "histogram2dcontour"
           }
          ],
          "mesh3d": [
           {
            "colorbar": {
             "outlinewidth": 0,
             "ticks": ""
            },
            "type": "mesh3d"
           }
          ],
          "parcoords": [
           {
            "line": {
             "colorbar": {
              "outlinewidth": 0,
              "ticks": ""
             }
            },
            "type": "parcoords"
           }
          ],
          "pie": [
           {
            "automargin": true,
            "type": "pie"
           }
          ],
          "scatter": [
           {
            "marker": {
             "colorbar": {
              "outlinewidth": 0,
              "ticks": ""
             }
            },
            "type": "scatter"
           }
          ],
          "scatter3d": [
           {
            "line": {
             "colorbar": {
              "outlinewidth": 0,
              "ticks": ""
             }
            },
            "marker": {
             "colorbar": {
              "outlinewidth": 0,
              "ticks": ""
             }
            },
            "type": "scatter3d"
           }
          ],
          "scattercarpet": [
           {
            "marker": {
             "colorbar": {
              "outlinewidth": 0,
              "ticks": ""
             }
            },
            "type": "scattercarpet"
           }
          ],
          "scattergeo": [
           {
            "marker": {
             "colorbar": {
              "outlinewidth": 0,
              "ticks": ""
             }
            },
            "type": "scattergeo"
           }
          ],
          "scattergl": [
           {
            "marker": {
             "colorbar": {
              "outlinewidth": 0,
              "ticks": ""
             }
            },
            "type": "scattergl"
           }
          ],
          "scattermapbox": [
           {
            "marker": {
             "colorbar": {
              "outlinewidth": 0,
              "ticks": ""
             }
            },
            "type": "scattermapbox"
           }
          ],
          "scatterpolar": [
           {
            "marker": {
             "colorbar": {
              "outlinewidth": 0,
              "ticks": ""
             }
            },
            "type": "scatterpolar"
           }
          ],
          "scatterpolargl": [
           {
            "marker": {
             "colorbar": {
              "outlinewidth": 0,
              "ticks": ""
             }
            },
            "type": "scatterpolargl"
           }
          ],
          "scatterternary": [
           {
            "marker": {
             "colorbar": {
              "outlinewidth": 0,
              "ticks": ""
             }
            },
            "type": "scatterternary"
           }
          ],
          "surface": [
           {
            "colorbar": {
             "outlinewidth": 0,
             "ticks": ""
            },
            "colorscale": [
             [
              0,
              "#0d0887"
             ],
             [
              0.1111111111111111,
              "#46039f"
             ],
             [
              0.2222222222222222,
              "#7201a8"
             ],
             [
              0.3333333333333333,
              "#9c179e"
             ],
             [
              0.4444444444444444,
              "#bd3786"
             ],
             [
              0.5555555555555556,
              "#d8576b"
             ],
             [
              0.6666666666666666,
              "#ed7953"
             ],
             [
              0.7777777777777778,
              "#fb9f3a"
             ],
             [
              0.8888888888888888,
              "#fdca26"
             ],
             [
              1,
              "#f0f921"
             ]
            ],
            "type": "surface"
           }
          ],
          "table": [
           {
            "cells": {
             "fill": {
              "color": "#EBF0F8"
             },
             "line": {
              "color": "white"
             }
            },
            "header": {
             "fill": {
              "color": "#C8D4E3"
             },
             "line": {
              "color": "white"
             }
            },
            "type": "table"
           }
          ]
         },
         "layout": {
          "annotationdefaults": {
           "arrowcolor": "#2a3f5f",
           "arrowhead": 0,
           "arrowwidth": 1
          },
          "coloraxis": {
           "colorbar": {
            "outlinewidth": 0,
            "ticks": ""
           }
          },
          "colorscale": {
           "diverging": [
            [
             0,
             "#8e0152"
            ],
            [
             0.1,
             "#c51b7d"
            ],
            [
             0.2,
             "#de77ae"
            ],
            [
             0.3,
             "#f1b6da"
            ],
            [
             0.4,
             "#fde0ef"
            ],
            [
             0.5,
             "#f7f7f7"
            ],
            [
             0.6,
             "#e6f5d0"
            ],
            [
             0.7,
             "#b8e186"
            ],
            [
             0.8,
             "#7fbc41"
            ],
            [
             0.9,
             "#4d9221"
            ],
            [
             1,
             "#276419"
            ]
           ],
           "sequential": [
            [
             0,
             "#0d0887"
            ],
            [
             0.1111111111111111,
             "#46039f"
            ],
            [
             0.2222222222222222,
             "#7201a8"
            ],
            [
             0.3333333333333333,
             "#9c179e"
            ],
            [
             0.4444444444444444,
             "#bd3786"
            ],
            [
             0.5555555555555556,
             "#d8576b"
            ],
            [
             0.6666666666666666,
             "#ed7953"
            ],
            [
             0.7777777777777778,
             "#fb9f3a"
            ],
            [
             0.8888888888888888,
             "#fdca26"
            ],
            [
             1,
             "#f0f921"
            ]
           ],
           "sequentialminus": [
            [
             0,
             "#0d0887"
            ],
            [
             0.1111111111111111,
             "#46039f"
            ],
            [
             0.2222222222222222,
             "#7201a8"
            ],
            [
             0.3333333333333333,
             "#9c179e"
            ],
            [
             0.4444444444444444,
             "#bd3786"
            ],
            [
             0.5555555555555556,
             "#d8576b"
            ],
            [
             0.6666666666666666,
             "#ed7953"
            ],
            [
             0.7777777777777778,
             "#fb9f3a"
            ],
            [
             0.8888888888888888,
             "#fdca26"
            ],
            [
             1,
             "#f0f921"
            ]
           ]
          },
          "colorway": [
           "#636efa",
           "#EF553B",
           "#00cc96",
           "#ab63fa",
           "#FFA15A",
           "#19d3f3",
           "#FF6692",
           "#B6E880",
           "#FF97FF",
           "#FECB52"
          ],
          "font": {
           "color": "#2a3f5f"
          },
          "geo": {
           "bgcolor": "white",
           "lakecolor": "white",
           "landcolor": "#E5ECF6",
           "showlakes": true,
           "showland": true,
           "subunitcolor": "white"
          },
          "hoverlabel": {
           "align": "left"
          },
          "hovermode": "closest",
          "mapbox": {
           "style": "light"
          },
          "paper_bgcolor": "white",
          "plot_bgcolor": "#E5ECF6",
          "polar": {
           "angularaxis": {
            "gridcolor": "white",
            "linecolor": "white",
            "ticks": ""
           },
           "bgcolor": "#E5ECF6",
           "radialaxis": {
            "gridcolor": "white",
            "linecolor": "white",
            "ticks": ""
           }
          },
          "scene": {
           "xaxis": {
            "backgroundcolor": "#E5ECF6",
            "gridcolor": "white",
            "gridwidth": 2,
            "linecolor": "white",
            "showbackground": true,
            "ticks": "",
            "zerolinecolor": "white"
           },
           "yaxis": {
            "backgroundcolor": "#E5ECF6",
            "gridcolor": "white",
            "gridwidth": 2,
            "linecolor": "white",
            "showbackground": true,
            "ticks": "",
            "zerolinecolor": "white"
           },
           "zaxis": {
            "backgroundcolor": "#E5ECF6",
            "gridcolor": "white",
            "gridwidth": 2,
            "linecolor": "white",
            "showbackground": true,
            "ticks": "",
            "zerolinecolor": "white"
           }
          },
          "shapedefaults": {
           "line": {
            "color": "#2a3f5f"
           }
          },
          "ternary": {
           "aaxis": {
            "gridcolor": "white",
            "linecolor": "white",
            "ticks": ""
           },
           "baxis": {
            "gridcolor": "white",
            "linecolor": "white",
            "ticks": ""
           },
           "bgcolor": "#E5ECF6",
           "caxis": {
            "gridcolor": "white",
            "linecolor": "white",
            "ticks": ""
           }
          },
          "title": {
           "x": 0.05
          },
          "xaxis": {
           "automargin": true,
           "gridcolor": "white",
           "linecolor": "white",
           "ticks": "",
           "title": {
            "standoff": 15
           },
           "zerolinecolor": "white",
           "zerolinewidth": 2
          },
          "yaxis": {
           "automargin": true,
           "gridcolor": "white",
           "linecolor": "white",
           "ticks": "",
           "title": {
            "standoff": 15
           },
           "zerolinecolor": "white",
           "zerolinewidth": 2
          }
         }
        },
        "title": {
         "text": "Total population by age groups and sex in 2018 (male only)"
        },
        "xaxis": {
         "autorange": true,
         "range": [
          -0.5,
          35.5
         ],
         "type": "category"
        },
        "yaxis": {
         "autorange": true,
         "range": [
          0,
          120856039.28066385
         ],
         "type": "linear"
        }
       }
      },
      "image/png": "[encoded data removed]",
      "text/html": [
       "<div>\n",
       "        \n",
       "        \n",
       "            <div id=\"6643b153-33ad-4051-8c8b-bbb910731664\" class=\"plotly-graph-div\" style=\"height:525px; width:100%;\"></div>\n",
       "            <script type=\"text/javascript\">\n",
       "                require([\"plotly\"], function(Plotly) {\n",
       "                    window.PLOTLYENV=window.PLOTLYENV || {};\n",
       "                    \n",
       "                if (document.getElementById(\"6643b153-33ad-4051-8c8b-bbb910731664\")) {\n",
       "                    Plotly.newPlot(\n",
       "                        '6643b153-33ad-4051-8c8b-bbb910731664',\n",
       "                        [{\"name\": \"male 80+\", \"type\": \"bar\", \"x\": [\"China\", \"US\", \"Japan\", \"Germany\", \"Italy\", \"France\", \"UK\", \"Spain\", \"Poland\", \"Turkey\", \"Romania\", \"Netherlands\", \"Greece\", \"Portugal\", \"Belgium\", \"Sweden\", \"Hungary\", \"Austria\", \"Czech Republic\", \"Switzerland\", \"Bulgaria\", \"Finland\", \"Serbia\", \"Denmark\", \"Croatia\", \"Lithuania\", \"Slovakia\", \"Ireland\", \"Latvia\", \"Syria\", \"Slovenia\", \"Bosnia and Herzegovina\", \"Estonia\", \"Cyprus\", \"Luxembourg\", \"Malta\"], \"y\": [9975601.989777599, 5018704.753637134, 3810605.9260512707, 2074602.3975122196, 1610699.718555655, 1481279.4523105784, 1358179.4757109291, 1073148.3878769872, 534405.5404591348, 510867.6107307631, 324336.1457610976, 312773.2459241035, 323255.00667158066, 239613.90248115483, 240881.2911948776, 208102.10751151008, 123889.200220613, 170529.21791896713, 148309.9166269674, 168044.01572590566, 118708.04609670701, 106669.3339894272, 107513.61469296896, 102890.22839639784, 71705.07411810246, 45150.03060040633, 54703.68245761948, 60154.46069785709, 27842.26672979121, 58534.735212358595, 35946.05908069747, 42815.00000000001, 19592.903487984466, 14673.03701371104, 9203.763592191242, 8210.834868129008]}, {\"name\": \"male 70-79\", \"type\": \"bar\", \"x\": [\"China\", \"US\", \"Japan\", \"Germany\", \"Italy\", \"France\", \"UK\", \"Spain\", \"Poland\", \"Turkey\", \"Romania\", \"Netherlands\", \"Greece\", \"Portugal\", \"Belgium\", \"Sweden\", \"Hungary\", \"Austria\", \"Czech Republic\", \"Switzerland\", \"Bulgaria\", \"Finland\", \"Serbia\", \"Denmark\", \"Croatia\", \"Lithuania\", \"Slovakia\", \"Ireland\", \"Latvia\", \"Syria\", \"Slovenia\", \"Bosnia and Herzegovina\", \"Estonia\", \"Cyprus\", \"Luxembourg\", \"Malta\"], \"y\": [29357604.682558022, 9998179.973401805, 7005423.627368353, 3553428.4388854075, 2661863.284599848, 2425738.5540931257, 2566225.729274254, 1732844.4696045108, 1045902.7212874122, 1350152.970510328, 583825.428721565, 706183.8730113201, 431804.62209848006, 425578.3827213844, 399332.395547884, 460244.0983595462, 308776.0600631345, 351520.9920066432, 399968.9353514201, 330787.67687817, 270122.53911035915, 240041.72211926116, 229869.0560178926, 260203.85033303304, 142224.57449426863, 81469.21710367092, 142239.1638162874, 144664.61374430492, 57084.13933286693, 147435.81723348075, 74337.73965221512, 96501.00000000013, 38797.40359948088, 33945.08562873446, 16630.3388697281, 20880.992976744725]}, {\"name\": \"male 60-69\", \"type\": \"bar\", \"x\": [\"China\", \"US\", \"Japan\", \"Germany\", \"Italy\", \"France\", \"UK\", \"Spain\", \"Poland\", \"Turkey\", \"Romania\", \"Netherlands\", \"Greece\", \"Portugal\", \"Belgium\", \"Sweden\", \"Hungary\", \"Austria\", \"Czech Republic\", \"Switzerland\", \"Bulgaria\", \"Finland\", \"Serbia\", \"Denmark\", \"Croatia\", \"Lithuania\", \"Slovakia\", \"Ireland\", \"Latvia\", \"Syria\", \"Slovenia\", \"Bosnia and Herzegovina\", \"Estonia\", \"Cyprus\", \"Luxembourg\", \"Malta\"], \"y\": [70322486.8509568, 17819990.506071545, 8237806.785432688, 4855863.42459005, 3500706.5086293053, 3807627.406673822, 3478087.4684116505, 2446222.0366342724, 2332802.9081746447, 2574189.142470263, 1151284.8965802002, 1051761.5388692322, 588983.4375576156, 588794.2888998179, 644055.4682351259, 561370.9038617566, 587255.0560623113, 463888.7457573251, 643468.6571337839, 462284.61902110575, 429375.46273829637, 354048.0262322809, 434801.59068680997, 330037.697727677, 257648.29527041045, 138285.163197764, 308441.90483946825, 231555.84518751342, 97755.62706531258, 348270.1509458622, 136012.57258609444, 208583.00000000015, 68885.18598275167, 55764.14066875087, 29504.142167733586, 31731.535850474105]}, {\"name\": \"male 50-59\", \"type\": \"bar\", \"x\": [\"China\", \"US\", \"Japan\", \"Germany\", \"Italy\", \"France\", \"UK\", \"Spain\", \"Poland\", \"Turkey\", \"Romania\", \"Netherlands\", \"Greece\", \"Portugal\", \"Belgium\", \"Sweden\", \"Hungary\", \"Austria\", \"Czech Republic\", \"Switzerland\", \"Bulgaria\", \"Finland\", \"Serbia\", \"Denmark\", \"Croatia\", \"Lithuania\", \"Slovakia\", \"Ireland\", \"Latvia\", \"Syria\", \"Slovenia\", \"Bosnia and Herzegovina\", \"Estonia\", \"Cyprus\", \"Luxembourg\", \"Malta\"], \"y\": [101649268.37458935, 21416330.842916597, 7997210.671548182, 6762293.293299428, 4540925.573007735, 4312608.710185883, 4416542.15871589, 3394450.8483886104, 2344655.6858362313, 4030606.8229618883, 1205601.1575884682, 1275994.7685676534, 730684.8769068648, 694720.7202893626, 806191.1812488573, 652889.1003827867, 574591.6138667808, 691226.210879343, 663652.7054911365, 651034.5807708398, 471340.80056384276, 366535.7632069042, 432799.62561524863, 401928.62401812465, 285831.4984552765, 201060.0370182098, 352116.747949805, 287418.5228698895, 127599.89962669711, 581965.1101837218, 152001.6439276248, 249494.00000000023, 81968.0894329408, 71343.17996791286, 45039.20199124857, 30839.891361509843]}, {\"name\": \"male 40-49\", \"type\": \"bar\", \"x\": [\"China\", \"US\", \"Japan\", \"Germany\", \"Italy\", \"France\", \"UK\", \"Spain\", \"Poland\", \"Turkey\", \"Romania\", \"Netherlands\", \"Greece\", \"Portugal\", \"Belgium\", \"Sweden\", \"Hungary\", \"Austria\", \"Czech Republic\", \"Switzerland\", \"Bulgaria\", \"Finland\", \"Serbia\", \"Denmark\", \"Croatia\", \"Lithuania\", \"Slovakia\", \"Ireland\", \"Latvia\", \"Syria\", \"Slovenia\", \"Bosnia and Herzegovina\", \"Estonia\", \"Cyprus\", \"Luxembourg\", \"Malta\"], \"y\": [114813237.31663066, 20114577.663523078, 9567748.964059496, 5353221.973757961, 4660487.774720659, 4337378.02513702, 4262981.581090946, 4018048.067530324, 2651096.3078616033, 5377852.512737015, 1579562.3150383139, 1141811.5805829696, 816900.8251798756, 767006.4897808074, 777508.1342393175, 670404.9746781626, 786681.1254440126, 607517.8014298793, 884581.3611538464, 601536.3015626796, 540206.2297273956, 333210.15180391073, 481256.8570403239, 386942.486780638, 274280.7634093583, 181749.28727398667, 417840.27966738446, 361677.1463384061, 126530.96437729351, 850877.2894786096, 157792.3343574758, 228351.0000000002, 91907.82108574033, 78237.19735852987, 48568.434473490845, 32188.366051610123]}, {\"name\": \"male 30-39\", \"type\": \"bar\", \"x\": [\"China\", \"US\", \"Japan\", \"Germany\", \"Italy\", \"France\", \"UK\", \"Spain\", \"Poland\", \"Turkey\", \"Romania\", \"Netherlands\", \"Greece\", \"Portugal\", \"Belgium\", \"Sweden\", \"Hungary\", \"Austria\", \"Czech Republic\", \"Switzerland\", \"Bulgaria\", \"Finland\", \"Serbia\", \"Denmark\", \"Croatia\", \"Lithuania\", \"Slovakia\", \"Ireland\", \"Latvia\", \"Syria\", \"Slovenia\", \"Bosnia and Herzegovina\", \"Estonia\", \"Cyprus\", \"Luxembourg\", \"Malta\"], \"y\": [108192548.71507385, 21824037.534179546, 7647630.315235132, 5412009.681043111, 3616607.5851493003, 4040720.358678571, 4487278.775041161, 3224391.4332847865, 3196966.0431574243, 6335757.525869841, 1370158.2833784898, 1046567.8592307182, 746869.801862036, 630488.980588702, 742185.032475367, 658565.0116079322, 673210.2832216776, 604342.7166239496, 794924.7349015474, 602856.8949939563, 508442.1078023317, 362438.13083909085, 490217.3163958818, 335187.95405181125, 280232.24520601577, 172280.12889332353, 447216.8883408951, 354960.9742785077, 133395.12708631385, 1388330.4993953397, 154208.47406051302, 241855.0000000003, 97762.82725470237, 93898.23686454291, 47234.788913088116, 37101.217106236705]}, {\"name\": \"male 20-29\", \"type\": \"bar\", \"x\": [\"China\", \"US\", \"Japan\", \"Germany\", \"Italy\", \"France\", \"UK\", \"Spain\", \"Poland\", \"Turkey\", \"Romania\", \"Netherlands\", \"Greece\", \"Portugal\", \"Belgium\", \"Sweden\", \"Hungary\", \"Austria\", \"Czech Republic\", \"Switzerland\", \"Bulgaria\", \"Finland\", \"Serbia\", \"Denmark\", \"Croatia\", \"Lithuania\", \"Slovakia\", \"Ireland\", \"Latvia\", \"Syria\", \"Slovenia\", \"Bosnia and Herzegovina\", \"Estonia\", \"Cyprus\", \"Luxembourg\", \"Malta\"], \"y\": [103639222.30352017, 23559201.996534046, 6318147.691936742, 4909772.690946183, 3166343.0118373404, 3849687.107306186, 4365353.649042643, 2390522.217143935, 2463417.813949599, 6572626.924092163, 1190408.2586430616, 1089522.2765755388, 574254.3912062861, 534161.4209002717, 709942.7171645112, 696520.4978448866, 617448.4698921515, 576858.4820550418, 607315.6990469148, 534667.5237338924, 393372.8705801937, 349261.9596529526, 465930.402572108, 397964.6400410562, 244679.79112728868, 187852.60746697054, 360695.28905246407, 281506.11585255235, 115893.56013836931, 1583342.1888714237, 111587.20156162484, 213021.00000000015, 82734.91152328232, 104563.26376778209, 42978.387697685066, 33476.29698011408]}, {\"name\": \"male 10-19\", \"type\": \"bar\", \"x\": [\"China\", \"US\", \"Japan\", \"Germany\", \"Italy\", \"France\", \"UK\", \"Spain\", \"Poland\", \"Turkey\", \"Romania\", \"Netherlands\", \"Greece\", \"Portugal\", \"Belgium\", \"Sweden\", \"Hungary\", \"Austria\", \"Czech Republic\", \"Switzerland\", \"Bulgaria\", \"Finland\", \"Serbia\", \"Denmark\", \"Croatia\", \"Lithuania\", \"Slovakia\", \"Ireland\", \"Latvia\", \"Syria\", \"Slovenia\", \"Bosnia and Herzegovina\", \"Estonia\", \"Cyprus\", \"Luxembourg\", \"Malta\"], \"y\": [87214791.92396946, 21630429.4172637, 5827353.542987733, 4130923.111992885, 2951839.7500914526, 4124997.460629391, 3792844.66471492, 2375153.0576025527, 1873618.1893975157, 6923064.225476894, 1059570.4232907533, 1031530.227480779, 559150.160452846, 531802.5545699613, 655418.6660567946, 566332.9860213433, 503394.9724702605, 448917.7880669414, 511786.1722483866, 427125.06758340256, 335712.741452236, 306099.4327022583, 417409.717420517, 352122.31936650944, 209986.2630873253, 131511.6627975883, 276828.7622198868, 326339.68674790295, 92123.23740537134, 1691350.4435740602, 97573.1337429903, 184388.00000000023, 66721.50958982181, 74250.18730103206, 34267.449387995584, 23624.175774891595]}, {\"name\": \"male 0-9\", \"type\": \"bar\", \"x\": [\"China\", \"US\", \"Japan\", \"Germany\", \"Italy\", \"France\", \"UK\", \"Spain\", \"Poland\", \"Turkey\", \"Romania\", \"Netherlands\", \"Greece\", \"Portugal\", \"Belgium\", \"Sweden\", \"Hungary\", \"Austria\", \"Czech Republic\", \"Switzerland\", \"Bulgaria\", \"Finland\", \"Serbia\", \"Denmark\", \"Croatia\", \"Lithuania\", \"Slovakia\", \"Ireland\", \"Latvia\", \"Syria\", \"Slovenia\", \"Bosnia and Herzegovina\", \"Estonia\", \"Cyprus\", \"Luxembourg\", \"Malta\"], \"y\": [89592992.92784467, 20500945.712843347, 5385822.332652443, 3864217.0504218307, 2674229.1760083586, 4052345.8883416695, 4094614.352469999, 2288149.5452980283, 1965068.353031867, 6926770.308587417, 1010541.4268911644, 921292.3065498171, 493643.77946263156, 449876.8111591512, 667749.7699872332, 622679.5275396304, 471527.05388729274, 435336.862803346, 572921.1242448791, 443558.56420816167, 345498.57730872795, 300948.66585122736, 361246.82408172655, 315548.4443195052, 202350.38108635665, 149630.4278345181, 290523.6619075276, 357823.5059213138, 107788.63333611615, 1834445.2181289757, 109157.49949466655, 163367.00000000023, 74314.8455234774, 68302.1722967689, 33237.54512415515, 24324.28181807835]}],\n",
       "                        {\"barmode\": \"group\", \"template\": {\"data\": {\"bar\": [{\"error_x\": {\"color\": \"#2a3f5f\"}, \"error_y\": {\"color\": \"#2a3f5f\"}, \"marker\": {\"line\": {\"color\": \"#E5ECF6\", \"width\": 0.5}}, \"type\": \"bar\"}], \"barpolar\": [{\"marker\": {\"line\": {\"color\": \"#E5ECF6\", \"width\": 0.5}}, \"type\": \"barpolar\"}], \"carpet\": [{\"aaxis\": {\"endlinecolor\": \"#2a3f5f\", \"gridcolor\": \"white\", \"linecolor\": \"white\", \"minorgridcolor\": \"white\", \"startlinecolor\": \"#2a3f5f\"}, \"baxis\": {\"endlinecolor\": \"#2a3f5f\", \"gridcolor\": \"white\", \"linecolor\": \"white\", \"minorgridcolor\": \"white\", \"startlinecolor\": \"#2a3f5f\"}, \"type\": \"carpet\"}], \"choropleth\": [{\"colorbar\": {\"outlinewidth\": 0, \"ticks\": \"\"}, \"type\": \"choropleth\"}], \"contour\": [{\"colorbar\": {\"outlinewidth\": 0, \"ticks\": \"\"}, \"colorscale\": [[0.0, \"#0d0887\"], [0.1111111111111111, \"#46039f\"], [0.2222222222222222, \"#7201a8\"], [0.3333333333333333, \"#9c179e\"], [0.4444444444444444, \"#bd3786\"], [0.5555555555555556, \"#d8576b\"], [0.6666666666666666, \"#ed7953\"], [0.7777777777777778, \"#fb9f3a\"], [0.8888888888888888, \"#fdca26\"], [1.0, \"#f0f921\"]], \"type\": \"contour\"}], \"contourcarpet\": [{\"colorbar\": {\"outlinewidth\": 0, \"ticks\": \"\"}, \"type\": \"contourcarpet\"}], \"heatmap\": [{\"colorbar\": {\"outlinewidth\": 0, \"ticks\": \"\"}, \"colorscale\": [[0.0, \"#0d0887\"], [0.1111111111111111, \"#46039f\"], [0.2222222222222222, \"#7201a8\"], [0.3333333333333333, \"#9c179e\"], [0.4444444444444444, \"#bd3786\"], [0.5555555555555556, \"#d8576b\"], [0.6666666666666666, \"#ed7953\"], [0.7777777777777778, \"#fb9f3a\"], [0.8888888888888888, \"#fdca26\"], [1.0, \"#f0f921\"]], \"type\": \"heatmap\"}], \"heatmapgl\": [{\"colorbar\": {\"outlinewidth\": 0, \"ticks\": \"\"}, \"colorscale\": [[0.0, \"#0d0887\"], [0.1111111111111111, \"#46039f\"], [0.2222222222222222, \"#7201a8\"], [0.3333333333333333, \"#9c179e\"], [0.4444444444444444, \"#bd3786\"], [0.5555555555555556, \"#d8576b\"], [0.6666666666666666, \"#ed7953\"], [0.7777777777777778, \"#fb9f3a\"], [0.8888888888888888, \"#fdca26\"], [1.0, \"#f0f921\"]], \"type\": \"heatmapgl\"}], \"histogram\": [{\"marker\": {\"colorbar\": {\"outlinewidth\": 0, \"ticks\": \"\"}}, \"type\": \"histogram\"}], \"histogram2d\": [{\"colorbar\": {\"outlinewidth\": 0, \"ticks\": \"\"}, \"colorscale\": [[0.0, \"#0d0887\"], [0.1111111111111111, \"#46039f\"], [0.2222222222222222, \"#7201a8\"], [0.3333333333333333, \"#9c179e\"], [0.4444444444444444, \"#bd3786\"], [0.5555555555555556, \"#d8576b\"], [0.6666666666666666, \"#ed7953\"], [0.7777777777777778, \"#fb9f3a\"], [0.8888888888888888, \"#fdca26\"], [1.0, \"#f0f921\"]], \"type\": \"histogram2d\"}], \"histogram2dcontour\": [{\"colorbar\": {\"outlinewidth\": 0, \"ticks\": \"\"}, \"colorscale\": [[0.0, \"#0d0887\"], [0.1111111111111111, \"#46039f\"], [0.2222222222222222, \"#7201a8\"], [0.3333333333333333, \"#9c179e\"], [0.4444444444444444, \"#bd3786\"], [0.5555555555555556, \"#d8576b\"], [0.6666666666666666, \"#ed7953\"], [0.7777777777777778, \"#fb9f3a\"], [0.8888888888888888, \"#fdca26\"], [1.0, \"#f0f921\"]], \"type\": \"histogram2dcontour\"}], \"mesh3d\": [{\"colorbar\": {\"outlinewidth\": 0, \"ticks\": \"\"}, \"type\": \"mesh3d\"}], \"parcoords\": [{\"line\": {\"colorbar\": {\"outlinewidth\": 0, \"ticks\": \"\"}}, \"type\": \"parcoords\"}], \"pie\": [{\"automargin\": true, \"type\": \"pie\"}], \"scatter\": [{\"marker\": {\"colorbar\": {\"outlinewidth\": 0, \"ticks\": \"\"}}, \"type\": \"scatter\"}], \"scatter3d\": [{\"line\": {\"colorbar\": {\"outlinewidth\": 0, \"ticks\": \"\"}}, \"marker\": {\"colorbar\": {\"outlinewidth\": 0, \"ticks\": \"\"}}, \"type\": \"scatter3d\"}], \"scattercarpet\": [{\"marker\": {\"colorbar\": {\"outlinewidth\": 0, \"ticks\": \"\"}}, \"type\": \"scattercarpet\"}], \"scattergeo\": [{\"marker\": {\"colorbar\": {\"outlinewidth\": 0, \"ticks\": \"\"}}, \"type\": \"scattergeo\"}], \"scattergl\": [{\"marker\": {\"colorbar\": {\"outlinewidth\": 0, \"ticks\": \"\"}}, \"type\": \"scattergl\"}], \"scattermapbox\": [{\"marker\": {\"colorbar\": {\"outlinewidth\": 0, \"ticks\": \"\"}}, \"type\": \"scattermapbox\"}], \"scatterpolar\": [{\"marker\": {\"colorbar\": {\"outlinewidth\": 0, \"ticks\": \"\"}}, \"type\": \"scatterpolar\"}], \"scatterpolargl\": [{\"marker\": {\"colorbar\": {\"outlinewidth\": 0, \"ticks\": \"\"}}, \"type\": \"scatterpolargl\"}], \"scatterternary\": [{\"marker\": {\"colorbar\": {\"outlinewidth\": 0, \"ticks\": \"\"}}, \"type\": \"scatterternary\"}], \"surface\": [{\"colorbar\": {\"outlinewidth\": 0, \"ticks\": \"\"}, \"colorscale\": [[0.0, \"#0d0887\"], [0.1111111111111111, \"#46039f\"], [0.2222222222222222, \"#7201a8\"], [0.3333333333333333, \"#9c179e\"], [0.4444444444444444, \"#bd3786\"], [0.5555555555555556, \"#d8576b\"], [0.6666666666666666, \"#ed7953\"], [0.7777777777777778, \"#fb9f3a\"], [0.8888888888888888, \"#fdca26\"], [1.0, \"#f0f921\"]], \"type\": \"surface\"}], \"table\": [{\"cells\": {\"fill\": {\"color\": \"#EBF0F8\"}, \"line\": {\"color\": \"white\"}}, \"header\": {\"fill\": {\"color\": \"#C8D4E3\"}, \"line\": {\"color\": \"white\"}}, \"type\": \"table\"}]}, \"layout\": {\"annotationdefaults\": {\"arrowcolor\": \"#2a3f5f\", \"arrowhead\": 0, \"arrowwidth\": 1}, \"coloraxis\": {\"colorbar\": {\"outlinewidth\": 0, \"ticks\": \"\"}}, \"colorscale\": {\"diverging\": [[0, \"#8e0152\"], [0.1, \"#c51b7d\"], [0.2, \"#de77ae\"], [0.3, \"#f1b6da\"], [0.4, \"#fde0ef\"], [0.5, \"#f7f7f7\"], [0.6, \"#e6f5d0\"], [0.7, \"#b8e186\"], [0.8, \"#7fbc41\"], [0.9, \"#4d9221\"], [1, \"#276419\"]], \"sequential\": [[0.0, \"#0d0887\"], [0.1111111111111111, \"#46039f\"], [0.2222222222222222, \"#7201a8\"], [0.3333333333333333, \"#9c179e\"], [0.4444444444444444, \"#bd3786\"], [0.5555555555555556, \"#d8576b\"], [0.6666666666666666, \"#ed7953\"], [0.7777777777777778, \"#fb9f3a\"], [0.8888888888888888, \"#fdca26\"], [1.0, \"#f0f921\"]], \"sequentialminus\": [[0.0, \"#0d0887\"], [0.1111111111111111, \"#46039f\"], [0.2222222222222222, \"#7201a8\"], [0.3333333333333333, \"#9c179e\"], [0.4444444444444444, \"#bd3786\"], [0.5555555555555556, \"#d8576b\"], [0.6666666666666666, \"#ed7953\"], [0.7777777777777778, \"#fb9f3a\"], [0.8888888888888888, \"#fdca26\"], [1.0, \"#f0f921\"]]}, \"colorway\": [\"#636efa\", \"#EF553B\", \"#00cc96\", \"#ab63fa\", \"#FFA15A\", \"#19d3f3\", \"#FF6692\", \"#B6E880\", \"#FF97FF\", \"#FECB52\"], \"font\": {\"color\": \"#2a3f5f\"}, \"geo\": {\"bgcolor\": \"white\", \"lakecolor\": \"white\", \"landcolor\": \"#E5ECF6\", \"showlakes\": true, \"showland\": true, \"subunitcolor\": \"white\"}, \"hoverlabel\": {\"align\": \"left\"}, \"hovermode\": \"closest\", \"mapbox\": {\"style\": \"light\"}, \"paper_bgcolor\": \"white\", \"plot_bgcolor\": \"#E5ECF6\", \"polar\": {\"angularaxis\": {\"gridcolor\": \"white\", \"linecolor\": \"white\", \"ticks\": \"\"}, \"bgcolor\": \"#E5ECF6\", \"radialaxis\": {\"gridcolor\": \"white\", \"linecolor\": \"white\", \"ticks\": \"\"}}, \"scene\": {\"xaxis\": {\"backgroundcolor\": \"#E5ECF6\", \"gridcolor\": \"white\", \"gridwidth\": 2, \"linecolor\": \"white\", \"showbackground\": true, \"ticks\": \"\", \"zerolinecolor\": \"white\"}, \"yaxis\": {\"backgroundcolor\": \"#E5ECF6\", \"gridcolor\": \"white\", \"gridwidth\": 2, \"linecolor\": \"white\", \"showbackground\": true, \"ticks\": \"\", \"zerolinecolor\": \"white\"}, \"zaxis\": {\"backgroundcolor\": \"#E5ECF6\", \"gridcolor\": \"white\", \"gridwidth\": 2, \"linecolor\": \"white\", \"showbackground\": true, \"ticks\": \"\", \"zerolinecolor\": \"white\"}}, \"shapedefaults\": {\"line\": {\"color\": \"#2a3f5f\"}}, \"ternary\": {\"aaxis\": {\"gridcolor\": \"white\", \"linecolor\": \"white\", \"ticks\": \"\"}, \"baxis\": {\"gridcolor\": \"white\", \"linecolor\": \"white\", \"ticks\": \"\"}, \"bgcolor\": \"#E5ECF6\", \"caxis\": {\"gridcolor\": \"white\", \"linecolor\": \"white\", \"ticks\": \"\"}}, \"title\": {\"x\": 0.05}, \"xaxis\": {\"automargin\": true, \"gridcolor\": \"white\", \"linecolor\": \"white\", \"ticks\": \"\", \"title\": {\"standoff\": 15}, \"zerolinecolor\": \"white\", \"zerolinewidth\": 2}, \"yaxis\": {\"automargin\": true, \"gridcolor\": \"white\", \"linecolor\": \"white\", \"ticks\": \"\", \"title\": {\"standoff\": 15}, \"zerolinecolor\": \"white\", \"zerolinewidth\": 2}}}, \"title\": {\"text\": \"Total population by age groups and sex in 2018 (male only)\"}},\n",
       "                        {\"responsive\": true}\n",
       "                    ).then(function(){\n",
       "                            \n",
       "var gd = document.getElementById('6643b153-33ad-4051-8c8b-bbb910731664');\n",
       "var x = new MutationObserver(function (mutations, observer) {{\n",
       "        var display = window.getComputedStyle(gd).display;\n",
       "        if (!display || display === 'none') {{\n",
       "            console.log([gd, 'removed!']);\n",
       "            Plotly.purge(gd);\n",
       "            observer.disconnect();\n",
       "        }}\n",
       "}});\n",
       "\n",
       "// Listen for the removal of the full notebook cells\n",
       "var notebookContainer = gd.closest('#notebook-container');\n",
       "if (notebookContainer) {{\n",
       "    x.observe(notebookContainer, {childList: true});\n",
       "}}\n",
       "\n",
       "// Listen for the clearing of the current output cell\n",
       "var outputEl = gd.closest('.output');\n",
       "if (outputEl) {{\n",
       "    x.observe(outputEl, {childList: true});\n",
       "}}\n",
       "\n",
       "                        })\n",
       "                };\n",
       "                });\n",
       "            </script>\n",
       "        </div>"
      ]
     },
     "metadata": {},
     "output_type": "display_data"
    },
    {
     "data": {
      "application/vnd.plotly.v1+json": {
       "config": {
        "plotlyServerURL": "https://plot.ly"
       },
       "data": [
        {
         "name": "female 80+",
         "type": "bar",
         "x": [
          "China",
          "US",
          "Japan",
          "Germany",
          "Italy",
          "France",
          "UK",
          "Spain",
          "Poland",
          "Turkey",
          "Romania",
          "Netherlands",
          "Greece",
          "Portugal",
          "Belgium",
          "Sweden",
          "Hungary",
          "Austria",
          "Czech Republic",
          "Switzerland",
          "Bulgaria",
          "Finland",
          "Serbia",
          "Denmark",
          "Croatia",
          "Lithuania",
          "Slovakia",
          "Ireland",
          "Latvia",
          "Syria",
          "Slovenia",
          "Bosnia and Herzegovina",
          "Estonia",
          "Cyprus",
          "Luxembourg",
          "Malta"
         ],
         "y": [
          14779200.706631681,
          7685738.932071125,
          6833327.119838092,
          3438147.587533258,
          2752449.469607526,
          2639703.3405257696,
          1992546.2352169077,
          1820883.6665320771,
          1178758.9888204306,
          874707.5962751092,
          599310.8443834266,
          497478.1495522747,
          458641.521600526,
          420217.04947255296,
          411520.253353283,
          318512.7757247309,
          300994.242000671,
          294720.7049033874,
          288627.9065055305,
          271355.9777905732,
          215466.69346603137,
          192803.54473493833,
          174331.18188527846,
          159306.19664364398,
          158734.05780521492,
          122614.09942276185,
          122507.91994101611,
          86579.99911469799,
          83119.20618773215,
          76192.23310372073,
          74124.81735805898,
          70248.00000000001,
          55518.718113738396,
          22441.05660905671,
          15191.087891646424,
          13909.65402784259
         ]
        },
        {
         "name": "female 70-79",
         "type": "bar",
         "x": [
          "China",
          "US",
          "Japan",
          "Germany",
          "Italy",
          "France",
          "UK",
          "Spain",
          "Poland",
          "Turkey",
          "Romania",
          "Netherlands",
          "Greece",
          "Portugal",
          "Belgium",
          "Sweden",
          "Hungary",
          "Austria",
          "Czech Republic",
          "Switzerland",
          "Bulgaria",
          "Finland",
          "Serbia",
          "Denmark",
          "Croatia",
          "Lithuania",
          "Slovakia",
          "Ireland",
          "Latvia",
          "Syria",
          "Slovenia",
          "Bosnia and Herzegovina",
          "Estonia",
          "Cyprus",
          "Luxembourg",
          "Malta"
         ],
         "y": [
          32651877.421035234,
          11974062.800891027,
          8259862.45707091,
          4213921.4541380545,
          3171805.2950002216,
          2918134.7244208185,
          2865564.282184814,
          2082457.575854126,
          1557872.6111191816,
          1745661.1213120108,
          875125.1558335302,
          765074.8670454572,
          516160.96072624816,
          554889.9713090395,
          476058.6012718839,
          491241.0277256571,
          501583.6091555791,
          430428.4662669459,
          535684.2449036763,
          376703.7714837899,
          401231.2234987472,
          286008.94403617154,
          302087.3285082453,
          285836.20235561405,
          206514.1554231817,
          152379.85956119894,
          221639.61504686315,
          155771.27680736742,
          112393.04694779935,
          175329.8349782375,
          94056.93099744151,
          137283,
          70829.19979771909,
          39450.099515497874,
          19086.419155175725,
          23811.311038007523
         ]
        },
        {
         "name": "female 60-69",
         "type": "bar",
         "x": [
          "China",
          "US",
          "Japan",
          "Germany",
          "Italy",
          "France",
          "UK",
          "Spain",
          "Poland",
          "Turkey",
          "Romania",
          "Netherlands",
          "Greece",
          "Portugal",
          "Belgium",
          "Sweden",
          "Hungary",
          "Austria",
          "Czech Republic",
          "Switzerland",
          "Bulgaria",
          "Finland",
          "Serbia",
          "Denmark",
          "Croatia",
          "Lithuania",
          "Slovakia",
          "Ireland",
          "Latvia",
          "Syria",
          "Slovenia",
          "Bosnia and Herzegovina",
          "Estonia",
          "Cyprus",
          "Luxembourg",
          "Malta"
         ],
         "y": [
          71147916.12531962,
          19336397.38057137,
          8526836.25103939,
          5175150.898759262,
          3819152.6331898984,
          4208214.978885409,
          3630337.906973742,
          2637257.317504515,
          2773893.488040757,
          3158367.6160042584,
          1401411.6479129873,
          1068456.6634793046,
          666734.287758011,
          688252.6346271597,
          676702.6528021675,
          569745.8855021694,
          745956.6465652031,
          501970.8581914641,
          718728.457975812,
          473091.1089905075,
          519150.3463464372,
          377900.42318044894,
          499946.359013857,
          342461.80921644537,
          288596.1973887544,
          193864.313129402,
          367528.7543160053,
          239243.9887587802,
          138201.33968900604,
          380736.6804340993,
          138288.055234388,
          233085.9999999998,
          92549.83489314863,
          58470.14749483294,
          29052.55328642073,
          32415.12995868002
         ]
        },
        {
         "name": "female 50-59",
         "type": "bar",
         "x": [
          "China",
          "US",
          "Japan",
          "Germany",
          "Italy",
          "France",
          "UK",
          "Spain",
          "Poland",
          "Turkey",
          "Romania",
          "Netherlands",
          "Greece",
          "Portugal",
          "Belgium",
          "Sweden",
          "Hungary",
          "Austria",
          "Czech Republic",
          "Switzerland",
          "Bulgaria",
          "Finland",
          "Serbia",
          "Denmark",
          "Croatia",
          "Lithuania",
          "Slovakia",
          "Ireland",
          "Latvia",
          "Syria",
          "Slovenia",
          "Bosnia and Herzegovina",
          "Estonia",
          "Cyprus",
          "Luxembourg",
          "Malta"
         ],
         "y": [
          99173807.81089133,
          21573421.015830882,
          7888484.058621953,
          6731160.060973884,
          4739461.6241722265,
          4514022.377307631,
          4551421.1237779865,
          3452675.3367716335,
          2454189.973360344,
          4378310.800574254,
          1255540.6497061686,
          1255077.6328939905,
          771967.3954129944,
          774740.7242637423,
          786615.2055916201,
          636037.0156333514,
          622624.943720331,
          690079.9565087899,
          656113.0767661395,
          637621.8666999227,
          479411.3260228518,
          367537.9395699659,
          456517.83541512786,
          398709.46184605337,
          300384.0471830598,
          233076.32801586404,
          369992.03824231616,
          292178.6652146827,
          147894.6842917747,
          617532.526972578,
          148949.09440206044,
          266272.9999999997,
          89724.17536754122,
          71842.18122667672,
          41766.43980908373,
          30376.45638638147
         ]
        },
        {
         "name": "female 40-49",
         "type": "bar",
         "x": [
          "China",
          "US",
          "Japan",
          "Germany",
          "Italy",
          "France",
          "UK",
          "Spain",
          "Poland",
          "Turkey",
          "Romania",
          "Netherlands",
          "Greece",
          "Portugal",
          "Belgium",
          "Sweden",
          "Hungary",
          "Austria",
          "Czech Republic",
          "Switzerland",
          "Bulgaria",
          "Finland",
          "Serbia",
          "Denmark",
          "Croatia",
          "Lithuania",
          "Slovakia",
          "Ireland",
          "Latvia",
          "Syria",
          "Slovenia",
          "Bosnia and Herzegovina",
          "Estonia",
          "Cyprus",
          "Luxembourg",
          "Malta"
         ],
         "y": [
          110220136.11748739,
          20220888.79011943,
          9260454.660919761,
          5273859.017859293,
          4716025.638455896,
          4427422.024726375,
          4330614.663158489,
          3870119.281531074,
          2618696.712582349,
          5579775.556729948,
          1532848.493606157,
          1140874.2537248323,
          810633.8183326684,
          826391.1752073282,
          746023.829673459,
          650359.551605404,
          780265.8803711813,
          607633.222876913,
          841699.7227804251,
          593039.3516939656,
          512093.8661746753,
          320146.88782517606,
          487710.10102694156,
          385736.0568745741,
          271112.6742400346,
          193088.57705005212,
          403825.73243050586,
          372522.93829116394,
          132628.8903234238,
          894459.3226400117,
          143210.14209976137,
          223231.9999999997,
          89145.06493473116,
          82088.20707295786,
          44618.791852298076,
          30478.830383262535
         ]
        },
        {
         "name": "female 30-39",
         "type": "bar",
         "x": [
          "China",
          "US",
          "Japan",
          "Germany",
          "Italy",
          "France",
          "UK",
          "Spain",
          "Poland",
          "Turkey",
          "Romania",
          "Netherlands",
          "Greece",
          "Portugal",
          "Belgium",
          "Sweden",
          "Hungary",
          "Austria",
          "Czech Republic",
          "Switzerland",
          "Bulgaria",
          "Finland",
          "Serbia",
          "Denmark",
          "Croatia",
          "Lithuania",
          "Slovakia",
          "Ireland",
          "Latvia",
          "Syria",
          "Slovenia",
          "Bosnia and Herzegovina",
          "Estonia",
          "Cyprus",
          "Luxembourg",
          "Malta"
         ],
         "y": [
          102408097.41475384,
          21500912.242494762,
          7320060.868677662,
          5179579.405770289,
          3580547.5453713317,
          4179416.5660130833,
          4517357.508143926,
          3220956.16245298,
          2986168.8741681054,
          6335480.594383028,
          1283834.9031568058,
          1026741.5780902331,
          711780.8845592254,
          668296.0039269936,
          742886.3416292019,
          630511.222967057,
          657513.8137870071,
          592587.6392509461,
          749326.3196342216,
          595791.4204558169,
          472121.7548911526,
          342107.8392546242,
          475448.46154941944,
          329115.48940349254,
          271050.689886722,
          164534.71782120236,
          425827.47280395415,
          374070.03491443984,
          128876.62789654556,
          1391008.3570256045,
          140495.88033126766,
          233238.9999999997,
          91204.90083626058,
          94019.2371697742,
          46761.0731823568,
          34347.02635143595
         ]
        },
        {
         "name": "female 20-29",
         "type": "bar",
         "x": [
          "China",
          "US",
          "Japan",
          "Germany",
          "Italy",
          "France",
          "UK",
          "Spain",
          "Poland",
          "Turkey",
          "Romania",
          "Netherlands",
          "Greece",
          "Portugal",
          "Belgium",
          "Sweden",
          "Hungary",
          "Austria",
          "Czech Republic",
          "Switzerland",
          "Bulgaria",
          "Finland",
          "Serbia",
          "Denmark",
          "Croatia",
          "Lithuania",
          "Slovakia",
          "Ireland",
          "Latvia",
          "Syria",
          "Slovenia",
          "Bosnia and Herzegovina",
          "Estonia",
          "Cyprus",
          "Luxembourg",
          "Malta"
         ],
         "y": [
          93755619.75253403,
          22646695.49266828,
          6009961.135269766,
          4528367.399916968,
          2984831.741041822,
          3845014.8379593613,
          4239325.797316696,
          2303383.61554075,
          2340421.334847369,
          6397160.334740124,
          1093781.9005585427,
          1048289.9953224477,
          529961.2217777884,
          548177.2773235919,
          685461.5564894465,
          663549.5604906114,
          588754.4623616867,
          547159.3497180353,
          580030.3724718326,
          518200.06328412215,
          369184.20485307585,
          333119.22653069143,
          437177.9327448122,
          378873.4159135111,
          234535.0186350858,
          174491.82315806756,
          344434.2188836014,
          273019.24336054554,
          109011.41534104144,
          1504606.7891881426,
          105062.22770613259,
          201609.9999999997,
          75832.51424394498,
          92865.23425872513,
          40493.140201640395,
          30794.758739228906
         ]
        },
        {
         "name": "female 10-19",
         "type": "bar",
         "x": [
          "China",
          "US",
          "Japan",
          "Germany",
          "Italy",
          "France",
          "UK",
          "Spain",
          "Poland",
          "Turkey",
          "Romania",
          "Netherlands",
          "Greece",
          "Portugal",
          "Belgium",
          "Sweden",
          "Hungary",
          "Austria",
          "Czech Republic",
          "Switzerland",
          "Bulgaria",
          "Finland",
          "Serbia",
          "Denmark",
          "Croatia",
          "Lithuania",
          "Slovakia",
          "Ireland",
          "Latvia",
          "Syria",
          "Slovenia",
          "Bosnia and Herzegovina",
          "Estonia",
          "Cyprus",
          "Luxembourg",
          "Malta"
         ],
         "y": [
          75561505.93885727,
          20744196.628901422,
          5527617.035054195,
          3823686.085263689,
          2763079.9896681197,
          3947883.0985708204,
          3634323.779783995,
          2241487.7002186365,
          1796198.0690467458,
          6632406.134642652,
          1001166.9150566664,
          977960.1794473603,
          533370.5061274006,
          512747.1651919152,
          622377.5546458941,
          536459.392809901,
          476662.2688844152,
          422756.920089034,
          486178.53261475416,
          408038.39686373307,
          315932.88165964955,
          291954.05805433507,
          390532.3052117515,
          335574.979184584,
          199188.1951887774,
          124808.86491555601,
          263309.6686843264,
          314155.2936152413,
          88126.21877652711,
          1620675.5549917144,
          91504.84835954328,
          175990.9999999998,
          63232.868465273204,
          68789.1735252619,
          32564.687748657834,
          22369.26871634925
         ]
        },
        {
         "name": "female 0-9",
         "type": "bar",
         "x": [
          "China",
          "US",
          "Japan",
          "Germany",
          "Italy",
          "France",
          "UK",
          "Spain",
          "Poland",
          "Turkey",
          "Romania",
          "Netherlands",
          "Greece",
          "Portugal",
          "Belgium",
          "Sweden",
          "Hungary",
          "Austria",
          "Czech Republic",
          "Switzerland",
          "Bulgaria",
          "Finland",
          "Serbia",
          "Denmark",
          "Croatia",
          "Lithuania",
          "Slovakia",
          "Ireland",
          "Latvia",
          "Syria",
          "Slovenia",
          "Bosnia and Herzegovina",
          "Estonia",
          "Cyprus",
          "Luxembourg",
          "Malta"
         ],
         "y": [
          78274083.62756895,
          19602722.316080898,
          5104746.556236183,
          3647718.0273362286,
          2520226.680893318,
          3875049.0882344795,
          3905391.8489710516,
          2151598.2802301887,
          1864414.3848592837,
          6615966.20190204,
          955627.1538926007,
          873626.0036519711,
          462870.502306923,
          426006.44728706323,
          631157.3483930741,
          589649.3597335635,
          447655.2980256917,
          409561.0646530463,
          542377.0601487254,
          420805.79825945635,
          326844.32770728954,
          287217.95041633584,
          337287.49012108846,
          299006.14352732926,
          190346.0779947683,
          141685.85473945743,
          277339.19940007484,
          339863.68828483415,
          100277.11544801791,
          1761190.2476420598,
          103063.34504744357,
          154591.99999999997,
          70161.22586746066,
          64323.16225945167,
          31529.754655404115,
          22649.97161102321
         ]
        },
        {
         "name": "male 80+",
         "type": "bar",
         "x": [
          "China",
          "US",
          "Japan",
          "Germany",
          "Italy",
          "France",
          "UK",
          "Spain",
          "Poland",
          "Turkey",
          "Romania",
          "Netherlands",
          "Greece",
          "Portugal",
          "Belgium",
          "Sweden",
          "Hungary",
          "Austria",
          "Czech Republic",
          "Switzerland",
          "Bulgaria",
          "Finland",
          "Serbia",
          "Denmark",
          "Croatia",
          "Lithuania",
          "Slovakia",
          "Ireland",
          "Latvia",
          "Syria",
          "Slovenia",
          "Bosnia and Herzegovina",
          "Estonia",
          "Cyprus",
          "Luxembourg",
          "Malta"
         ],
         "y": [
          9975601.989777599,
          5018704.753637134,
          3810605.9260512707,
          2074602.3975122196,
          1610699.718555655,
          1481279.4523105784,
          1358179.4757109291,
          1073148.3878769872,
          534405.5404591348,
          510867.6107307631,
          324336.1457610976,
          312773.2459241035,
          323255.00667158066,
          239613.90248115483,
          240881.2911948776,
          208102.10751151008,
          123889.200220613,
          170529.21791896713,
          148309.9166269674,
          168044.01572590566,
          118708.04609670701,
          106669.3339894272,
          107513.61469296896,
          102890.22839639784,
          71705.07411810246,
          45150.03060040633,
          54703.68245761948,
          60154.46069785709,
          27842.26672979121,
          58534.735212358595,
          35946.05908069747,
          42815.00000000001,
          19592.903487984466,
          14673.03701371104,
          9203.763592191242,
          8210.834868129008
         ]
        },
        {
         "name": "male 70-79",
         "type": "bar",
         "x": [
          "China",
          "US",
          "Japan",
          "Germany",
          "Italy",
          "France",
          "UK",
          "Spain",
          "Poland",
          "Turkey",
          "Romania",
          "Netherlands",
          "Greece",
          "Portugal",
          "Belgium",
          "Sweden",
          "Hungary",
          "Austria",
          "Czech Republic",
          "Switzerland",
          "Bulgaria",
          "Finland",
          "Serbia",
          "Denmark",
          "Croatia",
          "Lithuania",
          "Slovakia",
          "Ireland",
          "Latvia",
          "Syria",
          "Slovenia",
          "Bosnia and Herzegovina",
          "Estonia",
          "Cyprus",
          "Luxembourg",
          "Malta"
         ],
         "y": [
          29357604.682558022,
          9998179.973401805,
          7005423.627368353,
          3553428.4388854075,
          2661863.284599848,
          2425738.5540931257,
          2566225.729274254,
          1732844.4696045108,
          1045902.7212874122,
          1350152.970510328,
          583825.428721565,
          706183.8730113201,
          431804.62209848006,
          425578.3827213844,
          399332.395547884,
          460244.0983595462,
          308776.0600631345,
          351520.9920066432,
          399968.9353514201,
          330787.67687817,
          270122.53911035915,
          240041.72211926116,
          229869.0560178926,
          260203.85033303304,
          142224.57449426863,
          81469.21710367092,
          142239.1638162874,
          144664.61374430492,
          57084.13933286693,
          147435.81723348075,
          74337.73965221512,
          96501.00000000013,
          38797.40359948088,
          33945.08562873446,
          16630.3388697281,
          20880.992976744725
         ]
        },
        {
         "name": "male 60-69",
         "type": "bar",
         "x": [
          "China",
          "US",
          "Japan",
          "Germany",
          "Italy",
          "France",
          "UK",
          "Spain",
          "Poland",
          "Turkey",
          "Romania",
          "Netherlands",
          "Greece",
          "Portugal",
          "Belgium",
          "Sweden",
          "Hungary",
          "Austria",
          "Czech Republic",
          "Switzerland",
          "Bulgaria",
          "Finland",
          "Serbia",
          "Denmark",
          "Croatia",
          "Lithuania",
          "Slovakia",
          "Ireland",
          "Latvia",
          "Syria",
          "Slovenia",
          "Bosnia and Herzegovina",
          "Estonia",
          "Cyprus",
          "Luxembourg",
          "Malta"
         ],
         "y": [
          70322486.8509568,
          17819990.506071545,
          8237806.785432688,
          4855863.42459005,
          3500706.5086293053,
          3807627.406673822,
          3478087.4684116505,
          2446222.0366342724,
          2332802.9081746447,
          2574189.142470263,
          1151284.8965802002,
          1051761.5388692322,
          588983.4375576156,
          588794.2888998179,
          644055.4682351259,
          561370.9038617566,
          587255.0560623113,
          463888.7457573251,
          643468.6571337839,
          462284.61902110575,
          429375.46273829637,
          354048.0262322809,
          434801.59068680997,
          330037.697727677,
          257648.29527041045,
          138285.163197764,
          308441.90483946825,
          231555.84518751342,
          97755.62706531258,
          348270.1509458622,
          136012.57258609444,
          208583.00000000015,
          68885.18598275167,
          55764.14066875087,
          29504.142167733586,
          31731.535850474105
         ]
        },
        {
         "name": "male 50-59",
         "type": "bar",
         "x": [
          "China",
          "US",
          "Japan",
          "Germany",
          "Italy",
          "France",
          "UK",
          "Spain",
          "Poland",
          "Turkey",
          "Romania",
          "Netherlands",
          "Greece",
          "Portugal",
          "Belgium",
          "Sweden",
          "Hungary",
          "Austria",
          "Czech Republic",
          "Switzerland",
          "Bulgaria",
          "Finland",
          "Serbia",
          "Denmark",
          "Croatia",
          "Lithuania",
          "Slovakia",
          "Ireland",
          "Latvia",
          "Syria",
          "Slovenia",
          "Bosnia and Herzegovina",
          "Estonia",
          "Cyprus",
          "Luxembourg",
          "Malta"
         ],
         "y": [
          101649268.37458935,
          21416330.842916597,
          7997210.671548182,
          6762293.293299428,
          4540925.573007735,
          4312608.710185883,
          4416542.15871589,
          3394450.8483886104,
          2344655.6858362313,
          4030606.8229618883,
          1205601.1575884682,
          1275994.7685676534,
          730684.8769068648,
          694720.7202893626,
          806191.1812488573,
          652889.1003827867,
          574591.6138667808,
          691226.210879343,
          663652.7054911365,
          651034.5807708398,
          471340.80056384276,
          366535.7632069042,
          432799.62561524863,
          401928.62401812465,
          285831.4984552765,
          201060.0370182098,
          352116.747949805,
          287418.5228698895,
          127599.89962669711,
          581965.1101837218,
          152001.6439276248,
          249494.00000000023,
          81968.0894329408,
          71343.17996791286,
          45039.20199124857,
          30839.891361509843
         ]
        },
        {
         "name": "male 40-49",
         "type": "bar",
         "x": [
          "China",
          "US",
          "Japan",
          "Germany",
          "Italy",
          "France",
          "UK",
          "Spain",
          "Poland",
          "Turkey",
          "Romania",
          "Netherlands",
          "Greece",
          "Portugal",
          "Belgium",
          "Sweden",
          "Hungary",
          "Austria",
          "Czech Republic",
          "Switzerland",
          "Bulgaria",
          "Finland",
          "Serbia",
          "Denmark",
          "Croatia",
          "Lithuania",
          "Slovakia",
          "Ireland",
          "Latvia",
          "Syria",
          "Slovenia",
          "Bosnia and Herzegovina",
          "Estonia",
          "Cyprus",
          "Luxembourg",
          "Malta"
         ],
         "y": [
          114813237.31663066,
          20114577.663523078,
          9567748.964059496,
          5353221.973757961,
          4660487.774720659,
          4337378.02513702,
          4262981.581090946,
          4018048.067530324,
          2651096.3078616033,
          5377852.512737015,
          1579562.3150383139,
          1141811.5805829696,
          816900.8251798756,
          767006.4897808074,
          777508.1342393175,
          670404.9746781626,
          786681.1254440126,
          607517.8014298793,
          884581.3611538464,
          601536.3015626796,
          540206.2297273956,
          333210.15180391073,
          481256.8570403239,
          386942.486780638,
          274280.7634093583,
          181749.28727398667,
          417840.27966738446,
          361677.1463384061,
          126530.96437729351,
          850877.2894786096,
          157792.3343574758,
          228351.0000000002,
          91907.82108574033,
          78237.19735852987,
          48568.434473490845,
          32188.366051610123
         ]
        },
        {
         "name": "male 30-39",
         "type": "bar",
         "x": [
          "China",
          "US",
          "Japan",
          "Germany",
          "Italy",
          "France",
          "UK",
          "Spain",
          "Poland",
          "Turkey",
          "Romania",
          "Netherlands",
          "Greece",
          "Portugal",
          "Belgium",
          "Sweden",
          "Hungary",
          "Austria",
          "Czech Republic",
          "Switzerland",
          "Bulgaria",
          "Finland",
          "Serbia",
          "Denmark",
          "Croatia",
          "Lithuania",
          "Slovakia",
          "Ireland",
          "Latvia",
          "Syria",
          "Slovenia",
          "Bosnia and Herzegovina",
          "Estonia",
          "Cyprus",
          "Luxembourg",
          "Malta"
         ],
         "y": [
          108192548.71507385,
          21824037.534179546,
          7647630.315235132,
          5412009.681043111,
          3616607.5851493003,
          4040720.358678571,
          4487278.775041161,
          3224391.4332847865,
          3196966.0431574243,
          6335757.525869841,
          1370158.2833784898,
          1046567.8592307182,
          746869.801862036,
          630488.980588702,
          742185.032475367,
          658565.0116079322,
          673210.2832216776,
          604342.7166239496,
          794924.7349015474,
          602856.8949939563,
          508442.1078023317,
          362438.13083909085,
          490217.3163958818,
          335187.95405181125,
          280232.24520601577,
          172280.12889332353,
          447216.8883408951,
          354960.9742785077,
          133395.12708631385,
          1388330.4993953397,
          154208.47406051302,
          241855.0000000003,
          97762.82725470237,
          93898.23686454291,
          47234.788913088116,
          37101.217106236705
         ]
        },
        {
         "name": "male 20-29",
         "type": "bar",
         "x": [
          "China",
          "US",
          "Japan",
          "Germany",
          "Italy",
          "France",
          "UK",
          "Spain",
          "Poland",
          "Turkey",
          "Romania",
          "Netherlands",
          "Greece",
          "Portugal",
          "Belgium",
          "Sweden",
          "Hungary",
          "Austria",
          "Czech Republic",
          "Switzerland",
          "Bulgaria",
          "Finland",
          "Serbia",
          "Denmark",
          "Croatia",
          "Lithuania",
          "Slovakia",
          "Ireland",
          "Latvia",
          "Syria",
          "Slovenia",
          "Bosnia and Herzegovina",
          "Estonia",
          "Cyprus",
          "Luxembourg",
          "Malta"
         ],
         "y": [
          103639222.30352017,
          23559201.996534046,
          6318147.691936742,
          4909772.690946183,
          3166343.0118373404,
          3849687.107306186,
          4365353.649042643,
          2390522.217143935,
          2463417.813949599,
          6572626.924092163,
          1190408.2586430616,
          1089522.2765755388,
          574254.3912062861,
          534161.4209002717,
          709942.7171645112,
          696520.4978448866,
          617448.4698921515,
          576858.4820550418,
          607315.6990469148,
          534667.5237338924,
          393372.8705801937,
          349261.9596529526,
          465930.402572108,
          397964.6400410562,
          244679.79112728868,
          187852.60746697054,
          360695.28905246407,
          281506.11585255235,
          115893.56013836931,
          1583342.1888714237,
          111587.20156162484,
          213021.00000000015,
          82734.91152328232,
          104563.26376778209,
          42978.387697685066,
          33476.29698011408
         ]
        },
        {
         "name": "male 10-19",
         "type": "bar",
         "x": [
          "China",
          "US",
          "Japan",
          "Germany",
          "Italy",
          "France",
          "UK",
          "Spain",
          "Poland",
          "Turkey",
          "Romania",
          "Netherlands",
          "Greece",
          "Portugal",
          "Belgium",
          "Sweden",
          "Hungary",
          "Austria",
          "Czech Republic",
          "Switzerland",
          "Bulgaria",
          "Finland",
          "Serbia",
          "Denmark",
          "Croatia",
          "Lithuania",
          "Slovakia",
          "Ireland",
          "Latvia",
          "Syria",
          "Slovenia",
          "Bosnia and Herzegovina",
          "Estonia",
          "Cyprus",
          "Luxembourg",
          "Malta"
         ],
         "y": [
          87214791.92396946,
          21630429.4172637,
          5827353.542987733,
          4130923.111992885,
          2951839.7500914526,
          4124997.460629391,
          3792844.66471492,
          2375153.0576025527,
          1873618.1893975157,
          6923064.225476894,
          1059570.4232907533,
          1031530.227480779,
          559150.160452846,
          531802.5545699613,
          655418.6660567946,
          566332.9860213433,
          503394.9724702605,
          448917.7880669414,
          511786.1722483866,
          427125.06758340256,
          335712.741452236,
          306099.4327022583,
          417409.717420517,
          352122.31936650944,
          209986.2630873253,
          131511.6627975883,
          276828.7622198868,
          326339.68674790295,
          92123.23740537134,
          1691350.4435740602,
          97573.1337429903,
          184388.00000000023,
          66721.50958982181,
          74250.18730103206,
          34267.449387995584,
          23624.175774891595
         ]
        },
        {
         "name": "male 0-9",
         "type": "bar",
         "x": [
          "China",
          "US",
          "Japan",
          "Germany",
          "Italy",
          "France",
          "UK",
          "Spain",
          "Poland",
          "Turkey",
          "Romania",
          "Netherlands",
          "Greece",
          "Portugal",
          "Belgium",
          "Sweden",
          "Hungary",
          "Austria",
          "Czech Republic",
          "Switzerland",
          "Bulgaria",
          "Finland",
          "Serbia",
          "Denmark",
          "Croatia",
          "Lithuania",
          "Slovakia",
          "Ireland",
          "Latvia",
          "Syria",
          "Slovenia",
          "Bosnia and Herzegovina",
          "Estonia",
          "Cyprus",
          "Luxembourg",
          "Malta"
         ],
         "y": [
          89592992.92784467,
          20500945.712843347,
          5385822.332652443,
          3864217.0504218307,
          2674229.1760083586,
          4052345.8883416695,
          4094614.352469999,
          2288149.5452980283,
          1965068.353031867,
          6926770.308587417,
          1010541.4268911644,
          921292.3065498171,
          493643.77946263156,
          449876.8111591512,
          667749.7699872332,
          622679.5275396304,
          471527.05388729274,
          435336.862803346,
          572921.1242448791,
          443558.56420816167,
          345498.57730872795,
          300948.66585122736,
          361246.82408172655,
          315548.4443195052,
          202350.38108635665,
          149630.4278345181,
          290523.6619075276,
          357823.5059213138,
          107788.63333611615,
          1834445.2181289757,
          109157.49949466655,
          163367.00000000023,
          74314.8455234774,
          68302.1722967689,
          33237.54512415515,
          24324.28181807835
         ]
        }
       ],
       "layout": {
        "autosize": true,
        "barmode": "group",
        "template": {
         "data": {
          "bar": [
           {
            "error_x": {
             "color": "#2a3f5f"
            },
            "error_y": {
             "color": "#2a3f5f"
            },
            "marker": {
             "line": {
              "color": "#E5ECF6",
              "width": 0.5
             }
            },
            "type": "bar"
           }
          ],
          "barpolar": [
           {
            "marker": {
             "line": {
              "color": "#E5ECF6",
              "width": 0.5
             }
            },
            "type": "barpolar"
           }
          ],
          "carpet": [
           {
            "aaxis": {
             "endlinecolor": "#2a3f5f",
             "gridcolor": "white",
             "linecolor": "white",
             "minorgridcolor": "white",
             "startlinecolor": "#2a3f5f"
            },
            "baxis": {
             "endlinecolor": "#2a3f5f",
             "gridcolor": "white",
             "linecolor": "white",
             "minorgridcolor": "white",
             "startlinecolor": "#2a3f5f"
            },
            "type": "carpet"
           }
          ],
          "choropleth": [
           {
            "colorbar": {
             "outlinewidth": 0,
             "ticks": ""
            },
            "type": "choropleth"
           }
          ],
          "contour": [
           {
            "colorbar": {
             "outlinewidth": 0,
             "ticks": ""
            },
            "colorscale": [
             [
              0,
              "#0d0887"
             ],
             [
              0.1111111111111111,
              "#46039f"
             ],
             [
              0.2222222222222222,
              "#7201a8"
             ],
             [
              0.3333333333333333,
              "#9c179e"
             ],
             [
              0.4444444444444444,
              "#bd3786"
             ],
             [
              0.5555555555555556,
              "#d8576b"
             ],
             [
              0.6666666666666666,
              "#ed7953"
             ],
             [
              0.7777777777777778,
              "#fb9f3a"
             ],
             [
              0.8888888888888888,
              "#fdca26"
             ],
             [
              1,
              "#f0f921"
             ]
            ],
            "type": "contour"
           }
          ],
          "contourcarpet": [
           {
            "colorbar": {
             "outlinewidth": 0,
             "ticks": ""
            },
            "type": "contourcarpet"
           }
          ],
          "heatmap": [
           {
            "colorbar": {
             "outlinewidth": 0,
             "ticks": ""
            },
            "colorscale": [
             [
              0,
              "#0d0887"
             ],
             [
              0.1111111111111111,
              "#46039f"
             ],
             [
              0.2222222222222222,
              "#7201a8"
             ],
             [
              0.3333333333333333,
              "#9c179e"
             ],
             [
              0.4444444444444444,
              "#bd3786"
             ],
             [
              0.5555555555555556,
              "#d8576b"
             ],
             [
              0.6666666666666666,
              "#ed7953"
             ],
             [
              0.7777777777777778,
              "#fb9f3a"
             ],
             [
              0.8888888888888888,
              "#fdca26"
             ],
             [
              1,
              "#f0f921"
             ]
            ],
            "type": "heatmap"
           }
          ],
          "heatmapgl": [
           {
            "colorbar": {
             "outlinewidth": 0,
             "ticks": ""
            },
            "colorscale": [
             [
              0,
              "#0d0887"
             ],
             [
              0.1111111111111111,
              "#46039f"
             ],
             [
              0.2222222222222222,
              "#7201a8"
             ],
             [
              0.3333333333333333,
              "#9c179e"
             ],
             [
              0.4444444444444444,
              "#bd3786"
             ],
             [
              0.5555555555555556,
              "#d8576b"
             ],
             [
              0.6666666666666666,
              "#ed7953"
             ],
             [
              0.7777777777777778,
              "#fb9f3a"
             ],
             [
              0.8888888888888888,
              "#fdca26"
             ],
             [
              1,
              "#f0f921"
             ]
            ],
            "type": "heatmapgl"
           }
          ],
          "histogram": [
           {
            "marker": {
             "colorbar": {
              "outlinewidth": 0,
              "ticks": ""
             }
            },
            "type": "histogram"
           }
          ],
          "histogram2d": [
           {
            "colorbar": {
             "outlinewidth": 0,
             "ticks": ""
            },
            "colorscale": [
             [
              0,
              "#0d0887"
             ],
             [
              0.1111111111111111,
              "#46039f"
             ],
             [
              0.2222222222222222,
              "#7201a8"
             ],
             [
              0.3333333333333333,
              "#9c179e"
             ],
             [
              0.4444444444444444,
              "#bd3786"
             ],
             [
              0.5555555555555556,
              "#d8576b"
             ],
             [
              0.6666666666666666,
              "#ed7953"
             ],
             [
              0.7777777777777778,
              "#fb9f3a"
             ],
             [
              0.8888888888888888,
              "#fdca26"
             ],
             [
              1,
              "#f0f921"
             ]
            ],
            "type": "histogram2d"
           }
          ],
          "histogram2dcontour": [
           {
            "colorbar": {
             "outlinewidth": 0,
             "ticks": ""
            },
            "colorscale": [
             [
              0,
              "#0d0887"
             ],
             [
              0.1111111111111111,
              "#46039f"
             ],
             [
              0.2222222222222222,
              "#7201a8"
             ],
             [
              0.3333333333333333,
              "#9c179e"
             ],
             [
              0.4444444444444444,
              "#bd3786"
             ],
             [
              0.5555555555555556,
              "#d8576b"
             ],
             [
              0.6666666666666666,
              "#ed7953"
             ],
             [
              0.7777777777777778,
              "#fb9f3a"
             ],
             [
              0.8888888888888888,
              "#fdca26"
             ],
             [
              1,
              "#f0f921"
             ]
            ],
            "type": "histogram2dcontour"
           }
          ],
          "mesh3d": [
           {
            "colorbar": {
             "outlinewidth": 0,
             "ticks": ""
            },
            "type": "mesh3d"
           }
          ],
          "parcoords": [
           {
            "line": {
             "colorbar": {
              "outlinewidth": 0,
              "ticks": ""
             }
            },
            "type": "parcoords"
           }
          ],
          "pie": [
           {
            "automargin": true,
            "type": "pie"
           }
          ],
          "scatter": [
           {
            "marker": {
             "colorbar": {
              "outlinewidth": 0,
              "ticks": ""
             }
            },
            "type": "scatter"
           }
          ],
          "scatter3d": [
           {
            "line": {
             "colorbar": {
              "outlinewidth": 0,
              "ticks": ""
             }
            },
            "marker": {
             "colorbar": {
              "outlinewidth": 0,
              "ticks": ""
             }
            },
            "type": "scatter3d"
           }
          ],
          "scattercarpet": [
           {
            "marker": {
             "colorbar": {
              "outlinewidth": 0,
              "ticks": ""
             }
            },
            "type": "scattercarpet"
           }
          ],
          "scattergeo": [
           {
            "marker": {
             "colorbar": {
              "outlinewidth": 0,
              "ticks": ""
             }
            },
            "type": "scattergeo"
           }
          ],
          "scattergl": [
           {
            "marker": {
             "colorbar": {
              "outlinewidth": 0,
              "ticks": ""
             }
            },
            "type": "scattergl"
           }
          ],
          "scattermapbox": [
           {
            "marker": {
             "colorbar": {
              "outlinewidth": 0,
              "ticks": ""
             }
            },
            "type": "scattermapbox"
           }
          ],
          "scatterpolar": [
           {
            "marker": {
             "colorbar": {
              "outlinewidth": 0,
              "ticks": ""
             }
            },
            "type": "scatterpolar"
           }
          ],
          "scatterpolargl": [
           {
            "marker": {
             "colorbar": {
              "outlinewidth": 0,
              "ticks": ""
             }
            },
            "type": "scatterpolargl"
           }
          ],
          "scatterternary": [
           {
            "marker": {
             "colorbar": {
              "outlinewidth": 0,
              "ticks": ""
             }
            },
            "type": "scatterternary"
           }
          ],
          "surface": [
           {
            "colorbar": {
             "outlinewidth": 0,
             "ticks": ""
            },
            "colorscale": [
             [
              0,
              "#0d0887"
             ],
             [
              0.1111111111111111,
              "#46039f"
             ],
             [
              0.2222222222222222,
              "#7201a8"
             ],
             [
              0.3333333333333333,
              "#9c179e"
             ],
             [
              0.4444444444444444,
              "#bd3786"
             ],
             [
              0.5555555555555556,
              "#d8576b"
             ],
             [
              0.6666666666666666,
              "#ed7953"
             ],
             [
              0.7777777777777778,
              "#fb9f3a"
             ],
             [
              0.8888888888888888,
              "#fdca26"
             ],
             [
              1,
              "#f0f921"
             ]
            ],
            "type": "surface"
           }
          ],
          "table": [
           {
            "cells": {
             "fill": {
              "color": "#EBF0F8"
             },
             "line": {
              "color": "white"
             }
            },
            "header": {
             "fill": {
              "color": "#C8D4E3"
             },
             "line": {
              "color": "white"
             }
            },
            "type": "table"
           }
          ]
         },
         "layout": {
          "annotationdefaults": {
           "arrowcolor": "#2a3f5f",
           "arrowhead": 0,
           "arrowwidth": 1
          },
          "coloraxis": {
           "colorbar": {
            "outlinewidth": 0,
            "ticks": ""
           }
          },
          "colorscale": {
           "diverging": [
            [
             0,
             "#8e0152"
            ],
            [
             0.1,
             "#c51b7d"
            ],
            [
             0.2,
             "#de77ae"
            ],
            [
             0.3,
             "#f1b6da"
            ],
            [
             0.4,
             "#fde0ef"
            ],
            [
             0.5,
             "#f7f7f7"
            ],
            [
             0.6,
             "#e6f5d0"
            ],
            [
             0.7,
             "#b8e186"
            ],
            [
             0.8,
             "#7fbc41"
            ],
            [
             0.9,
             "#4d9221"
            ],
            [
             1,
             "#276419"
            ]
           ],
           "sequential": [
            [
             0,
             "#0d0887"
            ],
            [
             0.1111111111111111,
             "#46039f"
            ],
            [
             0.2222222222222222,
             "#7201a8"
            ],
            [
             0.3333333333333333,
             "#9c179e"
            ],
            [
             0.4444444444444444,
             "#bd3786"
            ],
            [
             0.5555555555555556,
             "#d8576b"
            ],
            [
             0.6666666666666666,
             "#ed7953"
            ],
            [
             0.7777777777777778,
             "#fb9f3a"
            ],
            [
             0.8888888888888888,
             "#fdca26"
            ],
            [
             1,
             "#f0f921"
            ]
           ],
           "sequentialminus": [
            [
             0,
             "#0d0887"
            ],
            [
             0.1111111111111111,
             "#46039f"
            ],
            [
             0.2222222222222222,
             "#7201a8"
            ],
            [
             0.3333333333333333,
             "#9c179e"
            ],
            [
             0.4444444444444444,
             "#bd3786"
            ],
            [
             0.5555555555555556,
             "#d8576b"
            ],
            [
             0.6666666666666666,
             "#ed7953"
            ],
            [
             0.7777777777777778,
             "#fb9f3a"
            ],
            [
             0.8888888888888888,
             "#fdca26"
            ],
            [
             1,
             "#f0f921"
            ]
           ]
          },
          "colorway": [
           "#636efa",
           "#EF553B",
           "#00cc96",
           "#ab63fa",
           "#FFA15A",
           "#19d3f3",
           "#FF6692",
           "#B6E880",
           "#FF97FF",
           "#FECB52"
          ],
          "font": {
           "color": "#2a3f5f"
          },
          "geo": {
           "bgcolor": "white",
           "lakecolor": "white",
           "landcolor": "#E5ECF6",
           "showlakes": true,
           "showland": true,
           "subunitcolor": "white"
          },
          "hoverlabel": {
           "align": "left"
          },
          "hovermode": "closest",
          "mapbox": {
           "style": "light"
          },
          "paper_bgcolor": "white",
          "plot_bgcolor": "#E5ECF6",
          "polar": {
           "angularaxis": {
            "gridcolor": "white",
            "linecolor": "white",
            "ticks": ""
           },
           "bgcolor": "#E5ECF6",
           "radialaxis": {
            "gridcolor": "white",
            "linecolor": "white",
            "ticks": ""
           }
          },
          "scene": {
           "xaxis": {
            "backgroundcolor": "#E5ECF6",
            "gridcolor": "white",
            "gridwidth": 2,
            "linecolor": "white",
            "showbackground": true,
            "ticks": "",
            "zerolinecolor": "white"
           },
           "yaxis": {
            "backgroundcolor": "#E5ECF6",
            "gridcolor": "white",
            "gridwidth": 2,
            "linecolor": "white",
            "showbackground": true,
            "ticks": "",
            "zerolinecolor": "white"
           },
           "zaxis": {
            "backgroundcolor": "#E5ECF6",
            "gridcolor": "white",
            "gridwidth": 2,
            "linecolor": "white",
            "showbackground": true,
            "ticks": "",
            "zerolinecolor": "white"
           }
          },
          "shapedefaults": {
           "line": {
            "color": "#2a3f5f"
           }
          },
          "ternary": {
           "aaxis": {
            "gridcolor": "white",
            "linecolor": "white",
            "ticks": ""
           },
           "baxis": {
            "gridcolor": "white",
            "linecolor": "white",
            "ticks": ""
           },
           "bgcolor": "#E5ECF6",
           "caxis": {
            "gridcolor": "white",
            "linecolor": "white",
            "ticks": ""
           }
          },
          "title": {
           "x": 0.05
          },
          "xaxis": {
           "automargin": true,
           "gridcolor": "white",
           "linecolor": "white",
           "ticks": "",
           "title": {
            "standoff": 15
           },
           "zerolinecolor": "white",
           "zerolinewidth": 2
          },
          "yaxis": {
           "automargin": true,
           "gridcolor": "white",
           "linecolor": "white",
           "ticks": "",
           "title": {
            "standoff": 15
           },
           "zerolinecolor": "white",
           "zerolinewidth": 2
          }
         }
        },
        "title": {
         "text": "Total population by age groups and sex in 2018"
        },
        "xaxis": {
         "autorange": true,
         "range": [
          -0.5,
          35.5
         ],
         "type": "category"
        },
        "yaxis": {
         "autorange": true,
         "range": [
          0,
          120856039.28066385
         ],
         "type": "linear"
        }
       }
      },
      "image/png": "[encoded data removed]",
      "text/html": [
       "<div>\n",
       "        \n",
       "        \n",
       "            <div id=\"8a0de1ef-b271-4dfa-ac0d-4982694f9e0e\" class=\"plotly-graph-div\" style=\"height:525px; width:100%;\"></div>\n",
       "            <script type=\"text/javascript\">\n",
       "                require([\"plotly\"], function(Plotly) {\n",
       "                    window.PLOTLYENV=window.PLOTLYENV || {};\n",
       "                    \n",
       "                if (document.getElementById(\"8a0de1ef-b271-4dfa-ac0d-4982694f9e0e\")) {\n",
       "                    Plotly.newPlot(\n",
       "                        '8a0de1ef-b271-4dfa-ac0d-4982694f9e0e',\n",
       "                        [{\"name\": \"female 80+\", \"type\": \"bar\", \"x\": [\"China\", \"US\", \"Japan\", \"Germany\", \"Italy\", \"France\", \"UK\", \"Spain\", \"Poland\", \"Turkey\", \"Romania\", \"Netherlands\", \"Greece\", \"Portugal\", \"Belgium\", \"Sweden\", \"Hungary\", \"Austria\", \"Czech Republic\", \"Switzerland\", \"Bulgaria\", \"Finland\", \"Serbia\", \"Denmark\", \"Croatia\", \"Lithuania\", \"Slovakia\", \"Ireland\", \"Latvia\", \"Syria\", \"Slovenia\", \"Bosnia and Herzegovina\", \"Estonia\", \"Cyprus\", \"Luxembourg\", \"Malta\"], \"y\": [14779200.706631681, 7685738.932071125, 6833327.119838092, 3438147.587533258, 2752449.469607526, 2639703.3405257696, 1992546.2352169077, 1820883.6665320771, 1178758.9888204306, 874707.5962751092, 599310.8443834266, 497478.1495522747, 458641.521600526, 420217.04947255296, 411520.253353283, 318512.7757247309, 300994.242000671, 294720.7049033874, 288627.9065055305, 271355.9777905732, 215466.69346603137, 192803.54473493833, 174331.18188527846, 159306.19664364398, 158734.05780521492, 122614.09942276185, 122507.91994101611, 86579.99911469799, 83119.20618773215, 76192.23310372073, 74124.81735805898, 70248.00000000001, 55518.718113738396, 22441.05660905671, 15191.087891646424, 13909.65402784259]}, {\"name\": \"female 70-79\", \"type\": \"bar\", \"x\": [\"China\", \"US\", \"Japan\", \"Germany\", \"Italy\", \"France\", \"UK\", \"Spain\", \"Poland\", \"Turkey\", \"Romania\", \"Netherlands\", \"Greece\", \"Portugal\", \"Belgium\", \"Sweden\", \"Hungary\", \"Austria\", \"Czech Republic\", \"Switzerland\", \"Bulgaria\", \"Finland\", \"Serbia\", \"Denmark\", \"Croatia\", \"Lithuania\", \"Slovakia\", \"Ireland\", \"Latvia\", \"Syria\", \"Slovenia\", \"Bosnia and Herzegovina\", \"Estonia\", \"Cyprus\", \"Luxembourg\", \"Malta\"], \"y\": [32651877.421035234, 11974062.800891027, 8259862.45707091, 4213921.4541380545, 3171805.2950002216, 2918134.7244208185, 2865564.282184814, 2082457.575854126, 1557872.6111191816, 1745661.1213120108, 875125.1558335302, 765074.8670454572, 516160.96072624816, 554889.9713090395, 476058.6012718839, 491241.0277256571, 501583.6091555791, 430428.4662669459, 535684.2449036763, 376703.7714837899, 401231.2234987472, 286008.94403617154, 302087.3285082453, 285836.20235561405, 206514.1554231817, 152379.85956119894, 221639.61504686315, 155771.27680736742, 112393.04694779935, 175329.8349782375, 94056.93099744151, 137283.0, 70829.19979771909, 39450.099515497874, 19086.419155175725, 23811.311038007523]}, {\"name\": \"female 60-69\", \"type\": \"bar\", \"x\": [\"China\", \"US\", \"Japan\", \"Germany\", \"Italy\", \"France\", \"UK\", \"Spain\", \"Poland\", \"Turkey\", \"Romania\", \"Netherlands\", \"Greece\", \"Portugal\", \"Belgium\", \"Sweden\", \"Hungary\", \"Austria\", \"Czech Republic\", \"Switzerland\", \"Bulgaria\", \"Finland\", \"Serbia\", \"Denmark\", \"Croatia\", \"Lithuania\", \"Slovakia\", \"Ireland\", \"Latvia\", \"Syria\", \"Slovenia\", \"Bosnia and Herzegovina\", \"Estonia\", \"Cyprus\", \"Luxembourg\", \"Malta\"], \"y\": [71147916.12531962, 19336397.38057137, 8526836.25103939, 5175150.898759262, 3819152.6331898984, 4208214.978885409, 3630337.906973742, 2637257.317504515, 2773893.488040757, 3158367.6160042584, 1401411.6479129873, 1068456.6634793046, 666734.287758011, 688252.6346271597, 676702.6528021675, 569745.8855021694, 745956.6465652031, 501970.8581914641, 718728.457975812, 473091.1089905075, 519150.3463464372, 377900.42318044894, 499946.359013857, 342461.80921644537, 288596.1973887544, 193864.313129402, 367528.7543160053, 239243.9887587802, 138201.33968900604, 380736.6804340993, 138288.055234388, 233085.9999999998, 92549.83489314863, 58470.14749483294, 29052.55328642073, 32415.12995868002]}, {\"name\": \"female 50-59\", \"type\": \"bar\", \"x\": [\"China\", \"US\", \"Japan\", \"Germany\", \"Italy\", \"France\", \"UK\", \"Spain\", \"Poland\", \"Turkey\", \"Romania\", \"Netherlands\", \"Greece\", \"Portugal\", \"Belgium\", \"Sweden\", \"Hungary\", \"Austria\", \"Czech Republic\", \"Switzerland\", \"Bulgaria\", \"Finland\", \"Serbia\", \"Denmark\", \"Croatia\", \"Lithuania\", \"Slovakia\", \"Ireland\", \"Latvia\", \"Syria\", \"Slovenia\", \"Bosnia and Herzegovina\", \"Estonia\", \"Cyprus\", \"Luxembourg\", \"Malta\"], \"y\": [99173807.81089133, 21573421.015830882, 7888484.058621953, 6731160.060973884, 4739461.6241722265, 4514022.377307631, 4551421.1237779865, 3452675.3367716335, 2454189.973360344, 4378310.800574254, 1255540.6497061686, 1255077.6328939905, 771967.3954129944, 774740.7242637423, 786615.2055916201, 636037.0156333514, 622624.943720331, 690079.9565087899, 656113.0767661395, 637621.8666999227, 479411.3260228518, 367537.9395699659, 456517.83541512786, 398709.46184605337, 300384.0471830598, 233076.32801586404, 369992.03824231616, 292178.6652146827, 147894.6842917747, 617532.526972578, 148949.09440206044, 266272.9999999997, 89724.17536754122, 71842.18122667672, 41766.43980908373, 30376.45638638147]}, {\"name\": \"female 40-49\", \"type\": \"bar\", \"x\": [\"China\", \"US\", \"Japan\", \"Germany\", \"Italy\", \"France\", \"UK\", \"Spain\", \"Poland\", \"Turkey\", \"Romania\", \"Netherlands\", \"Greece\", \"Portugal\", \"Belgium\", \"Sweden\", \"Hungary\", \"Austria\", \"Czech Republic\", \"Switzerland\", \"Bulgaria\", \"Finland\", \"Serbia\", \"Denmark\", \"Croatia\", \"Lithuania\", \"Slovakia\", \"Ireland\", \"Latvia\", \"Syria\", \"Slovenia\", \"Bosnia and Herzegovina\", \"Estonia\", \"Cyprus\", \"Luxembourg\", \"Malta\"], \"y\": [110220136.11748739, 20220888.79011943, 9260454.660919761, 5273859.017859293, 4716025.638455896, 4427422.024726375, 4330614.663158489, 3870119.281531074, 2618696.712582349, 5579775.556729948, 1532848.493606157, 1140874.2537248323, 810633.8183326684, 826391.1752073282, 746023.829673459, 650359.551605404, 780265.8803711813, 607633.222876913, 841699.7227804251, 593039.3516939656, 512093.8661746753, 320146.88782517606, 487710.10102694156, 385736.0568745741, 271112.6742400346, 193088.57705005212, 403825.73243050586, 372522.93829116394, 132628.8903234238, 894459.3226400117, 143210.14209976137, 223231.9999999997, 89145.06493473116, 82088.20707295786, 44618.791852298076, 30478.830383262535]}, {\"name\": \"female 30-39\", \"type\": \"bar\", \"x\": [\"China\", \"US\", \"Japan\", \"Germany\", \"Italy\", \"France\", \"UK\", \"Spain\", \"Poland\", \"Turkey\", \"Romania\", \"Netherlands\", \"Greece\", \"Portugal\", \"Belgium\", \"Sweden\", \"Hungary\", \"Austria\", \"Czech Republic\", \"Switzerland\", \"Bulgaria\", \"Finland\", \"Serbia\", \"Denmark\", \"Croatia\", \"Lithuania\", \"Slovakia\", \"Ireland\", \"Latvia\", \"Syria\", \"Slovenia\", \"Bosnia and Herzegovina\", \"Estonia\", \"Cyprus\", \"Luxembourg\", \"Malta\"], \"y\": [102408097.41475384, 21500912.242494762, 7320060.868677662, 5179579.405770289, 3580547.5453713317, 4179416.5660130833, 4517357.508143926, 3220956.16245298, 2986168.8741681054, 6335480.594383028, 1283834.9031568058, 1026741.5780902331, 711780.8845592254, 668296.0039269936, 742886.3416292019, 630511.222967057, 657513.8137870071, 592587.6392509461, 749326.3196342216, 595791.4204558169, 472121.7548911526, 342107.8392546242, 475448.46154941944, 329115.48940349254, 271050.689886722, 164534.71782120236, 425827.47280395415, 374070.03491443984, 128876.62789654556, 1391008.3570256045, 140495.88033126766, 233238.9999999997, 91204.90083626058, 94019.2371697742, 46761.0731823568, 34347.02635143595]}, {\"name\": \"female 20-29\", \"type\": \"bar\", \"x\": [\"China\", \"US\", \"Japan\", \"Germany\", \"Italy\", \"France\", \"UK\", \"Spain\", \"Poland\", \"Turkey\", \"Romania\", \"Netherlands\", \"Greece\", \"Portugal\", \"Belgium\", \"Sweden\", \"Hungary\", \"Austria\", \"Czech Republic\", \"Switzerland\", \"Bulgaria\", \"Finland\", \"Serbia\", \"Denmark\", \"Croatia\", \"Lithuania\", \"Slovakia\", \"Ireland\", \"Latvia\", \"Syria\", \"Slovenia\", \"Bosnia and Herzegovina\", \"Estonia\", \"Cyprus\", \"Luxembourg\", \"Malta\"], \"y\": [93755619.75253403, 22646695.49266828, 6009961.135269766, 4528367.399916968, 2984831.741041822, 3845014.8379593613, 4239325.797316696, 2303383.61554075, 2340421.334847369, 6397160.334740124, 1093781.9005585427, 1048289.9953224477, 529961.2217777884, 548177.2773235919, 685461.5564894465, 663549.5604906114, 588754.4623616867, 547159.3497180353, 580030.3724718326, 518200.06328412215, 369184.20485307585, 333119.22653069143, 437177.9327448122, 378873.4159135111, 234535.0186350858, 174491.82315806756, 344434.2188836014, 273019.24336054554, 109011.41534104144, 1504606.7891881426, 105062.22770613259, 201609.9999999997, 75832.51424394498, 92865.23425872513, 40493.140201640395, 30794.758739228906]}, {\"name\": \"female 10-19\", \"type\": \"bar\", \"x\": [\"China\", \"US\", \"Japan\", \"Germany\", \"Italy\", \"France\", \"UK\", \"Spain\", \"Poland\", \"Turkey\", \"Romania\", \"Netherlands\", \"Greece\", \"Portugal\", \"Belgium\", \"Sweden\", \"Hungary\", \"Austria\", \"Czech Republic\", \"Switzerland\", \"Bulgaria\", \"Finland\", \"Serbia\", \"Denmark\", \"Croatia\", \"Lithuania\", \"Slovakia\", \"Ireland\", \"Latvia\", \"Syria\", \"Slovenia\", \"Bosnia and Herzegovina\", \"Estonia\", \"Cyprus\", \"Luxembourg\", \"Malta\"], \"y\": [75561505.93885727, 20744196.628901422, 5527617.035054195, 3823686.085263689, 2763079.9896681197, 3947883.0985708204, 3634323.779783995, 2241487.7002186365, 1796198.0690467458, 6632406.134642652, 1001166.9150566664, 977960.1794473603, 533370.5061274006, 512747.1651919152, 622377.5546458941, 536459.392809901, 476662.2688844152, 422756.920089034, 486178.53261475416, 408038.39686373307, 315932.88165964955, 291954.05805433507, 390532.3052117515, 335574.979184584, 199188.1951887774, 124808.86491555601, 263309.6686843264, 314155.2936152413, 88126.21877652711, 1620675.5549917144, 91504.84835954328, 175990.9999999998, 63232.868465273204, 68789.1735252619, 32564.687748657834, 22369.26871634925]}, {\"name\": \"female 0-9\", \"type\": \"bar\", \"x\": [\"China\", \"US\", \"Japan\", \"Germany\", \"Italy\", \"France\", \"UK\", \"Spain\", \"Poland\", \"Turkey\", \"Romania\", \"Netherlands\", \"Greece\", \"Portugal\", \"Belgium\", \"Sweden\", \"Hungary\", \"Austria\", \"Czech Republic\", \"Switzerland\", \"Bulgaria\", \"Finland\", \"Serbia\", \"Denmark\", \"Croatia\", \"Lithuania\", \"Slovakia\", \"Ireland\", \"Latvia\", \"Syria\", \"Slovenia\", \"Bosnia and Herzegovina\", \"Estonia\", \"Cyprus\", \"Luxembourg\", \"Malta\"], \"y\": [78274083.62756895, 19602722.316080898, 5104746.556236183, 3647718.0273362286, 2520226.680893318, 3875049.0882344795, 3905391.8489710516, 2151598.2802301887, 1864414.3848592837, 6615966.20190204, 955627.1538926007, 873626.0036519711, 462870.502306923, 426006.44728706323, 631157.3483930741, 589649.3597335635, 447655.2980256917, 409561.0646530463, 542377.0601487254, 420805.79825945635, 326844.32770728954, 287217.95041633584, 337287.49012108846, 299006.14352732926, 190346.0779947683, 141685.85473945743, 277339.19940007484, 339863.68828483415, 100277.11544801791, 1761190.2476420598, 103063.34504744357, 154591.99999999997, 70161.22586746066, 64323.16225945167, 31529.754655404115, 22649.97161102321]}, {\"name\": \"male 80+\", \"type\": \"bar\", \"x\": [\"China\", \"US\", \"Japan\", \"Germany\", \"Italy\", \"France\", \"UK\", \"Spain\", \"Poland\", \"Turkey\", \"Romania\", \"Netherlands\", \"Greece\", \"Portugal\", \"Belgium\", \"Sweden\", \"Hungary\", \"Austria\", \"Czech Republic\", \"Switzerland\", \"Bulgaria\", \"Finland\", \"Serbia\", \"Denmark\", \"Croatia\", \"Lithuania\", \"Slovakia\", \"Ireland\", \"Latvia\", \"Syria\", \"Slovenia\", \"Bosnia and Herzegovina\", \"Estonia\", \"Cyprus\", \"Luxembourg\", \"Malta\"], \"y\": [9975601.989777599, 5018704.753637134, 3810605.9260512707, 2074602.3975122196, 1610699.718555655, 1481279.4523105784, 1358179.4757109291, 1073148.3878769872, 534405.5404591348, 510867.6107307631, 324336.1457610976, 312773.2459241035, 323255.00667158066, 239613.90248115483, 240881.2911948776, 208102.10751151008, 123889.200220613, 170529.21791896713, 148309.9166269674, 168044.01572590566, 118708.04609670701, 106669.3339894272, 107513.61469296896, 102890.22839639784, 71705.07411810246, 45150.03060040633, 54703.68245761948, 60154.46069785709, 27842.26672979121, 58534.735212358595, 35946.05908069747, 42815.00000000001, 19592.903487984466, 14673.03701371104, 9203.763592191242, 8210.834868129008]}, {\"name\": \"male 70-79\", \"type\": \"bar\", \"x\": [\"China\", \"US\", \"Japan\", \"Germany\", \"Italy\", \"France\", \"UK\", \"Spain\", \"Poland\", \"Turkey\", \"Romania\", \"Netherlands\", \"Greece\", \"Portugal\", \"Belgium\", \"Sweden\", \"Hungary\", \"Austria\", \"Czech Republic\", \"Switzerland\", \"Bulgaria\", \"Finland\", \"Serbia\", \"Denmark\", \"Croatia\", \"Lithuania\", \"Slovakia\", \"Ireland\", \"Latvia\", \"Syria\", \"Slovenia\", \"Bosnia and Herzegovina\", \"Estonia\", \"Cyprus\", \"Luxembourg\", \"Malta\"], \"y\": [29357604.682558022, 9998179.973401805, 7005423.627368353, 3553428.4388854075, 2661863.284599848, 2425738.5540931257, 2566225.729274254, 1732844.4696045108, 1045902.7212874122, 1350152.970510328, 583825.428721565, 706183.8730113201, 431804.62209848006, 425578.3827213844, 399332.395547884, 460244.0983595462, 308776.0600631345, 351520.9920066432, 399968.9353514201, 330787.67687817, 270122.53911035915, 240041.72211926116, 229869.0560178926, 260203.85033303304, 142224.57449426863, 81469.21710367092, 142239.1638162874, 144664.61374430492, 57084.13933286693, 147435.81723348075, 74337.73965221512, 96501.00000000013, 38797.40359948088, 33945.08562873446, 16630.3388697281, 20880.992976744725]}, {\"name\": \"male 60-69\", \"type\": \"bar\", \"x\": [\"China\", \"US\", \"Japan\", \"Germany\", \"Italy\", \"France\", \"UK\", \"Spain\", \"Poland\", \"Turkey\", \"Romania\", \"Netherlands\", \"Greece\", \"Portugal\", \"Belgium\", \"Sweden\", \"Hungary\", \"Austria\", \"Czech Republic\", \"Switzerland\", \"Bulgaria\", \"Finland\", \"Serbia\", \"Denmark\", \"Croatia\", \"Lithuania\", \"Slovakia\", \"Ireland\", \"Latvia\", \"Syria\", \"Slovenia\", \"Bosnia and Herzegovina\", \"Estonia\", \"Cyprus\", \"Luxembourg\", \"Malta\"], \"y\": [70322486.8509568, 17819990.506071545, 8237806.785432688, 4855863.42459005, 3500706.5086293053, 3807627.406673822, 3478087.4684116505, 2446222.0366342724, 2332802.9081746447, 2574189.142470263, 1151284.8965802002, 1051761.5388692322, 588983.4375576156, 588794.2888998179, 644055.4682351259, 561370.9038617566, 587255.0560623113, 463888.7457573251, 643468.6571337839, 462284.61902110575, 429375.46273829637, 354048.0262322809, 434801.59068680997, 330037.697727677, 257648.29527041045, 138285.163197764, 308441.90483946825, 231555.84518751342, 97755.62706531258, 348270.1509458622, 136012.57258609444, 208583.00000000015, 68885.18598275167, 55764.14066875087, 29504.142167733586, 31731.535850474105]}, {\"name\": \"male 50-59\", \"type\": \"bar\", \"x\": [\"China\", \"US\", \"Japan\", \"Germany\", \"Italy\", \"France\", \"UK\", \"Spain\", \"Poland\", \"Turkey\", \"Romania\", \"Netherlands\", \"Greece\", \"Portugal\", \"Belgium\", \"Sweden\", \"Hungary\", \"Austria\", \"Czech Republic\", \"Switzerland\", \"Bulgaria\", \"Finland\", \"Serbia\", \"Denmark\", \"Croatia\", \"Lithuania\", \"Slovakia\", \"Ireland\", \"Latvia\", \"Syria\", \"Slovenia\", \"Bosnia and Herzegovina\", \"Estonia\", \"Cyprus\", \"Luxembourg\", \"Malta\"], \"y\": [101649268.37458935, 21416330.842916597, 7997210.671548182, 6762293.293299428, 4540925.573007735, 4312608.710185883, 4416542.15871589, 3394450.8483886104, 2344655.6858362313, 4030606.8229618883, 1205601.1575884682, 1275994.7685676534, 730684.8769068648, 694720.7202893626, 806191.1812488573, 652889.1003827867, 574591.6138667808, 691226.210879343, 663652.7054911365, 651034.5807708398, 471340.80056384276, 366535.7632069042, 432799.62561524863, 401928.62401812465, 285831.4984552765, 201060.0370182098, 352116.747949805, 287418.5228698895, 127599.89962669711, 581965.1101837218, 152001.6439276248, 249494.00000000023, 81968.0894329408, 71343.17996791286, 45039.20199124857, 30839.891361509843]}, {\"name\": \"male 40-49\", \"type\": \"bar\", \"x\": [\"China\", \"US\", \"Japan\", \"Germany\", \"Italy\", \"France\", \"UK\", \"Spain\", \"Poland\", \"Turkey\", \"Romania\", \"Netherlands\", \"Greece\", \"Portugal\", \"Belgium\", \"Sweden\", \"Hungary\", \"Austria\", \"Czech Republic\", \"Switzerland\", \"Bulgaria\", \"Finland\", \"Serbia\", \"Denmark\", \"Croatia\", \"Lithuania\", \"Slovakia\", \"Ireland\", \"Latvia\", \"Syria\", \"Slovenia\", \"Bosnia and Herzegovina\", \"Estonia\", \"Cyprus\", \"Luxembourg\", \"Malta\"], \"y\": [114813237.31663066, 20114577.663523078, 9567748.964059496, 5353221.973757961, 4660487.774720659, 4337378.02513702, 4262981.581090946, 4018048.067530324, 2651096.3078616033, 5377852.512737015, 1579562.3150383139, 1141811.5805829696, 816900.8251798756, 767006.4897808074, 777508.1342393175, 670404.9746781626, 786681.1254440126, 607517.8014298793, 884581.3611538464, 601536.3015626796, 540206.2297273956, 333210.15180391073, 481256.8570403239, 386942.486780638, 274280.7634093583, 181749.28727398667, 417840.27966738446, 361677.1463384061, 126530.96437729351, 850877.2894786096, 157792.3343574758, 228351.0000000002, 91907.82108574033, 78237.19735852987, 48568.434473490845, 32188.366051610123]}, {\"name\": \"male 30-39\", \"type\": \"bar\", \"x\": [\"China\", \"US\", \"Japan\", \"Germany\", \"Italy\", \"France\", \"UK\", \"Spain\", \"Poland\", \"Turkey\", \"Romania\", \"Netherlands\", \"Greece\", \"Portugal\", \"Belgium\", \"Sweden\", \"Hungary\", \"Austria\", \"Czech Republic\", \"Switzerland\", \"Bulgaria\", \"Finland\", \"Serbia\", \"Denmark\", \"Croatia\", \"Lithuania\", \"Slovakia\", \"Ireland\", \"Latvia\", \"Syria\", \"Slovenia\", \"Bosnia and Herzegovina\", \"Estonia\", \"Cyprus\", \"Luxembourg\", \"Malta\"], \"y\": [108192548.71507385, 21824037.534179546, 7647630.315235132, 5412009.681043111, 3616607.5851493003, 4040720.358678571, 4487278.775041161, 3224391.4332847865, 3196966.0431574243, 6335757.525869841, 1370158.2833784898, 1046567.8592307182, 746869.801862036, 630488.980588702, 742185.032475367, 658565.0116079322, 673210.2832216776, 604342.7166239496, 794924.7349015474, 602856.8949939563, 508442.1078023317, 362438.13083909085, 490217.3163958818, 335187.95405181125, 280232.24520601577, 172280.12889332353, 447216.8883408951, 354960.9742785077, 133395.12708631385, 1388330.4993953397, 154208.47406051302, 241855.0000000003, 97762.82725470237, 93898.23686454291, 47234.788913088116, 37101.217106236705]}, {\"name\": \"male 20-29\", \"type\": \"bar\", \"x\": [\"China\", \"US\", \"Japan\", \"Germany\", \"Italy\", \"France\", \"UK\", \"Spain\", \"Poland\", \"Turkey\", \"Romania\", \"Netherlands\", \"Greece\", \"Portugal\", \"Belgium\", \"Sweden\", \"Hungary\", \"Austria\", \"Czech Republic\", \"Switzerland\", \"Bulgaria\", \"Finland\", \"Serbia\", \"Denmark\", \"Croatia\", \"Lithuania\", \"Slovakia\", \"Ireland\", \"Latvia\", \"Syria\", \"Slovenia\", \"Bosnia and Herzegovina\", \"Estonia\", \"Cyprus\", \"Luxembourg\", \"Malta\"], \"y\": [103639222.30352017, 23559201.996534046, 6318147.691936742, 4909772.690946183, 3166343.0118373404, 3849687.107306186, 4365353.649042643, 2390522.217143935, 2463417.813949599, 6572626.924092163, 1190408.2586430616, 1089522.2765755388, 574254.3912062861, 534161.4209002717, 709942.7171645112, 696520.4978448866, 617448.4698921515, 576858.4820550418, 607315.6990469148, 534667.5237338924, 393372.8705801937, 349261.9596529526, 465930.402572108, 397964.6400410562, 244679.79112728868, 187852.60746697054, 360695.28905246407, 281506.11585255235, 115893.56013836931, 1583342.1888714237, 111587.20156162484, 213021.00000000015, 82734.91152328232, 104563.26376778209, 42978.387697685066, 33476.29698011408]}, {\"name\": \"male 10-19\", \"type\": \"bar\", \"x\": [\"China\", \"US\", \"Japan\", \"Germany\", \"Italy\", \"France\", \"UK\", \"Spain\", \"Poland\", \"Turkey\", \"Romania\", \"Netherlands\", \"Greece\", \"Portugal\", \"Belgium\", \"Sweden\", \"Hungary\", \"Austria\", \"Czech Republic\", \"Switzerland\", \"Bulgaria\", \"Finland\", \"Serbia\", \"Denmark\", \"Croatia\", \"Lithuania\", \"Slovakia\", \"Ireland\", \"Latvia\", \"Syria\", \"Slovenia\", \"Bosnia and Herzegovina\", \"Estonia\", \"Cyprus\", \"Luxembourg\", \"Malta\"], \"y\": [87214791.92396946, 21630429.4172637, 5827353.542987733, 4130923.111992885, 2951839.7500914526, 4124997.460629391, 3792844.66471492, 2375153.0576025527, 1873618.1893975157, 6923064.225476894, 1059570.4232907533, 1031530.227480779, 559150.160452846, 531802.5545699613, 655418.6660567946, 566332.9860213433, 503394.9724702605, 448917.7880669414, 511786.1722483866, 427125.06758340256, 335712.741452236, 306099.4327022583, 417409.717420517, 352122.31936650944, 209986.2630873253, 131511.6627975883, 276828.7622198868, 326339.68674790295, 92123.23740537134, 1691350.4435740602, 97573.1337429903, 184388.00000000023, 66721.50958982181, 74250.18730103206, 34267.449387995584, 23624.175774891595]}, {\"name\": \"male 0-9\", \"type\": \"bar\", \"x\": [\"China\", \"US\", \"Japan\", \"Germany\", \"Italy\", \"France\", \"UK\", \"Spain\", \"Poland\", \"Turkey\", \"Romania\", \"Netherlands\", \"Greece\", \"Portugal\", \"Belgium\", \"Sweden\", \"Hungary\", \"Austria\", \"Czech Republic\", \"Switzerland\", \"Bulgaria\", \"Finland\", \"Serbia\", \"Denmark\", \"Croatia\", \"Lithuania\", \"Slovakia\", \"Ireland\", \"Latvia\", \"Syria\", \"Slovenia\", \"Bosnia and Herzegovina\", \"Estonia\", \"Cyprus\", \"Luxembourg\", \"Malta\"], \"y\": [89592992.92784467, 20500945.712843347, 5385822.332652443, 3864217.0504218307, 2674229.1760083586, 4052345.8883416695, 4094614.352469999, 2288149.5452980283, 1965068.353031867, 6926770.308587417, 1010541.4268911644, 921292.3065498171, 493643.77946263156, 449876.8111591512, 667749.7699872332, 622679.5275396304, 471527.05388729274, 435336.862803346, 572921.1242448791, 443558.56420816167, 345498.57730872795, 300948.66585122736, 361246.82408172655, 315548.4443195052, 202350.38108635665, 149630.4278345181, 290523.6619075276, 357823.5059213138, 107788.63333611615, 1834445.2181289757, 109157.49949466655, 163367.00000000023, 74314.8455234774, 68302.1722967689, 33237.54512415515, 24324.28181807835]}],\n",
       "                        {\"barmode\": \"group\", \"template\": {\"data\": {\"bar\": [{\"error_x\": {\"color\": \"#2a3f5f\"}, \"error_y\": {\"color\": \"#2a3f5f\"}, \"marker\": {\"line\": {\"color\": \"#E5ECF6\", \"width\": 0.5}}, \"type\": \"bar\"}], \"barpolar\": [{\"marker\": {\"line\": {\"color\": \"#E5ECF6\", \"width\": 0.5}}, \"type\": \"barpolar\"}], \"carpet\": [{\"aaxis\": {\"endlinecolor\": \"#2a3f5f\", \"gridcolor\": \"white\", \"linecolor\": \"white\", \"minorgridcolor\": \"white\", \"startlinecolor\": \"#2a3f5f\"}, \"baxis\": {\"endlinecolor\": \"#2a3f5f\", \"gridcolor\": \"white\", \"linecolor\": \"white\", \"minorgridcolor\": \"white\", \"startlinecolor\": \"#2a3f5f\"}, \"type\": \"carpet\"}], \"choropleth\": [{\"colorbar\": {\"outlinewidth\": 0, \"ticks\": \"\"}, \"type\": \"choropleth\"}], \"contour\": [{\"colorbar\": {\"outlinewidth\": 0, \"ticks\": \"\"}, \"colorscale\": [[0.0, \"#0d0887\"], [0.1111111111111111, \"#46039f\"], [0.2222222222222222, \"#7201a8\"], [0.3333333333333333, \"#9c179e\"], [0.4444444444444444, \"#bd3786\"], [0.5555555555555556, \"#d8576b\"], [0.6666666666666666, \"#ed7953\"], [0.7777777777777778, \"#fb9f3a\"], [0.8888888888888888, \"#fdca26\"], [1.0, \"#f0f921\"]], \"type\": \"contour\"}], \"contourcarpet\": [{\"colorbar\": {\"outlinewidth\": 0, \"ticks\": \"\"}, \"type\": \"contourcarpet\"}], \"heatmap\": [{\"colorbar\": {\"outlinewidth\": 0, \"ticks\": \"\"}, \"colorscale\": [[0.0, \"#0d0887\"], [0.1111111111111111, \"#46039f\"], [0.2222222222222222, \"#7201a8\"], [0.3333333333333333, \"#9c179e\"], [0.4444444444444444, \"#bd3786\"], [0.5555555555555556, \"#d8576b\"], [0.6666666666666666, \"#ed7953\"], [0.7777777777777778, \"#fb9f3a\"], [0.8888888888888888, \"#fdca26\"], [1.0, \"#f0f921\"]], \"type\": \"heatmap\"}], \"heatmapgl\": [{\"colorbar\": {\"outlinewidth\": 0, \"ticks\": \"\"}, \"colorscale\": [[0.0, \"#0d0887\"], [0.1111111111111111, \"#46039f\"], [0.2222222222222222, \"#7201a8\"], [0.3333333333333333, \"#9c179e\"], [0.4444444444444444, \"#bd3786\"], [0.5555555555555556, \"#d8576b\"], [0.6666666666666666, \"#ed7953\"], [0.7777777777777778, \"#fb9f3a\"], [0.8888888888888888, \"#fdca26\"], [1.0, \"#f0f921\"]], \"type\": \"heatmapgl\"}], \"histogram\": [{\"marker\": {\"colorbar\": {\"outlinewidth\": 0, \"ticks\": \"\"}}, \"type\": \"histogram\"}], \"histogram2d\": [{\"colorbar\": {\"outlinewidth\": 0, \"ticks\": \"\"}, \"colorscale\": [[0.0, \"#0d0887\"], [0.1111111111111111, \"#46039f\"], [0.2222222222222222, \"#7201a8\"], [0.3333333333333333, \"#9c179e\"], [0.4444444444444444, \"#bd3786\"], [0.5555555555555556, \"#d8576b\"], [0.6666666666666666, \"#ed7953\"], [0.7777777777777778, \"#fb9f3a\"], [0.8888888888888888, \"#fdca26\"], [1.0, \"#f0f921\"]], \"type\": \"histogram2d\"}], \"histogram2dcontour\": [{\"colorbar\": {\"outlinewidth\": 0, \"ticks\": \"\"}, \"colorscale\": [[0.0, \"#0d0887\"], [0.1111111111111111, \"#46039f\"], [0.2222222222222222, \"#7201a8\"], [0.3333333333333333, \"#9c179e\"], [0.4444444444444444, \"#bd3786\"], [0.5555555555555556, \"#d8576b\"], [0.6666666666666666, \"#ed7953\"], [0.7777777777777778, \"#fb9f3a\"], [0.8888888888888888, \"#fdca26\"], [1.0, \"#f0f921\"]], \"type\": \"histogram2dcontour\"}], \"mesh3d\": [{\"colorbar\": {\"outlinewidth\": 0, \"ticks\": \"\"}, \"type\": \"mesh3d\"}], \"parcoords\": [{\"line\": {\"colorbar\": {\"outlinewidth\": 0, \"ticks\": \"\"}}, \"type\": \"parcoords\"}], \"pie\": [{\"automargin\": true, \"type\": \"pie\"}], \"scatter\": [{\"marker\": {\"colorbar\": {\"outlinewidth\": 0, \"ticks\": \"\"}}, \"type\": \"scatter\"}], \"scatter3d\": [{\"line\": {\"colorbar\": {\"outlinewidth\": 0, \"ticks\": \"\"}}, \"marker\": {\"colorbar\": {\"outlinewidth\": 0, \"ticks\": \"\"}}, \"type\": \"scatter3d\"}], \"scattercarpet\": [{\"marker\": {\"colorbar\": {\"outlinewidth\": 0, \"ticks\": \"\"}}, \"type\": \"scattercarpet\"}], \"scattergeo\": [{\"marker\": {\"colorbar\": {\"outlinewidth\": 0, \"ticks\": \"\"}}, \"type\": \"scattergeo\"}], \"scattergl\": [{\"marker\": {\"colorbar\": {\"outlinewidth\": 0, \"ticks\": \"\"}}, \"type\": \"scattergl\"}], \"scattermapbox\": [{\"marker\": {\"colorbar\": {\"outlinewidth\": 0, \"ticks\": \"\"}}, \"type\": \"scattermapbox\"}], \"scatterpolar\": [{\"marker\": {\"colorbar\": {\"outlinewidth\": 0, \"ticks\": \"\"}}, \"type\": \"scatterpolar\"}], \"scatterpolargl\": [{\"marker\": {\"colorbar\": {\"outlinewidth\": 0, \"ticks\": \"\"}}, \"type\": \"scatterpolargl\"}], \"scatterternary\": [{\"marker\": {\"colorbar\": {\"outlinewidth\": 0, \"ticks\": \"\"}}, \"type\": \"scatterternary\"}], \"surface\": [{\"colorbar\": {\"outlinewidth\": 0, \"ticks\": \"\"}, \"colorscale\": [[0.0, \"#0d0887\"], [0.1111111111111111, \"#46039f\"], [0.2222222222222222, \"#7201a8\"], [0.3333333333333333, \"#9c179e\"], [0.4444444444444444, \"#bd3786\"], [0.5555555555555556, \"#d8576b\"], [0.6666666666666666, \"#ed7953\"], [0.7777777777777778, \"#fb9f3a\"], [0.8888888888888888, \"#fdca26\"], [1.0, \"#f0f921\"]], \"type\": \"surface\"}], \"table\": [{\"cells\": {\"fill\": {\"color\": \"#EBF0F8\"}, \"line\": {\"color\": \"white\"}}, \"header\": {\"fill\": {\"color\": \"#C8D4E3\"}, \"line\": {\"color\": \"white\"}}, \"type\": \"table\"}]}, \"layout\": {\"annotationdefaults\": {\"arrowcolor\": \"#2a3f5f\", \"arrowhead\": 0, \"arrowwidth\": 1}, \"coloraxis\": {\"colorbar\": {\"outlinewidth\": 0, \"ticks\": \"\"}}, \"colorscale\": {\"diverging\": [[0, \"#8e0152\"], [0.1, \"#c51b7d\"], [0.2, \"#de77ae\"], [0.3, \"#f1b6da\"], [0.4, \"#fde0ef\"], [0.5, \"#f7f7f7\"], [0.6, \"#e6f5d0\"], [0.7, \"#b8e186\"], [0.8, \"#7fbc41\"], [0.9, \"#4d9221\"], [1, \"#276419\"]], \"sequential\": [[0.0, \"#0d0887\"], [0.1111111111111111, \"#46039f\"], [0.2222222222222222, \"#7201a8\"], [0.3333333333333333, \"#9c179e\"], [0.4444444444444444, \"#bd3786\"], [0.5555555555555556, \"#d8576b\"], [0.6666666666666666, \"#ed7953\"], [0.7777777777777778, \"#fb9f3a\"], [0.8888888888888888, \"#fdca26\"], [1.0, \"#f0f921\"]], \"sequentialminus\": [[0.0, \"#0d0887\"], [0.1111111111111111, \"#46039f\"], [0.2222222222222222, \"#7201a8\"], [0.3333333333333333, \"#9c179e\"], [0.4444444444444444, \"#bd3786\"], [0.5555555555555556, \"#d8576b\"], [0.6666666666666666, \"#ed7953\"], [0.7777777777777778, \"#fb9f3a\"], [0.8888888888888888, \"#fdca26\"], [1.0, \"#f0f921\"]]}, \"colorway\": [\"#636efa\", \"#EF553B\", \"#00cc96\", \"#ab63fa\", \"#FFA15A\", \"#19d3f3\", \"#FF6692\", \"#B6E880\", \"#FF97FF\", \"#FECB52\"], \"font\": {\"color\": \"#2a3f5f\"}, \"geo\": {\"bgcolor\": \"white\", \"lakecolor\": \"white\", \"landcolor\": \"#E5ECF6\", \"showlakes\": true, \"showland\": true, \"subunitcolor\": \"white\"}, \"hoverlabel\": {\"align\": \"left\"}, \"hovermode\": \"closest\", \"mapbox\": {\"style\": \"light\"}, \"paper_bgcolor\": \"white\", \"plot_bgcolor\": \"#E5ECF6\", \"polar\": {\"angularaxis\": {\"gridcolor\": \"white\", \"linecolor\": \"white\", \"ticks\": \"\"}, \"bgcolor\": \"#E5ECF6\", \"radialaxis\": {\"gridcolor\": \"white\", \"linecolor\": \"white\", \"ticks\": \"\"}}, \"scene\": {\"xaxis\": {\"backgroundcolor\": \"#E5ECF6\", \"gridcolor\": \"white\", \"gridwidth\": 2, \"linecolor\": \"white\", \"showbackground\": true, \"ticks\": \"\", \"zerolinecolor\": \"white\"}, \"yaxis\": {\"backgroundcolor\": \"#E5ECF6\", \"gridcolor\": \"white\", \"gridwidth\": 2, \"linecolor\": \"white\", \"showbackground\": true, \"ticks\": \"\", \"zerolinecolor\": \"white\"}, \"zaxis\": {\"backgroundcolor\": \"#E5ECF6\", \"gridcolor\": \"white\", \"gridwidth\": 2, \"linecolor\": \"white\", \"showbackground\": true, \"ticks\": \"\", \"zerolinecolor\": \"white\"}}, \"shapedefaults\": {\"line\": {\"color\": \"#2a3f5f\"}}, \"ternary\": {\"aaxis\": {\"gridcolor\": \"white\", \"linecolor\": \"white\", \"ticks\": \"\"}, \"baxis\": {\"gridcolor\": \"white\", \"linecolor\": \"white\", \"ticks\": \"\"}, \"bgcolor\": \"#E5ECF6\", \"caxis\": {\"gridcolor\": \"white\", \"linecolor\": \"white\", \"ticks\": \"\"}}, \"title\": {\"x\": 0.05}, \"xaxis\": {\"automargin\": true, \"gridcolor\": \"white\", \"linecolor\": \"white\", \"ticks\": \"\", \"title\": {\"standoff\": 15}, \"zerolinecolor\": \"white\", \"zerolinewidth\": 2}, \"yaxis\": {\"automargin\": true, \"gridcolor\": \"white\", \"linecolor\": \"white\", \"ticks\": \"\", \"title\": {\"standoff\": 15}, \"zerolinecolor\": \"white\", \"zerolinewidth\": 2}}}, \"title\": {\"text\": \"Total population by age groups and sex in 2018\"}},\n",
       "                        {\"responsive\": true}\n",
       "                    ).then(function(){\n",
       "                            \n",
       "var gd = document.getElementById('8a0de1ef-b271-4dfa-ac0d-4982694f9e0e');\n",
       "var x = new MutationObserver(function (mutations, observer) {{\n",
       "        var display = window.getComputedStyle(gd).display;\n",
       "        if (!display || display === 'none') {{\n",
       "            console.log([gd, 'removed!']);\n",
       "            Plotly.purge(gd);\n",
       "            observer.disconnect();\n",
       "        }}\n",
       "}});\n",
       "\n",
       "// Listen for the removal of the full notebook cells\n",
       "var notebookContainer = gd.closest('#notebook-container');\n",
       "if (notebookContainer) {{\n",
       "    x.observe(notebookContainer, {childList: true});\n",
       "}}\n",
       "\n",
       "// Listen for the clearing of the current output cell\n",
       "var outputEl = gd.closest('.output');\n",
       "if (outputEl) {{\n",
       "    x.observe(outputEl, {childList: true});\n",
       "}}\n",
       "\n",
       "                        })\n",
       "                };\n",
       "                });\n",
       "            </script>\n",
       "        </div>"
      ]
     },
     "metadata": {},
     "output_type": "display_data"
    }
   ],
   "source": [
    "# Age groups as on https://www.worldometers.info/coronavirus/coronavirus-age-sex-demographics/\n",
    "#80+ years old\n",
    "#70-79 years old\n",
    "#60-69 years old\n",
    "#50-59 years old\n",
    "#40-49 years old\n",
    "#30-39 years old\n",
    "#20-29 years old\n",
    "#10-19 years old\n",
    "#0-9 years old\n",
    "\n",
    "title = \"Total population by age groups and sex in 2018\"\n",
    "\n",
    "pop_pct_female_6569 = 'Population ages 65-69, female (% of female population) in 2018'\n",
    "pop_pct_female_6064 = 'Population ages 60-64, female (% of female population) in 2018'\n",
    "pop_pct_female_5559 = 'Population ages 55-59, female (% of female population) in 2018'\n",
    "pop_pct_female_5054 = 'Population ages 50-54, female (% of female population) in 2018'\n",
    "pop_pct_female_4549 = 'Population ages 45-49, female (% of female population) in 2018'\n",
    "pop_pct_female_4044 = 'Population ages 40-44, female (% of female population) in 2018'\n",
    "pop_pct_female_3539 = 'Population ages 35-39, female (% of female population) in 2018'\n",
    "pop_pct_female_3034 = 'Population ages 30-34, female (% of female population) in 2018'\n",
    "pop_pct_female_2529 = 'Population ages 25-29, female (% of female population) in 2018'\n",
    "pop_pct_female_2024 = 'Population ages 20-24, female (% of female population) in 2018'\n",
    "pop_pct_female_1519 = 'Population ages 15-19, female (% of female population) in 2018'\n",
    "pop_pct_female_1014 = 'Population ages 10-14, female (% of female population) in 2018'\n",
    "pop_pct_female_0509 = 'Population ages 05-09, female (% of female population) in 2018'\n",
    "pop_pct_female_0004 = 'Population ages 00-04, female (% of female population) in 2018'\n",
    "\n",
    "pop_pct_male_6569 = 'Population ages 65-69, male (% of male population) in 2018'\n",
    "pop_pct_male_6064 = 'Population ages 60-64, male (% of male population) in 2018'\n",
    "pop_pct_male_5559 = 'Population ages 55-59, male (% of male population) in 2018'\n",
    "pop_pct_male_5054 = 'Population ages 50-54, male (% of male population) in 2018'\n",
    "pop_pct_male_4549 = 'Population ages 45-49, male (% of male population) in 2018'\n",
    "pop_pct_male_4044 = 'Population ages 40-44, male (% of male population) in 2018'\n",
    "pop_pct_male_3539 = 'Population ages 35-39, male (% of male population) in 2018'\n",
    "pop_pct_male_3034 = 'Population ages 30-34, male (% of male population) in 2018'\n",
    "pop_pct_male_2529 = 'Population ages 25-29, male (% of male population) in 2018'\n",
    "pop_pct_male_2024 = 'Population ages 20-24, male (% of male population) in 2018'\n",
    "pop_pct_male_1519 = 'Population ages 15-19, male (% of male population) in 2018'\n",
    "pop_pct_male_1014 = 'Population ages 10-14, male (% of male population) in 2018'\n",
    "pop_pct_male_0509 = 'Population ages 05-09, male (% of male population) in 2018'\n",
    "pop_pct_male_0004 = 'Population ages 00-04, male (% of male population) in 2018'\n",
    "\n",
    "src_column_names = [pop_tot_column_name,\n",
    "                    pop_pct_female_column_name, pop_pct_male_column_name,\n",
    "                    pop_pct_female_80ff,\n",
    "                    pop_pct_female_7579, pop_pct_female_7074,\n",
    "                    pop_pct_female_6569, pop_pct_female_6064,\n",
    "                    pop_pct_female_5559, pop_pct_female_5054,\n",
    "                    pop_pct_female_4549, pop_pct_female_4044,\n",
    "                    pop_pct_female_3539, pop_pct_female_3034,\n",
    "                    pop_pct_female_2529, pop_pct_female_2024,\n",
    "                    pop_pct_female_1519, pop_pct_female_1014,\n",
    "                    pop_pct_female_0509, pop_pct_female_0004,\n",
    "                    pop_pct_male_80ff,\n",
    "                    pop_pct_male_7579, pop_pct_male_7074,\n",
    "                    pop_pct_male_6569, pop_pct_male_6064,\n",
    "                    pop_pct_male_5559, pop_pct_male_5054,\n",
    "                    pop_pct_male_4549, pop_pct_male_4044,\n",
    "                    pop_pct_male_3539, pop_pct_male_3034,\n",
    "                    pop_pct_male_2529, pop_pct_male_2024,\n",
    "                    pop_pct_male_1519, pop_pct_male_1014,\n",
    "                    pop_pct_male_0509, pop_pct_male_0004]\n",
    "\n",
    "pop_tot_female_80ff_column_name = 'Population ages 80 and above, female in 2018'\n",
    "pop_tot_female_7079_column_name = 'Population ages 70-79, female in 2018'\n",
    "pop_tot_female_6069_column_name = 'Population ages 60-69, female in 2018'\n",
    "pop_tot_female_5059_column_name = 'Population ages 50-59, female in 2018'\n",
    "pop_tot_female_4049_column_name = 'Population ages 40-49, female in 2018'\n",
    "pop_tot_female_3039_column_name = 'Population ages 30-39, female in 2018'\n",
    "pop_tot_female_2029_column_name = 'Population ages 20-29, female in 2018'\n",
    "pop_tot_female_1019_column_name = 'Population ages 10-19, female in 2018'\n",
    "pop_tot_female_0009_column_name = 'Population ages 0-9, female in 2018'\n",
    "\n",
    "pop_tot_male_80ff_column_name = 'Population ages 80 and above, male in 2018'\n",
    "pop_tot_male_7079_column_name = 'Population ages 70-79, male in 2018'\n",
    "pop_tot_male_6069_column_name = 'Population ages 60-69, male in 2018'\n",
    "pop_tot_male_5059_column_name = 'Population ages 50-59, male in 2018'\n",
    "pop_tot_male_4049_column_name = 'Population ages 40-49, male in 2018'\n",
    "pop_tot_male_3039_column_name = 'Population ages 30-39, male in 2018'\n",
    "pop_tot_male_2029_column_name = 'Population ages 20-29, male in 2018'\n",
    "pop_tot_male_1019_column_name = 'Population ages 10-19, male in 2018'\n",
    "pop_tot_male_0009_column_name = 'Population ages 0-9, male in 2018'\n",
    "\n",
    "dst_column_names = [pop_tot_female_80ff_column_name, pop_tot_female_7079_column_name, pop_tot_female_6069_column_name, pop_tot_female_5059_column_name,\n",
    "                    pop_tot_female_4049_column_name, pop_tot_female_3039_column_name, pop_tot_female_2029_column_name, pop_tot_female_1019_column_name, pop_tot_female_0009_column_name,\n",
    "                    pop_tot_male_80ff_column_name, pop_tot_male_7079_column_name, pop_tot_male_6069_column_name, pop_tot_male_5059_column_name, pop_tot_male_4049_column_name,\n",
    "                    pop_tot_male_3039_column_name, pop_tot_male_2029_column_name, pop_tot_male_1019_column_name, pop_tot_male_0009_column_name]\n",
    "\n",
    "df_pop_tot_age_groups_sex = df_country_stats.loc[selected_countries, src_column_names]\n",
    "\n",
    "\n",
    "# sum up within groups\n",
    "df_pop_tot_age_groups_sex[pop_tot_female_80ff_column_name] = df_pop_tot_age_groups_sex[pop_pct_female_80ff]\n",
    "sum_cols_to(df_pop_tot_age_groups_sex, [pop_pct_female_7074, pop_pct_female_7579], pop_tot_female_7079_column_name)\n",
    "sum_cols_to(df_pop_tot_age_groups_sex, [pop_pct_female_6064, pop_pct_female_6569], pop_tot_female_6069_column_name)\n",
    "sum_cols_to(df_pop_tot_age_groups_sex, [pop_pct_female_5054, pop_pct_female_5559], pop_tot_female_5059_column_name)\n",
    "sum_cols_to(df_pop_tot_age_groups_sex, [pop_pct_female_4044, pop_pct_female_4549], pop_tot_female_4049_column_name)\n",
    "sum_cols_to(df_pop_tot_age_groups_sex, [pop_pct_female_3034, pop_pct_female_3539], pop_tot_female_3039_column_name)\n",
    "sum_cols_to(df_pop_tot_age_groups_sex, [pop_pct_female_2024, pop_pct_female_2529], pop_tot_female_2029_column_name)\n",
    "sum_cols_to(df_pop_tot_age_groups_sex, [pop_pct_female_1014, pop_pct_female_1519], pop_tot_female_1019_column_name)\n",
    "sum_cols_to(df_pop_tot_age_groups_sex, [pop_pct_female_0004, pop_pct_female_0509], pop_tot_female_0009_column_name)\n",
    "\n",
    "df_pop_tot_age_groups_sex[pop_tot_male_80ff_column_name] = df_pop_tot_age_groups_sex[pop_pct_male_80ff]\n",
    "sum_cols_to(df_pop_tot_age_groups_sex, [pop_pct_male_7074, pop_pct_male_7579], pop_tot_male_7079_column_name)\n",
    "sum_cols_to(df_pop_tot_age_groups_sex, [pop_pct_male_6064, pop_pct_male_6569], pop_tot_male_6069_column_name)\n",
    "sum_cols_to(df_pop_tot_age_groups_sex, [pop_pct_male_5054, pop_pct_male_5559], pop_tot_male_5059_column_name)\n",
    "sum_cols_to(df_pop_tot_age_groups_sex, [pop_pct_male_4044, pop_pct_male_4549], pop_tot_male_4049_column_name)\n",
    "sum_cols_to(df_pop_tot_age_groups_sex, [pop_pct_male_3034, pop_pct_male_3539], pop_tot_male_3039_column_name)\n",
    "sum_cols_to(df_pop_tot_age_groups_sex, [pop_pct_male_2024, pop_pct_male_2529], pop_tot_male_2029_column_name)\n",
    "sum_cols_to(df_pop_tot_age_groups_sex, [pop_pct_male_1014, pop_pct_male_1519], pop_tot_male_1019_column_name)\n",
    "sum_cols_to(df_pop_tot_age_groups_sex, [pop_pct_male_0004, pop_pct_male_0509], pop_tot_male_0009_column_name)\n",
    "\n",
    "\n",
    "# calculate percent to decimal (divide by 100)\n",
    "def div_by_100_col(df, column):\n",
    "    df[column] = df[column]/100\n",
    "\n",
    "for col in [pop_tot_female_80ff_column_name, pop_tot_female_7079_column_name, pop_tot_female_6069_column_name, pop_tot_female_5059_column_name, pop_tot_female_4049_column_name, \n",
    "            pop_tot_female_3039_column_name, pop_tot_female_2029_column_name, pop_tot_female_1019_column_name, pop_tot_female_0009_column_name,\n",
    "            pop_tot_male_80ff_column_name, pop_tot_male_7079_column_name, pop_tot_male_6069_column_name, pop_tot_male_5059_column_name, pop_tot_male_4049_column_name, \n",
    "            pop_tot_male_3039_column_name, pop_tot_male_2029_column_name, pop_tot_male_1019_column_name, pop_tot_male_0009_column_name]:\n",
    "    div_by_100_col(df_pop_tot_age_groups_sex, col)\n",
    "\n",
    "\n",
    "# get abs from relative\n",
    "def row_rel_to_abs_female(row):\n",
    "    return row[pop_tot_column_name]*row[pop_pct_female_column_name]/100\n",
    "def row_rel_to_abs_male(row):\n",
    "    return row[pop_tot_column_name]*row[pop_pct_male_column_name]/100\n",
    "\n",
    "for col in [pop_tot_female_80ff_column_name, pop_tot_female_7079_column_name, pop_tot_female_6069_column_name, pop_tot_female_5059_column_name, pop_tot_female_4049_column_name, \n",
    "            pop_tot_female_3039_column_name, pop_tot_female_2029_column_name, pop_tot_female_1019_column_name, pop_tot_female_0009_column_name]:\n",
    "    df_pop_tot_age_groups_sex[col] = df_pop_tot_age_groups_sex.apply(lambda row: row[col]*row_rel_to_abs_female(row), axis=1)\n",
    "\n",
    "for col in [pop_tot_male_80ff_column_name, pop_tot_male_7079_column_name, pop_tot_male_6069_column_name, pop_tot_male_5059_column_name, pop_tot_male_4049_column_name, \n",
    "            pop_tot_male_3039_column_name, pop_tot_male_2029_column_name, pop_tot_male_1019_column_name, pop_tot_male_0009_column_name]:\n",
    "    df_pop_tot_age_groups_sex[col] = df_pop_tot_age_groups_sex.apply(lambda row: row[col]*row_rel_to_abs_male(row), axis=1)\n",
    "\n",
    "\n",
    "# select only the output columns\n",
    "df_pop_tot_age_groups_sex = df_pop_tot_age_groups_sex.loc[:, dst_column_names]\n",
    "df_pop_tot_age_groups_sex.sort_values(dst_column_names, axis=0, ascending=False, inplace=True)\n",
    "\n",
    "# generate the graph\n",
    "def add_trace_for_col(fig, df, col, name):\n",
    "    fig.add_trace(go.Bar(x=df.index, y=df[col], name=name))\n",
    "\n",
    "fig_title = title+\" (female only)\"\n",
    "fig = go.Figure()\n",
    "add_trace_for_col(fig, df_pop_tot_age_groups_sex, pop_tot_female_80ff_column_name, \"female 80+\")\n",
    "add_trace_for_col(fig, df_pop_tot_age_groups_sex, pop_tot_female_7079_column_name, \"female 70-79\")\n",
    "add_trace_for_col(fig, df_pop_tot_age_groups_sex, pop_tot_female_6069_column_name, \"female 60-69\")\n",
    "add_trace_for_col(fig, df_pop_tot_age_groups_sex, pop_tot_female_5059_column_name, \"female 50-59\")\n",
    "add_trace_for_col(fig, df_pop_tot_age_groups_sex, pop_tot_female_4049_column_name, \"female 40-49\")\n",
    "add_trace_for_col(fig, df_pop_tot_age_groups_sex, pop_tot_female_3039_column_name, \"female 30-39\")\n",
    "add_trace_for_col(fig, df_pop_tot_age_groups_sex, pop_tot_female_2029_column_name, \"female 20-29\")\n",
    "add_trace_for_col(fig, df_pop_tot_age_groups_sex, pop_tot_female_1019_column_name, \"female 10-19\")\n",
    "add_trace_for_col(fig, df_pop_tot_age_groups_sex, pop_tot_female_0009_column_name, \"female 0-9\")\n",
    "fig.update_layout(title_text=fig_title, barmode='group')\n",
    "#fig.show(\"png\")\n",
    "fig.show()\n",
    "fig.write_image(directory+fig_title+\".png\")\n",
    "\n",
    "fig_title = title+\" (male only)\"\n",
    "fig = go.Figure()\n",
    "add_trace_for_col(fig, df_pop_tot_age_groups_sex, pop_tot_male_80ff_column_name, \"male 80+\")\n",
    "add_trace_for_col(fig, df_pop_tot_age_groups_sex, pop_tot_male_7079_column_name, \"male 70-79\")\n",
    "add_trace_for_col(fig, df_pop_tot_age_groups_sex, pop_tot_male_6069_column_name, \"male 60-69\")\n",
    "add_trace_for_col(fig, df_pop_tot_age_groups_sex, pop_tot_male_5059_column_name, \"male 50-59\")\n",
    "add_trace_for_col(fig, df_pop_tot_age_groups_sex, pop_tot_male_4049_column_name, \"male 40-49\")\n",
    "add_trace_for_col(fig, df_pop_tot_age_groups_sex, pop_tot_male_3039_column_name, \"male 30-39\")\n",
    "add_trace_for_col(fig, df_pop_tot_age_groups_sex, pop_tot_male_2029_column_name, \"male 20-29\")\n",
    "add_trace_for_col(fig, df_pop_tot_age_groups_sex, pop_tot_male_1019_column_name, \"male 10-19\")\n",
    "add_trace_for_col(fig, df_pop_tot_age_groups_sex, pop_tot_male_0009_column_name, \"male 0-9\")\n",
    "fig.update_layout(title_text=fig_title, barmode='group')\n",
    "#fig.show(\"png\")\n",
    "fig.show()\n",
    "fig.write_image(directory+fig_title+\".png\")\n",
    "\n",
    "fig = go.Figure()\n",
    "add_trace_for_col(fig, df_pop_tot_age_groups_sex, pop_tot_female_80ff_column_name, \"female 80+\")\n",
    "add_trace_for_col(fig, df_pop_tot_age_groups_sex, pop_tot_female_7079_column_name, \"female 70-79\")\n",
    "add_trace_for_col(fig, df_pop_tot_age_groups_sex, pop_tot_female_6069_column_name, \"female 60-69\")\n",
    "add_trace_for_col(fig, df_pop_tot_age_groups_sex, pop_tot_female_5059_column_name, \"female 50-59\")\n",
    "add_trace_for_col(fig, df_pop_tot_age_groups_sex, pop_tot_female_4049_column_name, \"female 40-49\")\n",
    "add_trace_for_col(fig, df_pop_tot_age_groups_sex, pop_tot_female_3039_column_name, \"female 30-39\")\n",
    "add_trace_for_col(fig, df_pop_tot_age_groups_sex, pop_tot_female_2029_column_name, \"female 20-29\")\n",
    "add_trace_for_col(fig, df_pop_tot_age_groups_sex, pop_tot_female_1019_column_name, \"female 10-19\")\n",
    "add_trace_for_col(fig, df_pop_tot_age_groups_sex, pop_tot_female_0009_column_name, \"female 0-9\")\n",
    "add_trace_for_col(fig, df_pop_tot_age_groups_sex, pop_tot_male_80ff_column_name, \"male 80+\")\n",
    "add_trace_for_col(fig, df_pop_tot_age_groups_sex, pop_tot_male_7079_column_name, \"male 70-79\")\n",
    "add_trace_for_col(fig, df_pop_tot_age_groups_sex, pop_tot_male_6069_column_name, \"male 60-69\")\n",
    "add_trace_for_col(fig, df_pop_tot_age_groups_sex, pop_tot_male_5059_column_name, \"male 50-59\")\n",
    "add_trace_for_col(fig, df_pop_tot_age_groups_sex, pop_tot_male_4049_column_name, \"male 40-49\")\n",
    "add_trace_for_col(fig, df_pop_tot_age_groups_sex, pop_tot_male_3039_column_name, \"male 30-39\")\n",
    "add_trace_for_col(fig, df_pop_tot_age_groups_sex, pop_tot_male_2029_column_name, \"male 20-29\")\n",
    "add_trace_for_col(fig, df_pop_tot_age_groups_sex, pop_tot_male_1019_column_name, \"male 10-19\")\n",
    "add_trace_for_col(fig, df_pop_tot_age_groups_sex, pop_tot_male_0009_column_name, \"male 0-9\")\n",
    "fig.update_layout(title_text=title, barmode='group')\n",
    "#fig.show(\"png\")\n",
    "fig.show()\n",
    "fig.write_image(directory+title+\".png\")\n",
    "\n",
    "io.saveDataCsv(df_pop_tot_age_groups_sex, directory, title)"
   ]
  },
  {
   "cell_type": "code",
   "execution_count": null,
   "metadata": {},
   "outputs": [],
   "source": []
  }
 ],
 "metadata": {
  "kernelspec": {
   "display_name": "Python 3",
   "language": "python",
   "name": "python3"
  },
  "language_info": {
   "codemirror_mode": {
    "name": "ipython",
    "version": 3
   },
   "file_extension": ".py",
   "mimetype": "text/x-python",
   "name": "python",
   "nbconvert_exporter": "python",
   "pygments_lexer": "ipython3",
   "version": "3.7.3"
  }
 },
 "nbformat": 4,
 "nbformat_minor": 4
}
